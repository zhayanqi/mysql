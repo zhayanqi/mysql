{
 "cells": [
  {
   "cell_type": "markdown",
   "metadata": {},
   "source": [
    "# 数学函数、字符串和对象\n",
    "## 本章介绍Python函数来执行常见的数学运算\n",
    "- 函数是完成一个特殊任务的一组语句，可以理解为一个函数相当于一个小功能，但是在开发中，需要注意一个函数的长度最好不要超过一屏\n",
    "- Python中的内置函数是不需要Import导入的\n",
    "<img src=\"../Photo/15.png\"></img>"
   ]
  },
  {
   "cell_type": "code",
   "execution_count": 2,
   "metadata": {},
   "outputs": [
    {
     "name": "stdout",
     "output_type": "stream",
     "text": [
      "1\n"
     ]
    }
   ],
   "source": [
    "a = -1\n",
    "print(abs(a))"
   ]
  },
  {
   "cell_type": "code",
   "execution_count": 3,
   "metadata": {},
   "outputs": [
    {
     "data": {
      "text/plain": [
       "5"
      ]
     },
     "execution_count": 3,
     "metadata": {},
     "output_type": "execute_result"
    }
   ],
   "source": [
    "max(1,2,3,4,5)"
   ]
  },
  {
   "cell_type": "code",
   "execution_count": 4,
   "metadata": {},
   "outputs": [
    {
     "data": {
      "text/plain": [
       "-2"
      ]
     },
     "execution_count": 4,
     "metadata": {},
     "output_type": "execute_result"
    }
   ],
   "source": [
    "min(1,-2,3,4)"
   ]
  },
  {
   "cell_type": "code",
   "execution_count": 5,
   "metadata": {},
   "outputs": [
    {
     "data": {
      "text/plain": [
       "4"
      ]
     },
     "execution_count": 5,
     "metadata": {},
     "output_type": "execute_result"
    }
   ],
   "source": [
    "max(1,1,2,3,4,4)"
   ]
  },
  {
   "cell_type": "code",
   "execution_count": 6,
   "metadata": {},
   "outputs": [
    {
     "data": {
      "text/plain": [
       "1024"
      ]
     },
     "execution_count": 6,
     "metadata": {},
     "output_type": "execute_result"
    }
   ],
   "source": [
    "pow(4,5)\n",
    "# 取幂"
   ]
  },
  {
   "cell_type": "code",
   "execution_count": 7,
   "metadata": {},
   "outputs": [
    {
     "data": {
      "text/plain": [
       "0"
      ]
     },
     "execution_count": 7,
     "metadata": {},
     "output_type": "execute_result"
    }
   ],
   "source": [
    "pow(4,5,2)"
   ]
  },
  {
   "cell_type": "markdown",
   "metadata": {},
   "source": [
    "## 尝试练习Python内置函数"
   ]
  },
  {
   "cell_type": "markdown",
   "metadata": {},
   "source": [
    "## Python中的math模块提供了许多数学函数\n",
    "<img src=\"../Photo/16.png\"></img>\n",
    "<img src=\"../Photo/17.png\"></img>\n"
   ]
  },
  {
   "cell_type": "code",
   "execution_count": 9,
   "metadata": {},
   "outputs": [],
   "source": [
    "import math"
   ]
  },
  {
   "cell_type": "code",
   "execution_count": 14,
   "metadata": {},
   "outputs": [
    {
     "name": "stdout",
     "output_type": "stream",
     "text": [
      "Wall time: 0 ns\n",
      "10.0\n"
     ]
    }
   ],
   "source": [
    "%time\n",
    "a = 10\n",
    "res = math.fabs(a)\n",
    "print (res)"
   ]
  },
  {
   "cell_type": "code",
   "execution_count": 18,
   "metadata": {},
   "outputs": [
    {
     "name": "stdout",
     "output_type": "stream",
     "text": [
      "24.0\n"
     ]
    }
   ],
   "source": [
    "x = -12\n",
    "# 对2x中的x取绝对值\n",
    "y = math.fabs(2*x)\n",
    "print(y)"
   ]
  },
  {
   "cell_type": "code",
   "execution_count": 17,
   "metadata": {},
   "outputs": [
    {
     "name": "stdout",
     "output_type": "stream",
     "text": [
      "given a number-12\n",
      "24.0\n"
     ]
    }
   ],
   "source": [
    "x = eval(input('given a number'))\n",
    "res = math.fabs(2*x)\n",
    "print(res)"
   ]
  },
  {
   "cell_type": "code",
   "execution_count": 16,
   "metadata": {},
   "outputs": [
    {
     "name": "stdout",
     "output_type": "stream",
     "text": [
      "Wall time: 0 ns\n",
      "10\n"
     ]
    }
   ],
   "source": [
    "%time\n",
    "a = 10\n",
    "res = abs(a)\n",
    "print (res)"
   ]
  },
  {
   "cell_type": "code",
   "execution_count": 20,
   "metadata": {},
   "outputs": [
    {
     "name": "stdout",
     "output_type": "stream",
     "text": [
      "-2\n"
     ]
    }
   ],
   "source": [
    "b = -2.3\n",
    "res = math.ceil(b)\n",
    "#向上取整\n",
    "print(res)"
   ]
  },
  {
   "cell_type": "code",
   "execution_count": 21,
   "metadata": {},
   "outputs": [
    {
     "name": "stdout",
     "output_type": "stream",
     "text": [
      "3\n"
     ]
    }
   ],
   "source": [
    "b = 3.5\n",
    "res = math.floor(b)\n",
    "# 向下取整\n",
    "print(res)"
   ]
  },
  {
   "cell_type": "code",
   "execution_count": 22,
   "metadata": {},
   "outputs": [
    {
     "name": "stdout",
     "output_type": "stream",
     "text": [
      "20.085536923187668\n"
     ]
    }
   ],
   "source": [
    "c = 3\n",
    "d = math.exp(c)\n",
    "print(d)\n",
    "#幂函数"
   ]
  },
  {
   "cell_type": "code",
   "execution_count": 24,
   "metadata": {},
   "outputs": [
    {
     "name": "stdout",
     "output_type": "stream",
     "text": [
      "1.0\n"
     ]
    }
   ],
   "source": [
    "e = 2\n",
    "f = math.log(e,2)\n",
    "print(f)\n",
    "#求对数"
   ]
  },
  {
   "cell_type": "code",
   "execution_count": 25,
   "metadata": {},
   "outputs": [
    {
     "data": {
      "text/plain": [
       "2.0"
      ]
     },
     "execution_count": 25,
     "metadata": {},
     "output_type": "execute_result"
    }
   ],
   "source": [
    "math.sqrt(4)"
   ]
  },
  {
   "cell_type": "code",
   "execution_count": 27,
   "metadata": {},
   "outputs": [
    {
     "data": {
      "text/plain": [
       "1.0"
      ]
     },
     "execution_count": 27,
     "metadata": {},
     "output_type": "execute_result"
    }
   ],
   "source": [
    "math.sin(math.radians(90))\n",
    "#先从里边运行后运行外边   嵌套式"
   ]
  },
  {
   "cell_type": "code",
   "execution_count": 28,
   "metadata": {},
   "outputs": [
    {
     "data": {
      "text/plain": [
       "1.0"
      ]
     },
     "execution_count": 28,
     "metadata": {},
     "output_type": "execute_result"
    }
   ],
   "source": [
    "rad = math.radians(90)\n",
    "math.sin(rad)"
   ]
  },
  {
   "cell_type": "markdown",
   "metadata": {},
   "source": [
    "## 两个数学常量PI和e，可以通过使用math.pi 和math.e调用"
   ]
  },
  {
   "cell_type": "code",
   "execution_count": 29,
   "metadata": {},
   "outputs": [
    {
     "data": {
      "text/plain": [
       "3.141592653589793"
      ]
     },
     "execution_count": 29,
     "metadata": {},
     "output_type": "execute_result"
    }
   ],
   "source": [
    "math.pi"
   ]
  },
  {
   "cell_type": "markdown",
   "metadata": {},
   "source": [
    "## EP:\n",
    "- 通过math库，写一个程序，使得用户输入三个顶点(x,y)返回三个角度\n",
    "- 注意：Python计算角度为弧度制，需要将其转换为角度\n",
    "<img src=\"../Photo/18.png\">"
   ]
  },
  {
   "cell_type": "code",
   "execution_count": 35,
   "metadata": {},
   "outputs": [
    {
     "name": "stdout",
     "output_type": "stream",
     "text": [
      "44.999999999999986 44.999999999999986 90.00000000000001\n"
     ]
    }
   ],
   "source": [
    "a = 1\n",
    "b = 1\n",
    "c = math.sqrt(2)\n",
    "#a = eval(input('bianchang1'))\n",
    "#b = eval(input('bianchang2'))\n",
    "#c = eval(input('dibain'))\n",
    "A = math.acos((math.pow(a,2)-math.pow(b,2)-math.pow(c,2))/(-2*b*c))\n",
    "B = math.acos((math.pow(b,2)-math.pow(a,2)-math.pow(c,2))/(-2*a*c))\n",
    "C = math.acos((math.pow(c,2)-math.pow(b,2)-math.pow(a,2))/(-2*b*a))\n",
    "A = math.degrees(A)\n",
    "B = math.degrees(B)\n",
    "C = math.degrees(C)\n",
    "print(A,B,C)"
   ]
  },
  {
   "cell_type": "code",
   "execution_count": 37,
   "metadata": {},
   "outputs": [
    {
     "name": "stdout",
     "output_type": "stream",
     "text": [
      "bian11\n",
      "bian21\n",
      "di1\n",
      "60.00000000000001 60.00000000000001 60.00000000000001\n"
     ]
    }
   ],
   "source": [
    "a = eval(input('bian1'))\n",
    "b = eval(input('bian2'))\n",
    "c = eval(input('di'))\n",
    "A_1 = math.pow(a,2)-math.pow(b,2)-math.pow(c,2)\n",
    "A_2 = -2*b*c\n",
    "A = math.acos(A_1/A_2)\n",
    "B_1 = math.pow(b,2)-math.pow(a,2)-math.pow(c,2)\n",
    "B_2 = -2*a*c \n",
    "B = math.acos(B_1/B_2)\n",
    "C_1 = math.pow(c,2)-math.pow(b,2)-math.pow(a,2)\n",
    "C_2 = -2*b*a\n",
    "C = math.acos(C_1/C_2)\n",
    "A = math.degrees(A)\n",
    "B = math.degrees(B)\n",
    "C = math.degrees(C)\n",
    "print(A,B,C)"
   ]
  },
  {
   "cell_type": "code",
   "execution_count": 41,
   "metadata": {},
   "outputs": [
    {
     "name": "stdout",
     "output_type": "stream",
     "text": [
      "90.00000000000001 44.999999999999986 44.999999999999986\n"
     ]
    }
   ],
   "source": [
    "#x1,y1 = eval(input('x1','y1'))\n",
    "#x2,y2 = eval(input('x1','y1'))\n",
    "#x3,y3= eval(input('x1','y1'))\n",
    "x1,y1 = 0,0\n",
    "x2,y2 = 1,0\n",
    "x3,y3 = 0,1\n",
    "a = math.sqrt((x2-x3)**2+(y2-y3)**2)\n",
    "b = math.sqrt((x3-x1)**2+(y3-y1)**2)\n",
    "c = math.sqrt((x2-x1)**2+(y2-y1)**2)\n",
    "A_1 = math.pow(a,2)-math.pow(b,2)-math.pow(c,2)\n",
    "A_2 = -2*b*c\n",
    "A = math.acos(A_1/A_2)\n",
    "B_1 = math.pow(b,2)-math.pow(a,2)-math.pow(c,2)\n",
    "B_2 = -2*a*c \n",
    "B = math.acos(B_1/B_2)\n",
    "C_1 = math.pow(c,2)-math.pow(b,2)-math.pow(a,2)\n",
    "C_2 = -2*b*a\n",
    "C = math.acos(C_1/C_2)\n",
    "A = math.degrees(A)\n",
    "B = math.degrees(B)\n",
    "C = math.degrees(C)\n",
    "print(A,B,C)"
   ]
  },
  {
   "cell_type": "code",
   "execution_count": 43,
   "metadata": {},
   "outputs": [
    {
     "name": "stdout",
     "output_type": "stream",
     "text": [
      "请输入第一个坐标0,0\n",
      "请输入第二个坐标1,0\n",
      "请输入第三个坐标0,1\n",
      "90.00000000000001 44.999999999999986 44.999999999999986\n"
     ]
    }
   ],
   "source": [
    "x1,y1 = eval(input('请输入第一个坐标'))\n",
    "x2,y2 = eval(input('请输入第二个坐标'))\n",
    "x3,y3 = eval(input('请输入第三个坐标'))\n",
    "a = math.sqrt((x2-x3)**2+(y2-y3)**2)\n",
    "b = math.sqrt((x3-x1)**2+(y3-y1)**2)\n",
    "c = math.sqrt((x2-x1)**2+(y2-y1)**2)\n",
    "A_1 = math.pow(a,2)-math.pow(b,2)-math.pow(c,2)\n",
    "A_2 = -2*b*c\n",
    "A = math.acos(A_1/A_2)\n",
    "B_1 = math.pow(b,2)-math.pow(a,2)-math.pow(c,2)\n",
    "B_2 = -2*a*c \n",
    "B = math.acos(B_1/B_2)\n",
    "C_1 = math.pow(c,2)-math.pow(b,2)-math.pow(a,2)\n",
    "C_2 = -2*b*a\n",
    "C = math.acos(C_1/C_2)\n",
    "A = math.degrees(A)\n",
    "B = math.degrees(B)\n",
    "C = math.degrees(C)\n",
    "print(A,B,C)"
   ]
  },
  {
   "cell_type": "markdown",
   "metadata": {},
   "source": [
    "## 字符串和字符\n",
    "- 在Python中，字符串必须是在单引号或者双引号内，在多段换行的字符串中可以使用“”“\n",
    "- 在使用”“”时，给予其变量则变为字符串，否则当多行注释使用"
   ]
  },
  {
   "cell_type": "code",
   "execution_count": 44,
   "metadata": {},
   "outputs": [
    {
     "name": "stdout",
     "output_type": "stream",
     "text": [
      "<class 'str'>\n"
     ]
    }
   ],
   "source": [
    "a = 'yr'\n",
    "print(type(a))\n",
    "# 单引号和双引号代表字符串"
   ]
  },
  {
   "cell_type": "code",
   "execution_count": 46,
   "metadata": {},
   "outputs": [
    {
     "name": "stdout",
     "output_type": "stream",
     "text": [
      "<class 'str'>\n"
     ]
    }
   ],
   "source": [
    "a = \"\"\"joker\n",
    "is\n",
    "a\n",
    "good\n",
    "man\n",
    "\"\"\"\n",
    "print(type(a))\n",
    "#  三引号可以进行换行，可以加单、双引号；同时三引号可以当文本使用\n",
    "#  当不给予变量时，三引号当注释作用"
   ]
  },
  {
   "cell_type": "code",
   "execution_count": 2,
   "metadata": {},
   "outputs": [
    {
     "data": {
      "text/plain": [
       "'joker\\nis\\na\\ngood\\nman\\n'"
      ]
     },
     "execution_count": 2,
     "metadata": {},
     "output_type": "execute_result"
    }
   ],
   "source": [
    "\"\"\"joker\n",
    "is\n",
    "a\n",
    "good\n",
    "man\n",
    "\"\"\"\n",
    "# 当注释"
   ]
  },
  {
   "cell_type": "markdown",
   "metadata": {},
   "source": [
    "## ASCII码与Unicode码\n",
    "- <img src=\"../Photo/19.png\"></img>\n",
    "- <img src=\"../Photo/20.png\"></img>\n",
    "- <img src=\"../Photo/21.png\"></img>"
   ]
  },
  {
   "cell_type": "markdown",
   "metadata": {},
   "source": [
    "## 函数ord、chr\n",
    "- ord 返回ASCII码值\n",
    "- chr 返回字符"
   ]
  },
  {
   "cell_type": "code",
   "execution_count": 7,
   "metadata": {},
   "outputs": [
    {
     "data": {
      "text/plain": [
       "97"
      ]
     },
     "execution_count": 7,
     "metadata": {},
     "output_type": "execute_result"
    }
   ],
   "source": [
    "ord('a')"
   ]
  },
  {
   "cell_type": "code",
   "execution_count": 8,
   "metadata": {},
   "outputs": [
    {
     "data": {
      "text/plain": [
       "'a'"
      ]
     },
     "execution_count": 8,
     "metadata": {},
     "output_type": "execute_result"
    }
   ],
   "source": [
    "chr(97)"
   ]
  },
  {
   "cell_type": "markdown",
   "metadata": {},
   "source": [
    "## EP:\n",
    "- 利用ord与chr进行简单邮箱加密"
   ]
  },
  {
   "cell_type": "code",
   "execution_count": 22,
   "metadata": {},
   "outputs": [
    {
     "data": {
      "text/plain": [
       "'123456789@qq.com'"
      ]
     },
     "execution_count": 22,
     "metadata": {},
     "output_type": "execute_result"
    }
   ],
   "source": [
    "chr(49)+chr(50)+chr(51)+chr(52)+chr(53)+chr(54)+chr(55)+chr(56)+chr(57)+chr(64)+chr(113)+chr(113)+chr(46)+chr(99)+chr(111)+chr(109)"
   ]
  },
  {
   "cell_type": "code",
   "execution_count": 24,
   "metadata": {},
   "outputs": [
    {
     "data": {
      "text/plain": [
       "'>'"
      ]
     },
     "execution_count": 24,
     "metadata": {},
     "output_type": "execute_result"
    }
   ],
   "source": [
    "chr(ord('a') - 35)"
   ]
  },
  {
   "cell_type": "code",
   "execution_count": 26,
   "metadata": {},
   "outputs": [
    {
     "name": "stdout",
     "output_type": "stream",
     "text": [
      "ke\n"
     ]
    }
   ],
   "source": [
    "a = chr(ord('a')+10)\n",
    "b = chr(ord('b')+3)\n",
    "print(a+b)\n"
   ]
  },
  {
   "cell_type": "markdown",
   "metadata": {},
   "source": [
    "## 转义序列 \\\n",
    "- a = \"He said,\"Johon's program is easy to read\"\n",
    "- 转掉它原来的意思\n",
    "- 一般情况下只有当语句与默认方法相撞的时候，就需要转义"
   ]
  },
  {
   "cell_type": "code",
   "execution_count": 6,
   "metadata": {},
   "outputs": [
    {
     "data": {
      "text/plain": [
       "'he said ,\"johon\\'s program is easy to read'"
      ]
     },
     "execution_count": 6,
     "metadata": {},
     "output_type": "execute_result"
    }
   ],
   "source": [
    "a = \"he said ,\\\"johon's program is easy to read\"\n",
    "a"
   ]
  },
  {
   "cell_type": "markdown",
   "metadata": {},
   "source": [
    "1.三引号和单、双引号的区别是：\n",
    "\n",
    "-三引号内可以使用换行，单、双引号\n",
    "\n",
    "-三引号如果不加变量的话，代表是注释（可以换行注释）\n",
    "\n",
    "2.单、双引号内是不可以加入单、双引号的，但可以加入双、单引号\n",
    "\n",
    "3.如果非要头铁，可以使用“\\”（转移字符），表示转掉它原来的意思"
   ]
  },
  {
   "cell_type": "markdown",
   "metadata": {},
   "source": [
    "## 高级print\n",
    "- 参数 end： 以什么方式结束打印\n",
    "- 默认换行打印"
   ]
  },
  {
   "cell_type": "code",
   "execution_count": 27,
   "metadata": {},
   "outputs": [
    {
     "name": "stdout",
     "output_type": "stream",
     "text": [
      "joker\n",
      "hahaha\n"
     ]
    }
   ],
   "source": [
    "print('joker')\n",
    "print('hahaha')"
   ]
  },
  {
   "cell_type": "code",
   "execution_count": 28,
   "metadata": {},
   "outputs": [
    {
     "name": "stdout",
     "output_type": "stream",
     "text": [
      "joker---hahaha\n"
     ]
    }
   ],
   "source": [
    "print('joker',end='---')\n",
    "print('hahaha')"
   ]
  },
  {
   "cell_type": "code",
   "execution_count": 29,
   "metadata": {},
   "outputs": [
    {
     "name": "stdout",
     "output_type": "stream",
     "text": [
      "joker***is***hahaha\n"
     ]
    }
   ],
   "source": [
    "print('joker','is','hahaha',sep='***')\n"
   ]
  },
  {
   "cell_type": "code",
   "execution_count": 36,
   "metadata": {},
   "outputs": [
    {
     "name": "stdout",
     "output_type": "stream",
     "text": [
      "5/5\r"
     ]
    }
   ],
   "source": [
    "import sys,time\n",
    "\n",
    "for i in range(5):\n",
    "    sys.stdout.write('{0}/5\\r'.format(i+1))\n",
    "    sys.stdout.flush( )\n",
    "    time.sleep(1)\n"
   ]
  },
  {
   "cell_type": "code",
   "execution_count": 40,
   "metadata": {},
   "outputs": [
    {
     "name": "stdout",
     "output_type": "stream",
     "text": [
      " 1/1002/1003/1004/1005/1006/1007/1008/1009/10010/10011/10012/10013/10014/10015/10016/10017/10018/10019/10020/10021/10022/10023/10024/10025/10026/10027/10028/10029/10030/10031/10032/10033/10034/10035/10036/10037/10038/10039/10040/10041/10042/10043/10044/10045/10046/10047/10048/10049/10050/10051/10052/10053/10054/10055/10056/10057/10058/10059/10060/10061/10062/10063/10064/10065/10066/10067/10068/10069/10070/10071/10072/10073/10074/10075/10076/10077/10078/10079/10080/10081/10082/10083/10084/10085/10086/10087/10088/10089/10090/10091/10092/10093/10094/10095/10096/10097/10098/10099/100"
     ]
    }
   ],
   "source": [
    "import sys,time\n",
    "\n",
    "for i in range(100):\n",
    "    print('{}/{}\\r'.format(i,100),flush=True,end=' ')\n",
    "    time.sleep(1)"
   ]
  },
  {
   "cell_type": "markdown",
   "metadata": {},
   "source": [
    "## 函数str\n",
    "- 将类型强制转换成字符串类型\n",
    "- 其他一些以后会学到(list,set,tuple...)"
   ]
  },
  {
   "cell_type": "markdown",
   "metadata": {},
   "source": [
    "## 字符串连接操作\n",
    "- 直接使用 “+” \n",
    "- join() 函数 "
   ]
  },
  {
   "cell_type": "markdown",
   "metadata": {},
   "source": [
    "## EP：\n",
    "- 将 “Welcome” “to” \"Python\" 拼接\n",
    "- 将int型 100 与 “joker is a bad man” 拼接\n",
    "- 从控制台读取字符串\n",
    "> 输入一个名字返回夸奖此人"
   ]
  },
  {
   "cell_type": "code",
   "execution_count": 35,
   "metadata": {},
   "outputs": [
    {
     "name": "stdout",
     "output_type": "stream",
     "text": [
      "welcometopython\n"
     ]
    }
   ],
   "source": [
    "a = 'welcome'\n",
    "b = 'to'\n",
    "c = 'python'\n",
    "print(a + b + c)"
   ]
  },
  {
   "cell_type": "code",
   "execution_count": 1,
   "metadata": {},
   "outputs": [
    {
     "name": "stdout",
     "output_type": "stream",
     "text": [
      "joker is a bad man100\n"
     ]
    }
   ],
   "source": [
    "x = ('joker is a bad man')\n",
    "x1 = str(100)\n",
    "print(x+x1)"
   ]
  },
  {
   "cell_type": "code",
   "execution_count": 2,
   "metadata": {},
   "outputs": [
    {
     "name": "stdout",
     "output_type": "stream",
     "text": [
      "Namezyr\n",
      "zyr 真美\n"
     ]
    }
   ],
   "source": [
    "name = input('Name')\n",
    "print(name,'真美')"
   ]
  },
  {
   "cell_type": "markdown",
   "metadata": {},
   "source": [
    "## 实例研究：最小数量硬币\n",
    "- 开发一个程序，让用户输入总金额，这是一个用美元和美分表示的浮点值，返回一个由美元、两角五分的硬币、一角的硬币、五分硬币、以及美分个数\n",
    "<img src=\"../Photo/22.png\"></img>"
   ]
  },
  {
   "cell_type": "markdown",
   "metadata": {},
   "source": [
    "- Python弱项，对于浮点型的处理并不是很好，但是处理数据的时候使用的是Numpy类型\n",
    "<img src=\"../Photo/23.png\"></img>"
   ]
  },
  {
   "cell_type": "markdown",
   "metadata": {},
   "source": [
    "## id与type\n",
    "- id 查看内存地址，在判断语句中将会使用\n",
    "- type 查看元素类型"
   ]
  },
  {
   "cell_type": "markdown",
   "metadata": {},
   "source": [
    "## 其他格式化语句见书"
   ]
  },
  {
   "cell_type": "markdown",
   "metadata": {},
   "source": [
    "# Homework\n",
    "- 1\n",
    "<img src=\"../Photo/24.png\"><img>\n",
    "<img src=\"../Photo/25.png\"><img>"
   ]
  },
  {
   "cell_type": "code",
   "execution_count": null,
   "metadata": {},
   "outputs": [],
   "source": [
    "import math"
   ]
  },
  {
   "cell_type": "code",
   "execution_count": 13,
   "metadata": {},
   "outputs": [
    {
     "name": "stdout",
     "output_type": "stream",
     "text": [
      "请输入中心距离5.5\n",
      "71.923649044821\n"
     ]
    }
   ],
   "source": [
    "r = eval(input('请输入中心距离'))\n",
    "s = 2 * r * (math.sin(math.pi/5))\n",
    "A1 = 5 * s * s\n",
    "A2 = 4 * math.tan(math.pi/5)\n",
    "Area = A1/A2\n",
    "print(Area)"
   ]
  },
  {
   "cell_type": "markdown",
   "metadata": {},
   "source": [
    "- 2\n",
    "<img src=\"../Photo/26.png\"><img>"
   ]
  },
  {
   "cell_type": "code",
   "execution_count": 20,
   "metadata": {},
   "outputs": [
    {
     "name": "stdout",
     "output_type": "stream",
     "text": [
      "请输入经度39.55,-116.25\n",
      "请输入纬度41.5,87.37\n",
      "10691.77505037424 km\n"
     ]
    }
   ],
   "source": [
    "x1,y1 = eval(input('请输入经度'))\n",
    "x2,y2 = eval(input('请输入纬度'))\n",
    "d1 = math.sin(math.radians(x1)) * math.sin(math.radians(x2))\n",
    "d2 = math.cos(math.radians(x1)) * math.cos(math.radians(x2)) * math.cos(math.radians(y1-y2))\n",
    "d3 = math.acos(d1 + d2)\n",
    "d = 6371.0 * d3\n",
    "print(d,\"km\")"
   ]
  },
  {
   "cell_type": "markdown",
   "metadata": {},
   "source": [
    "- 3\n",
    "<img src=\"../Photo/27.png\"><img>"
   ]
  },
  {
   "cell_type": "code",
   "execution_count": 22,
   "metadata": {},
   "outputs": [
    {
     "name": "stdout",
     "output_type": "stream",
     "text": [
      "请输入边长5.5\n",
      "The area of the pentagon is 52.044441367816255\n"
     ]
    }
   ],
   "source": [
    "s = eval(input('请输入边长'))\n",
    "A1 = 5 * s ** 2\n",
    "A2 = 4 * math.tan(math.pi/5)\n",
    "Area = A1/A2\n",
    "print('The area of the pentagon is',Area)"
   ]
  },
  {
   "cell_type": "markdown",
   "metadata": {},
   "source": [
    "- 4\n",
    "<img src=\"../Photo/28.png\"><img>"
   ]
  },
  {
   "cell_type": "code",
   "execution_count": 26,
   "metadata": {},
   "outputs": [
    {
     "name": "stdout",
     "output_type": "stream",
     "text": [
      "请输入正多边形边数5\n",
      "请输入边长6.5\n",
      "The area of the pentagon is 72.69017017488386\n"
     ]
    }
   ],
   "source": [
    "n = eval(input('请输入正多边形边数'))\n",
    "s = eval(input('请输入边长'))\n",
    "A1 = n * s ** 2\n",
    "A2 = 4 * math.tan(math.pi/n)\n",
    "Area = A1/A2\n",
    "print('The area of the pentagon is',Area)"
   ]
  },
  {
   "cell_type": "markdown",
   "metadata": {},
   "source": [
    "- 5\n",
    "<img src=\"../Photo/29.png\"><img>\n",
    "<img src=\"../Photo/30.png\"><img>"
   ]
  },
  {
   "cell_type": "code",
   "execution_count": 24,
   "metadata": {},
   "outputs": [
    {
     "name": "stdout",
     "output_type": "stream",
     "text": [
      "请输入整数69\n"
     ]
    },
    {
     "data": {
      "text/plain": [
       "'E'"
      ]
     },
     "execution_count": 24,
     "metadata": {},
     "output_type": "execute_result"
    }
   ],
   "source": [
    "a = eval(input('请输入整数'))\n",
    "chr(a)"
   ]
  },
  {
   "cell_type": "markdown",
   "metadata": {},
   "source": [
    "- 6\n",
    "<img src=\"../Photo/31.png\"><img>"
   ]
  },
  {
   "cell_type": "code",
   "execution_count": 22,
   "metadata": {},
   "outputs": [
    {
     "name": "stdout",
     "output_type": "stream",
     "text": [
      "employee nameSmith\n",
      "hours10\n",
      "rate9.75\n",
      "fed0.20\n",
      "state0.09\n",
      "Smith\n",
      "10\n",
      "9.75\n",
      "0.2\n",
      "0.09\n",
      "97.5\n",
      "Deductions:\n",
      "Federal Withholding(20.0%): 19.5\n",
      "State Withholding(9.0%): 8.775\n",
      "Total Deduction: 28.275\n",
      "69.225\n"
     ]
    }
   ],
   "source": [
    "name = input('employee name')#名字\n",
    "hours = eval(input('hours'))# 时间/小时\n",
    "rate = eval(input('rate'))# 每小时的报酬\n",
    "fed = eval(input('fed'))# 联邦预扣税率\n",
    "state = eval(input('state'))# 州预扣税率\n",
    "gross = hours * rate # 总工资（未扣税）\n",
    "fed_1 = fed * gross # 扣除联邦预扣税费\n",
    "state_1 = state * gross #扣除州预扣税费\n",
    "net = eval('gross-fed_1-state_1')# 总体-应扣税费\n",
    "tot = fed_1+state_1 # 应扣税费总和\n",
    "print(name)\n",
    "print(hours)\n",
    "print(rate)\n",
    "print(fed)\n",
    "print(state)\n",
    "print(gross)\n",
    "print('Deductions:')\n",
    "print('Federal Withholding(20.0%):',fed_1)\n",
    "print('State Withholding(9.0%):',state_1)\n",
    "print('Total Deduction:',tot)\n",
    "print(net)"
   ]
  },
  {
   "cell_type": "code",
   "execution_count": 25,
   "metadata": {},
   "outputs": [
    {
     "name": "stdout",
     "output_type": "stream",
     "text": [
      "employee nameSmith\n",
      "hours10\n",
      "rate9.75\n",
      "fed0.20\n",
      "state0.09\n",
      "Smith\n",
      "10\n",
      "9.75\n",
      "0.2\n",
      "0.09\n",
      "97.5\n",
      "Deductions:\n",
      "Federal Withholding(20.0%): 19.5\n",
      "State Withholding(9.0%): 8.775\n",
      "Total Deduction: 28.275\n",
      "69.225\n"
     ]
    }
   ],
   "source": [
    "name = input('employee name')#名字\n",
    "hours = eval(input('hours'))# 时间/小时\n",
    "rate = eval(input('rate'))# 每小时的报酬\n",
    "fed = eval(input('fed'))# 联邦预扣税率\n",
    "state = eval(input('state'))# 州预扣税率\n",
    "gross = hours * rate # 总工资（未扣税）\n",
    "fed_1 = fed * gross # 扣除联邦预扣税费\n",
    "state_1 = state * gross #扣除州预扣税费\n",
    "tot = fed_1+state_1 # 应扣税费总和\n",
    "net = gross - tot\n",
    "print(name)\n",
    "print(hours)\n",
    "print(rate)\n",
    "print(fed)\n",
    "print(state)\n",
    "print(gross)\n",
    "print('Deductions:')\n",
    "print('Federal Withholding(20.0%):',fed_1)\n",
    "print('State Withholding(9.0%):',state_1)\n",
    "print('Total Deduction:',tot)\n",
    "print(net)"
   ]
  },
  {
   "cell_type": "markdown",
   "metadata": {},
   "source": [
    "- 7\n",
    "<img src=\"../Photo/32.png\"><img>"
   ]
  },
  {
   "cell_type": "code",
   "execution_count": null,
   "metadata": {},
   "outputs": [],
   "source": [
    "\n",
    "\n"
   ]
  },
  {
   "cell_type": "markdown",
   "metadata": {},
   "source": [
    "- 8 进阶：\n",
    "> 加密一串文本，并将解密后的文件写入本地保存"
   ]
  },
  {
   "cell_type": "code",
   "execution_count": null,
   "metadata": {},
   "outputs": [],
   "source": []
  },
  {
   "cell_type": "code",
   "execution_count": null,
   "metadata": {},
   "outputs": [],
   "source": []
  },
  {
   "cell_type": "code",
   "execution_count": null,
   "metadata": {},
   "outputs": [],
   "source": []
  },
  {
   "cell_type": "code",
   "execution_count": null,
   "metadata": {},
   "outputs": [],
   "source": []
  }
 ],
 "metadata": {
  "kernelspec": {
   "display_name": "Python 3",
   "language": "python",
   "name": "python3"
  },
  "language_info": {
   "codemirror_mode": {
    "name": "ipython",
    "version": 3
   },
   "file_extension": ".py",
   "mimetype": "text/x-python",
   "name": "python",
   "nbconvert_exporter": "python",
   "pygments_lexer": "ipython3",
   "version": "3.7.3"
  }
 },
 "nbformat": 4,
 "nbformat_minor": 2
}
