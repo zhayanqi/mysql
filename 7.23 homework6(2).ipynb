{
 "cells": [
  {
   "cell_type": "markdown",
   "metadata": {},
   "source": [
    "# 对象和类\n",
    "- 一个学生，一张桌子，一个圆都是对象\n",
    "- 对象是类的一个实例，你可以创建多个对象，创建类的一个实例过程被称为实例化，\n",
    "- 在Python中对象就是实例，而实例就是对象"
   ]
  },
  {
   "cell_type": "markdown",
   "metadata": {},
   "source": [
    "## 定义类\n",
    "class ClassName:\n",
    "\n",
    "    do something\n",
    "    \n",
    "- class 类的表示与def 一样\n",
    "- 类名最好使用驼峰式\n",
    "- 在Python2中类是需要继承基类object的，在Python中默认继承，可写可不写\n",
    "- 可以将普通代码理解为皮肤，而函数可以理解为内衣，那么类可以理解为外套"
   ]
  },
  {
   "cell_type": "code",
   "execution_count": 7,
   "metadata": {},
   "outputs": [],
   "source": [
    "#类必须初始化，是用self，初始化自身\n",
    "#类里面所有的函数中的第一个变量不再是参数，而是一个印记。\n",
    "class Joker:\n",
    "    def __init__(self):\n",
    "        print('初始化了')\n",
    "    def Print_(self):\n",
    "        print('Joker hahah')"
   ]
  },
  {
   "cell_type": "code",
   "execution_count": 8,
   "metadata": {},
   "outputs": [
    {
     "name": "stdout",
     "output_type": "stream",
     "text": [
      "初始化了\n"
     ]
    }
   ],
   "source": [
    "zyr = Joker() #()代表直接走初始化函数"
   ]
  },
  {
   "cell_type": "code",
   "execution_count": 9,
   "metadata": {},
   "outputs": [
    {
     "name": "stdout",
     "output_type": "stream",
     "text": [
      "Joker hahah\n"
     ]
    }
   ],
   "source": [
    "zyr.Print_( )"
   ]
  },
  {
   "cell_type": "code",
   "execution_count": 12,
   "metadata": {},
   "outputs": [],
   "source": [
    "class Joker:\n",
    "    def __init__(self):\n",
    "        print('初始化了')\n",
    "    def Print_(self,name):\n",
    "        print('Joker hahah',name)"
   ]
  },
  {
   "cell_type": "code",
   "execution_count": 13,
   "metadata": {},
   "outputs": [
    {
     "name": "stdout",
     "output_type": "stream",
     "text": [
      "初始化了\n"
     ]
    }
   ],
   "source": [
    "zyr = Joker() #()代表直接走初始化函数"
   ]
  },
  {
   "cell_type": "code",
   "execution_count": 14,
   "metadata": {},
   "outputs": [
    {
     "name": "stdout",
     "output_type": "stream",
     "text": [
      "Joker hahah dyf\n"
     ]
    }
   ],
   "source": [
    "zyr.Print_(name = 'dyf')"
   ]
  },
  {
   "cell_type": "code",
   "execution_count": 15,
   "metadata": {},
   "outputs": [],
   "source": [
    "class Joker:\n",
    "    def __init__(self):\n",
    "        print('初始化了')\n",
    "    def SUM(self,num1,num2):\n",
    "        return num1 + num2\n",
    "    def cehng(self,num1,num2):\n",
    "        return num1 * num2"
   ]
  },
  {
   "cell_type": "code",
   "execution_count": 16,
   "metadata": {},
   "outputs": [
    {
     "name": "stdout",
     "output_type": "stream",
     "text": [
      "初始化了\n"
     ]
    }
   ],
   "source": [
    "zyr = Joker() #()代表直接走初始化函数"
   ]
  },
  {
   "cell_type": "code",
   "execution_count": 17,
   "metadata": {},
   "outputs": [
    {
     "data": {
      "text/plain": [
       "3"
      ]
     },
     "execution_count": 17,
     "metadata": {},
     "output_type": "execute_result"
    }
   ],
   "source": [
    "zyr.SUM(1,2)"
   ]
  },
  {
   "cell_type": "code",
   "execution_count": 18,
   "metadata": {},
   "outputs": [
    {
     "data": {
      "text/plain": [
       "5"
      ]
     },
     "execution_count": 18,
     "metadata": {},
     "output_type": "execute_result"
    }
   ],
   "source": [
    "zyr.cehng(1,5)"
   ]
  },
  {
   "cell_type": "code",
   "execution_count": 29,
   "metadata": {},
   "outputs": [],
   "source": [
    "#在类中如果参数需要多次使用，那么就可以将其设置为共享参数\n",
    "class Joker:\n",
    "    def __init__(self,num1,num2):\n",
    "        print('初始化了')\n",
    "        #参数共享\n",
    "        self.num1 = num1\n",
    "        self.num2 = num2\n",
    "        print(self.num1,self.num2)\n",
    "    def SUM(self):\n",
    "        return self.num1 + self.num2\n",
    "    def cehng(self):\n",
    "        return self.num1 * self.num2"
   ]
  },
  {
   "cell_type": "code",
   "execution_count": 30,
   "metadata": {},
   "outputs": [
    {
     "name": "stdout",
     "output_type": "stream",
     "text": [
      "初始化了\n",
      "5 8\n"
     ]
    }
   ],
   "source": [
    "zyr = Joker(num1=5,num2 = 8) #()代表直接走初始化函数"
   ]
  },
  {
   "cell_type": "code",
   "execution_count": 31,
   "metadata": {},
   "outputs": [
    {
     "data": {
      "text/plain": [
       "13"
      ]
     },
     "execution_count": 31,
     "metadata": {},
     "output_type": "execute_result"
    }
   ],
   "source": [
    "zyr.SUM()"
   ]
  },
  {
   "cell_type": "code",
   "execution_count": 32,
   "metadata": {},
   "outputs": [
    {
     "data": {
      "text/plain": [
       "40"
      ]
     },
     "execution_count": 32,
     "metadata": {},
     "output_type": "execute_result"
    }
   ],
   "source": [
    "zyr.cehng()"
   ]
  },
  {
   "cell_type": "markdown",
   "metadata": {},
   "source": [
    "判断是奇数还是偶数"
   ]
  },
  {
   "cell_type": "code",
   "execution_count": 42,
   "metadata": {},
   "outputs": [],
   "source": [
    "class joker:\n",
    "    def __init__(self):\n",
    "        print('初始化了')\n",
    "    def num(self,num1):\n",
    "        if num1 % 2 == 0:\n",
    "            print('偶数')\n",
    "        else:\n",
    "            print('奇数')\n",
    "        return num1\n",
    "    def year(self,year1):\n",
    "        if ((year1 % 4 == 0) and (year1 % 100 != 0)) or (year1 % 400 ==0):\n",
    "            print('闰年')\n",
    "        else:\n",
    "            print('平年')\n",
    "        return year1\n",
    "        "
   ]
  },
  {
   "cell_type": "code",
   "execution_count": 84,
   "metadata": {},
   "outputs": [
    {
     "name": "stdout",
     "output_type": "stream",
     "text": [
      "初始化了\n"
     ]
    }
   ],
   "source": [
    "#创建类的一个实例\n",
    "zyr = joker()"
   ]
  },
  {
   "cell_type": "code",
   "execution_count": 85,
   "metadata": {},
   "outputs": [
    {
     "name": "stdout",
     "output_type": "stream",
     "text": [
      "奇数\n"
     ]
    },
    {
     "data": {
      "text/plain": [
       "9"
      ]
     },
     "execution_count": 85,
     "metadata": {},
     "output_type": "execute_result"
    }
   ],
   "source": [
    "zyr.num(num1=9)"
   ]
  },
  {
   "cell_type": "code",
   "execution_count": 87,
   "metadata": {},
   "outputs": [
    {
     "name": "stdout",
     "output_type": "stream",
     "text": [
      "平年\n"
     ]
    },
    {
     "data": {
      "text/plain": [
       "2017"
      ]
     },
     "execution_count": 87,
     "metadata": {},
     "output_type": "execute_result"
    }
   ],
   "source": [
    "zyr.year(year1=2017)"
   ]
  },
  {
   "cell_type": "markdown",
   "metadata": {},
   "source": [
    "## 定义一个不含初始化__init__的简单类\n",
    "class ClassName:\n",
    "\n",
    "    joker = “Home”\n",
    "    \n",
    "    def func():\n",
    "        print('Worker')\n",
    "    \n",
    "- 尽量少使用"
   ]
  },
  {
   "cell_type": "markdown",
   "metadata": {},
   "source": [
    "\n",
    "\n",
    "## 定义一个标准类\n",
    "- __init__ 代表初始化，可以初始化任何动作\n",
    "- 此时类调用要使用()，其中（）可以理解为开始初始化\n",
    "- 初始化内的元素，类中其他的函数可以共享\n",
    "![](../Photo/85.png)"
   ]
  },
  {
   "cell_type": "markdown",
   "metadata": {},
   "source": [
    "- Circle 和 className_ 的第一个区别有 __init__ 这个函数\n",
    "- 。。。。   第二个区别，类中的每一个函数都有self的这个“参数”"
   ]
  },
  {
   "cell_type": "markdown",
   "metadata": {},
   "source": [
    "## 何为self？\n",
    "- self 是指向对象本身的参数\n",
    "- self 只是一个命名规则，其实可以改变的，但是我们约定俗成的是self，也便于理解\n",
    "- 使用了self就可以访问类中定义的成员\n",
    "<img src=\"../Photo/86.png\"></img>"
   ]
  },
  {
   "cell_type": "markdown",
   "metadata": {},
   "source": [
    "## 使用类 Cirlcle"
   ]
  },
  {
   "cell_type": "markdown",
   "metadata": {},
   "source": [
    "## 类的传参\n",
    "- class ClassName:\n",
    "    \n",
    "        def __init__(self, para1,para2...)：\n",
    "            \n",
    "            self.para1 = para1\n",
    "            \n",
    "            self.para2 = para2"
   ]
  },
  {
   "cell_type": "markdown",
   "metadata": {},
   "source": [
    "## EP:\n",
    "- A：定义一个类，类中含有两个功能：\n",
    "    - 1、产生3个随机数，获取最大值\n",
    "    - 2、产生3个随机数，获取最小值\n",
    "- B：定义一个类，（类中函数的嵌套使用）\n",
    "    - 1、第一个函数的功能为：输入一个数字\n",
    "    - 2、第二个函数的功能为：使用第一个函数中得到的数字进行平方处理\n",
    "    - 3、第三个函数的功能为：得到平方处理后的数字 - 原来输入的数字，并打印结果"
   ]
  },
  {
   "cell_type": "code",
   "execution_count": 70,
   "metadata": {},
   "outputs": [],
   "source": [
    "import random"
   ]
  },
  {
   "cell_type": "code",
   "execution_count": 108,
   "metadata": {},
   "outputs": [],
   "source": [
    "class Joker:\n",
    "    def __init__(self,x,y,z):\n",
    "        print('初始化了')\n",
    "        self.x = x\n",
    "        self.y = y\n",
    "        self.z = z\n",
    "        print(self.x,self.y,self.z)\n",
    "    def MAX_(self):\n",
    "        x = random.randint(1,100)\n",
    "        y = random.randint(1,100)\n",
    "        z = random.randint(1,100)\n",
    "        a =  max(x,y,z)\n",
    "        print(x,y,z)\n",
    "        print(a)\n",
    "    def MIN_(self):\n",
    "        x = random.randint(1,100)\n",
    "        y = random.randint(1,100)\n",
    "        z = random.randint(1,100)\n",
    "        a =  min(x,y,z)\n",
    "        print(x,y,z)\n",
    "        print(a)\n",
    "        \n",
    "        "
   ]
  },
  {
   "cell_type": "code",
   "execution_count": 109,
   "metadata": {},
   "outputs": [
    {
     "name": "stdout",
     "output_type": "stream",
     "text": [
      "初始化了\n",
      "5 5 9\n"
     ]
    }
   ],
   "source": [
    "zyr = Joker(x= 5, y=5,z=9) #()代表直接走初始化函数"
   ]
  },
  {
   "cell_type": "code",
   "execution_count": 110,
   "metadata": {},
   "outputs": [
    {
     "name": "stdout",
     "output_type": "stream",
     "text": [
      "28 70 54\n",
      "70\n"
     ]
    }
   ],
   "source": [
    "zyr.MAX_()"
   ]
  },
  {
   "cell_type": "code",
   "execution_count": 111,
   "metadata": {},
   "outputs": [
    {
     "name": "stdout",
     "output_type": "stream",
     "text": [
      "29 8 9\n",
      "8\n"
     ]
    }
   ],
   "source": [
    "zyr.MIN_()"
   ]
  },
  {
   "cell_type": "code",
   "execution_count": 102,
   "metadata": {},
   "outputs": [],
   "source": [
    "#教讲\n",
    "import random #在里边仅这一条可以使用\n",
    "class Joker:\n",
    "    def __init__(self):\n",
    "        print('初始化了')\n",
    "    def MAX_(self):\n",
    "        x = random.randint(1,100)\n",
    "        y = random.randint(1,100)\n",
    "        z = random.randint(1,100)\n",
    "        print(x,y,z)\n",
    "        return max(x,y,z)\n",
    "    def MIN_(self):\n",
    "        x = random.randint(1,100)\n",
    "        y = random.randint(1,100)\n",
    "        z = random.randint(1,100)\n",
    "        print(x,y,z)\n",
    "        return min(x,y,z)\n",
    "\n",
    "        \n",
    "        "
   ]
  },
  {
   "cell_type": "code",
   "execution_count": 103,
   "metadata": {},
   "outputs": [
    {
     "name": "stdout",
     "output_type": "stream",
     "text": [
      "初始化了\n"
     ]
    }
   ],
   "source": [
    "zyr = Joker()"
   ]
  },
  {
   "cell_type": "code",
   "execution_count": 104,
   "metadata": {},
   "outputs": [
    {
     "name": "stdout",
     "output_type": "stream",
     "text": [
      "55 69 76\n"
     ]
    },
    {
     "data": {
      "text/plain": [
       "76"
      ]
     },
     "execution_count": 104,
     "metadata": {},
     "output_type": "execute_result"
    }
   ],
   "source": [
    "zyr.MAX_()"
   ]
  },
  {
   "cell_type": "code",
   "execution_count": 94,
   "metadata": {},
   "outputs": [
    {
     "name": "stdout",
     "output_type": "stream",
     "text": [
      "14 58 9\n"
     ]
    },
    {
     "data": {
      "text/plain": [
       "9"
      ]
     },
     "execution_count": 94,
     "metadata": {},
     "output_type": "execute_result"
    }
   ],
   "source": [
    "zyr.MIN_()"
   ]
  },
  {
   "cell_type": "code",
   "execution_count": 98,
   "metadata": {},
   "outputs": [],
   "source": [
    "#教讲\n",
    "import random #在里边仅这一条可以使用\n",
    "class Joker:\n",
    "    def __init__(self):\n",
    "        print('初始化了')\n",
    "        self.x = random.randint(1,100)\n",
    "        self.y = random.randint(1,100)\n",
    "        self.z = random.randint(1,100)\n",
    "    def MAX_(self):\n",
    "        print(self.x,self.y,self.z)\n",
    "        return max(self.x,self.y,self.z)\n",
    "    def MIN_(self):\n",
    "        print(self.x,self.y,self.z)\n",
    "        return min(self.x,self.y,self.z)\n",
    "        \n",
    "        "
   ]
  },
  {
   "cell_type": "code",
   "execution_count": 99,
   "metadata": {},
   "outputs": [
    {
     "name": "stdout",
     "output_type": "stream",
     "text": [
      "初始化了\n"
     ]
    }
   ],
   "source": [
    "a =Joker()"
   ]
  },
  {
   "cell_type": "code",
   "execution_count": 100,
   "metadata": {},
   "outputs": [
    {
     "name": "stdout",
     "output_type": "stream",
     "text": [
      "4 51 76\n"
     ]
    },
    {
     "data": {
      "text/plain": [
       "76"
      ]
     },
     "execution_count": 100,
     "metadata": {},
     "output_type": "execute_result"
    }
   ],
   "source": [
    "a.MAX_()"
   ]
  },
  {
   "cell_type": "code",
   "execution_count": 101,
   "metadata": {},
   "outputs": [
    {
     "name": "stdout",
     "output_type": "stream",
     "text": [
      "4 51 76\n"
     ]
    },
    {
     "data": {
      "text/plain": [
       "4"
      ]
     },
     "execution_count": 101,
     "metadata": {},
     "output_type": "execute_result"
    }
   ],
   "source": [
    "a.MIN_()"
   ]
  },
  {
   "cell_type": "code",
   "execution_count": 152,
   "metadata": {},
   "outputs": [],
   "source": [
    "#教讲\n",
    "class joker:\n",
    "    def __init__(self):\n",
    "        print('初始化了')    \n",
    "    def num1 (self):\n",
    "        self.x=eval(input('请输入数字'))\n",
    "        print(self.x) \n",
    "    def num2(self):\n",
    "        self.y = self.x ** 2\n",
    "        print(self.y)\n",
    "    def num3(self):\n",
    "        self.z = self.y - self.x \n",
    "        print(self.z)"
   ]
  },
  {
   "cell_type": "code",
   "execution_count": 153,
   "metadata": {},
   "outputs": [
    {
     "name": "stdout",
     "output_type": "stream",
     "text": [
      "初始化了\n"
     ]
    }
   ],
   "source": [
    "b = joker()"
   ]
  },
  {
   "cell_type": "code",
   "execution_count": 154,
   "metadata": {},
   "outputs": [
    {
     "name": "stdout",
     "output_type": "stream",
     "text": [
      "请输入数字6\n",
      "6\n"
     ]
    }
   ],
   "source": [
    "b.num1 ()"
   ]
  },
  {
   "cell_type": "code",
   "execution_count": 156,
   "metadata": {},
   "outputs": [
    {
     "name": "stdout",
     "output_type": "stream",
     "text": [
      "36\n"
     ]
    }
   ],
   "source": [
    "b.num2()"
   ]
  },
  {
   "cell_type": "code",
   "execution_count": 157,
   "metadata": {},
   "outputs": [
    {
     "name": "stdout",
     "output_type": "stream",
     "text": [
      "30\n"
     ]
    }
   ],
   "source": [
    "b.num3()"
   ]
  },
  {
   "cell_type": "markdown",
   "metadata": {},
   "source": [
    "账号和密码"
   ]
  },
  {
   "cell_type": "code",
   "execution_count": 166,
   "metadata": {},
   "outputs": [],
   "source": [
    "class joker:\n",
    "    def __init__(self):\n",
    "        print('初始化了')\n",
    "    def qq(self):\n",
    "        x = 12345\n",
    "        y = 235\n",
    "        a = eval(input('请输入账号'))\n",
    "        b = eval(input('请输入密码'))\n",
    "        if  x == a and y == b:\n",
    "            print('登录成功')\n",
    "        else:\n",
    "            print('失败')"
   ]
  },
  {
   "cell_type": "code",
   "execution_count": 167,
   "metadata": {},
   "outputs": [
    {
     "name": "stdout",
     "output_type": "stream",
     "text": [
      "初始化了\n"
     ]
    }
   ],
   "source": [
    "a = joker()"
   ]
  },
  {
   "cell_type": "code",
   "execution_count": 168,
   "metadata": {},
   "outputs": [
    {
     "name": "stdout",
     "output_type": "stream",
     "text": [
      "请输入账号12345\n",
      "请输入密码2365\n",
      "失败\n"
     ]
    }
   ],
   "source": [
    "a.qq()"
   ]
  },
  {
   "cell_type": "code",
   "execution_count": 42,
   "metadata": {},
   "outputs": [],
   "source": [
    "#教讲\n",
    "import random\n",
    "class joker1:\n",
    "    \"\"\"\n",
    "    implement login class.\n",
    "    \"\"\"\n",
    "    def __init__(self):\n",
    "        \"\"\"\n",
    "        Initialization class\n",
    "        Argument\n",
    "        \"\"\"\n",
    "        self.account = 123\n",
    "        self.password = 123\n",
    "    def Account(self):\n",
    "        \"\"\"\n",
    "        Input Account valuse\n",
    "        \"\"\"\n",
    "        self.acc = input('请输入账号')\n",
    "    def Password(self):\n",
    "        \"\"\"\n",
    "        Input \n",
    "        \"\"\"\n",
    "        self.passwor = input('请输入密码')\n",
    "    def Check(self):\n",
    "        \"\"\"\n",
    "        Check account and password\n",
    "        Note:\n",
    "        ----\n",
    "            we need \"and\" connect.\n",
    "            if account and password is right,then login OK.\n",
    "            else:\n",
    "        \"\"\"\n",
    "        if self.acc == self.account and self.passwor == self.password:\n",
    "            print('Success')\n",
    "        else:\n",
    "            self.Verify()\n",
    "    def Verify(self):\n",
    "        Verify_Var = 123\n",
    "        print('验证码是',Verify_Var)\n",
    "        while 1:\n",
    "            User_Verify = eval(input('请输入验证码：'))\n",
    "            if User_Verify == Verify_Var:\n",
    "                print('Failed')\n",
    "                break\n",
    "    def Start(self):\n",
    "        \"\"\"\n",
    "        Start defineloglistc \n",
    "        \"\"\"\n",
    "        self.Account()\n",
    "        self.Password()\n",
    "        self.Check()\n",
    "        "
   ]
  },
  {
   "cell_type": "code",
   "execution_count": 43,
   "metadata": {},
   "outputs": [],
   "source": [
    "a = joker1()"
   ]
  },
  {
   "cell_type": "code",
   "execution_count": 44,
   "metadata": {},
   "outputs": [
    {
     "name": "stdout",
     "output_type": "stream",
     "text": [
      "请输入账号123\n",
      "请输入密码123\n",
      "验证码是 123\n",
      "请输入验证码：523\n",
      "请输入验证码：123\n",
      "Failed\n"
     ]
    }
   ],
   "source": [
    "a.Start()"
   ]
  },
  {
   "cell_type": "markdown",
   "metadata": {},
   "source": [
    "## 类的继承\n",
    "- 类的单继承\n",
    "- 类的多继承\n",
    "- 继承标识\n",
    ">  class SonClass(FatherClass):\n",
    "            \n",
    "            def __init__(self):\n",
    "            \n",
    "                FatherClass.__init__(self)"
   ]
  },
  {
   "cell_type": "code",
   "execution_count": 7,
   "metadata": {},
   "outputs": [],
   "source": [
    "class A():\n",
    "    def __init__(self):\n",
    "        self.a = 'a'\n",
    "    def a_(self):\n",
    "        print('class A')\n",
    "class B(A):\n",
    "    def __init__(self):\n",
    "        #告诉A 即将继承B\n",
    "        A.__init__(self)\n",
    "    def b_(self):\n",
    "        print(self.a)\n",
    "        self.a_()"
   ]
  },
  {
   "cell_type": "code",
   "execution_count": 8,
   "metadata": {},
   "outputs": [],
   "source": [
    "bb = B()"
   ]
  },
  {
   "cell_type": "code",
   "execution_count": 9,
   "metadata": {},
   "outputs": [
    {
     "name": "stdout",
     "output_type": "stream",
     "text": [
      "a\n",
      "class A\n"
     ]
    }
   ],
   "source": [
    "bb.b_()"
   ]
  },
  {
   "cell_type": "code",
   "execution_count": 10,
   "metadata": {},
   "outputs": [],
   "source": [
    "class A():\n",
    "    def __init__(self):\n",
    "        self.a = 'a'\n",
    "    def a_(self):\n",
    "        print('class A')\n",
    "class C():\n",
    "    def __init__(self):\n",
    "        self.c = 'c'\n",
    "    def a_(self):\n",
    "        print('class C')\n",
    "#多继承前面覆盖后面 自左向右       \n",
    "class B(C,A):\n",
    "    def __init__(self):\n",
    "        #告诉A 即将继承B\n",
    "        A.__init__(self)\n",
    "        C.__init__(self)\n",
    "    def b_(self):\n",
    "        print(self.a)\n",
    "        self.a_()"
   ]
  },
  {
   "cell_type": "code",
   "execution_count": 14,
   "metadata": {},
   "outputs": [],
   "source": [
    "bb = B()"
   ]
  },
  {
   "cell_type": "code",
   "execution_count": 15,
   "metadata": {},
   "outputs": [
    {
     "name": "stdout",
     "output_type": "stream",
     "text": [
      "class C\n"
     ]
    }
   ],
   "source": [
    "bb.a_()"
   ]
  },
  {
   "cell_type": "code",
   "execution_count": 18,
   "metadata": {},
   "outputs": [
    {
     "name": "stdout",
     "output_type": "stream",
     "text": [
      "a\n",
      "class C\n"
     ]
    }
   ],
   "source": [
    "bb.b_()"
   ]
  },
  {
   "cell_type": "markdown",
   "metadata": {},
   "source": [
    "## 私有数据域(私有变量，或者私有函数)\n",
    "- 在Python中 变量名或者函数名使用双下划线代表私有  \\__Joker,   def \\__Joker():\n",
    "- 私有数据域不可继承\n",
    "- 私有数据域强制继承   \\__dir__()\n",
    "-私有变量，不可被继承，不可在外部被调用，可以在内部使用 "
   ]
  },
  {
   "cell_type": "code",
   "execution_count": 26,
   "metadata": {},
   "outputs": [],
   "source": [
    "class C():\n",
    "    def __init__(self):\n",
    "        self.__c = 'c'\n",
    "    def __c_(self):\n",
    "        print('class A')\n",
    "class A():\n",
    "    def __init__(self):\n",
    "        self.a = 'a'\n",
    "    def a_(self):\n",
    "        print('class A')\n",
    "#多继承前面覆盖后面 自左向右       \n",
    "class B(C,A):\n",
    "    def __init__(self):\n",
    "        #告诉A 即将继承B\n",
    "        A.__init__(self)\n",
    "        C.__init__(self)\n",
    "    def b(self):\n",
    "        print(self._C__c)"
   ]
  },
  {
   "cell_type": "code",
   "execution_count": 27,
   "metadata": {},
   "outputs": [],
   "source": [
    "bb = B()"
   ]
  },
  {
   "cell_type": "code",
   "execution_count": 28,
   "metadata": {},
   "outputs": [
    {
     "name": "stdout",
     "output_type": "stream",
     "text": [
      "c\n"
     ]
    }
   ],
   "source": [
    "bb.b()"
   ]
  },
  {
   "cell_type": "code",
   "execution_count": 24,
   "metadata": {},
   "outputs": [
    {
     "data": {
      "text/plain": [
       "['a',\n",
       " '_C__c',\n",
       " '__module__',\n",
       " '__init__',\n",
       " 'b',\n",
       " '__doc__',\n",
       " '__c__',\n",
       " '__dict__',\n",
       " '__weakref__',\n",
       " '__repr__',\n",
       " '__hash__',\n",
       " '__str__',\n",
       " '__getattribute__',\n",
       " '__setattr__',\n",
       " '__delattr__',\n",
       " '__lt__',\n",
       " '__le__',\n",
       " '__eq__',\n",
       " '__ne__',\n",
       " '__gt__',\n",
       " '__ge__',\n",
       " '__new__',\n",
       " '__reduce_ex__',\n",
       " '__reduce__',\n",
       " '__subclasshook__',\n",
       " '__init_subclass__',\n",
       " '__format__',\n",
       " '__sizeof__',\n",
       " '__dir__',\n",
       " '__class__',\n",
       " 'a_']"
      ]
     },
     "execution_count": 24,
     "metadata": {},
     "output_type": "execute_result"
    }
   ],
   "source": [
    "bb.__dir__()"
   ]
  },
  {
   "cell_type": "markdown",
   "metadata": {},
   "source": [
    "![](../Photo/87.png)"
   ]
  },
  {
   "cell_type": "markdown",
   "metadata": {},
   "source": [
    "## EP:\n",
    "![](../Photo/88.png)\n",
    "![](../Photo/89.png)\n",
    "![](../Photo/90.png)\n"
   ]
  },
  {
   "cell_type": "markdown",
   "metadata": {},
   "source": [
    "__a内部可以被调用"
   ]
  },
  {
   "cell_type": "markdown",
   "metadata": {},
   "source": [
    "## 类的其他\n",
    "- 类的封装\n",
    "    - 实际上就是将一类功能放在一起，方便未来进行管理\n",
    "- 类的继承（上面已经讲过）\n",
    "- 类的多态\n",
    "    - 包括装饰器：将放在以后处理高级类中教\n",
    "    - 装饰器的好处：当许多类中的函数需要使用同一个功能的时候，那么使用装饰器就会方便许多\n",
    "    - 装饰器是有固定的写法\n",
    "        - 其包括普通装饰器与带参装饰器"
   ]
  },
  {
   "cell_type": "code",
   "execution_count": 32,
   "metadata": {},
   "outputs": [],
   "source": [
    "class A:\n",
    "    def __init__(self):\n",
    "        self.a = 'a'\n",
    "    #静态调用\n",
    "    @staticmethod\n",
    "    def a_():\n",
    "        print('class A')"
   ]
  },
  {
   "cell_type": "code",
   "execution_count": 33,
   "metadata": {},
   "outputs": [],
   "source": [
    "aa = A()"
   ]
  },
  {
   "cell_type": "code",
   "execution_count": 34,
   "metadata": {},
   "outputs": [
    {
     "name": "stdout",
     "output_type": "stream",
     "text": [
      "class A\n"
     ]
    }
   ],
   "source": [
    "aa.a_()"
   ]
  },
  {
   "cell_type": "markdown",
   "metadata": {},
   "source": [
    "# Homewor\n",
    "## UML类图可以不用画\n",
    "## UML 实际上就是一个思维图\n",
    "- 1\n",
    "![](../Photo/91.png)"
   ]
  },
  {
   "cell_type": "code",
   "execution_count": 67,
   "metadata": {},
   "outputs": [],
   "source": [
    "class C():\n",
    "    def __init__(self):\n",
    "        print('初始化')\n",
    "        \"\"\"\n",
    "        start value（初始化值）\n",
    "        \"\"\"\n",
    "    def getArea(self):\n",
    "        width = 1\n",
    "        height = 2\n",
    "        area = width * height\n",
    "        return area\n",
    "    \"\"\"\n",
    "    Calculating area ,return area\n",
    "    \"\"\"\n",
    "    def getPerimeter(self):\n",
    "        width = 1\n",
    "        height = 2\n",
    "        perimeter = 2 * (width + height)\n",
    "        return perimeter\n",
    "    \"\"\"\n",
    "    Calculating perimeter,return perimeter\n",
    "    \"\"\""
   ]
  },
  {
   "cell_type": "code",
   "execution_count": 68,
   "metadata": {},
   "outputs": [
    {
     "name": "stdout",
     "output_type": "stream",
     "text": [
      "初始化\n"
     ]
    }
   ],
   "source": [
    "a = C()"
   ]
  },
  {
   "cell_type": "code",
   "execution_count": 69,
   "metadata": {},
   "outputs": [
    {
     "data": {
      "text/plain": [
       "2"
      ]
     },
     "execution_count": 69,
     "metadata": {},
     "output_type": "execute_result"
    }
   ],
   "source": [
    "a.getArea()"
   ]
  },
  {
   "cell_type": "code",
   "execution_count": 70,
   "metadata": {},
   "outputs": [
    {
     "data": {
      "text/plain": [
       "6"
      ]
     },
     "execution_count": 70,
     "metadata": {},
     "output_type": "execute_result"
    }
   ],
   "source": [
    "a.getPerimeter()"
   ]
  },
  {
   "cell_type": "code",
   "execution_count": 71,
   "metadata": {},
   "outputs": [],
   "source": [
    "class Joker:\n",
    "    def __init__(self):\n",
    "        print('初始化了')\n",
    "        self.width = eval(input('请输入宽'))\n",
    "        self.height = eval(input('请输入高'))\n",
    "        \"\"\"\n",
    "        start the assignment,参数共享\n",
    "        \"\"\"\n",
    "    def getArea(self):\n",
    "        area = self.width * self.height\n",
    "        return area\n",
    "    def getPerimeter(self):\n",
    "        perimeter = 2 * (self.width + self.height)\n",
    "        return perimeter"
   ]
  },
  {
   "cell_type": "code",
   "execution_count": 72,
   "metadata": {},
   "outputs": [
    {
     "name": "stdout",
     "output_type": "stream",
     "text": [
      "初始化了\n",
      "请输入宽4\n",
      "请输入高40\n"
     ]
    }
   ],
   "source": [
    "b=Joker()"
   ]
  },
  {
   "cell_type": "code",
   "execution_count": 75,
   "metadata": {},
   "outputs": [
    {
     "name": "stdout",
     "output_type": "stream",
     "text": [
      "面积为： 160\n"
     ]
    }
   ],
   "source": [
    "b.getArea()\n",
    "print('面积为：',b.getArea())"
   ]
  },
  {
   "cell_type": "code",
   "execution_count": 76,
   "metadata": {},
   "outputs": [
    {
     "name": "stdout",
     "output_type": "stream",
     "text": [
      "周长为： 88\n"
     ]
    }
   ],
   "source": [
    "b.getPerimeter()\n",
    "print('周长为：',b.getPerimeter())"
   ]
  },
  {
   "cell_type": "markdown",
   "metadata": {},
   "source": [
    "- 2\n",
    "![](../Photo/92.png)"
   ]
  },
  {
   "cell_type": "code",
   "execution_count": 1,
   "metadata": {},
   "outputs": [],
   "source": [
    "class B():\n",
    "    def __init__(self):\n",
    "        print('初始化')\n",
    "        self.id = eval(input('请输入id >>'))\n",
    "        self.balance = eval(input('请输入账户额 >>'))\n",
    "        self.annuall = eval(input('请输入利率：'))\n",
    "        \"\"\"\n",
    "        start the assignment,参数共享\n",
    "        \"\"\"\n",
    "    def MIR_(self):   #计算利率\n",
    "        self.rat = self.annuall / 100 / 12\n",
    "        return self.rat\n",
    "    def MI_(self):   #计算月利息\n",
    "        self.lixi = self.balance * self.rat\n",
    "        return self.lixi\n",
    "    def withdraW(self): #计算定额取出\n",
    "        self.quchu = 3.2*self.balance * self.rat\n",
    "        return self.quchu #计算定额存入\n",
    "    def deposir(self):\n",
    "        self.cunru = 4*self.balance * self.rat\n",
    "        return self.cunru\n",
    "    \n",
    "        "
   ]
  },
  {
   "cell_type": "code",
   "execution_count": 7,
   "metadata": {},
   "outputs": [
    {
     "name": "stdout",
     "output_type": "stream",
     "text": [
      "初始化\n",
      "请输入id >>1122\n",
      "请输入账户额 >>20000\n",
      "请输入利率：45\n"
     ]
    }
   ],
   "source": [
    "a = B()"
   ]
  },
  {
   "cell_type": "code",
   "execution_count": 8,
   "metadata": {},
   "outputs": [
    {
     "name": "stdout",
     "output_type": "stream",
     "text": [
      "利率： 0.0375\n"
     ]
    }
   ],
   "source": [
    "a.MIR_()\n",
    "print('利率：',a.MIR_())"
   ]
  },
  {
   "cell_type": "code",
   "execution_count": 9,
   "metadata": {},
   "outputs": [
    {
     "name": "stdout",
     "output_type": "stream",
     "text": [
      "月利息： 750.0\n"
     ]
    }
   ],
   "source": [
    "a.MI_()\n",
    "print('月利息：',a.MI_())"
   ]
  },
  {
   "cell_type": "code",
   "execution_count": 10,
   "metadata": {},
   "outputs": [
    {
     "name": "stdout",
     "output_type": "stream",
     "text": [
      "定额取出： 2400.0\n"
     ]
    }
   ],
   "source": [
    "a.withdraW()\n",
    "print('定额取出：',a.withdraW())"
   ]
  },
  {
   "cell_type": "code",
   "execution_count": 11,
   "metadata": {},
   "outputs": [
    {
     "name": "stdout",
     "output_type": "stream",
     "text": [
      "定额存入： 3000.0\n"
     ]
    }
   ],
   "source": [
    "a.deposir()\n",
    "print('定额存入：',a.deposir())"
   ]
  },
  {
   "cell_type": "markdown",
   "metadata": {},
   "source": [
    "- 3\n",
    "![](../Photo/93.png)"
   ]
  },
  {
   "cell_type": "code",
   "execution_count": 34,
   "metadata": {},
   "outputs": [],
   "source": [
    "class F():\n",
    "    def __init__(self):\n",
    "        print('初始化了')\n",
    "    def Fan1_(self):\n",
    "        self.speed = input('请输入风扇速度：')\n",
    "        self.on = input('请输入是否打开：')\n",
    "        self.radius = eval(input('请输入风扇半径：'))\n",
    "        self.color = input('请输入颜色：')\n",
    "        return self.speed,self.on,self.radius,self.color \n",
    "    def Fan2_(self):\n",
    "        self.speed = input('请输入风扇速度：')\n",
    "        self.on = input('请输入是否打开：')\n",
    "        self.radius = eval(input('请输入风扇半径：'))\n",
    "        self.color = input('请输入颜色：')\n",
    "        return self.speed,self.on,self.radius,self.color  \n",
    "        \"\"\"\n",
    "       Return four values\n",
    "        \"\"\""
   ]
  },
  {
   "cell_type": "code",
   "execution_count": 35,
   "metadata": {},
   "outputs": [
    {
     "name": "stdout",
     "output_type": "stream",
     "text": [
      "初始化了\n"
     ]
    }
   ],
   "source": [
    "z = F()"
   ]
  },
  {
   "cell_type": "code",
   "execution_count": 36,
   "metadata": {},
   "outputs": [
    {
     "name": "stdout",
     "output_type": "stream",
     "text": [
      "请输入风扇速度：max\n",
      "请输入是否打开：open\n",
      "请输入风扇半径：10\n",
      "请输入颜色：yellow\n"
     ]
    },
    {
     "data": {
      "text/plain": [
       "('max', 'open', 10, 'yellow')"
      ]
     },
     "execution_count": 36,
     "metadata": {},
     "output_type": "execute_result"
    }
   ],
   "source": [
    "z.Fan1_()"
   ]
  },
  {
   "cell_type": "code",
   "execution_count": 37,
   "metadata": {},
   "outputs": [
    {
     "name": "stdout",
     "output_type": "stream",
     "text": [
      "请输入风扇速度：mid\n",
      "请输入是否打开：false\n",
      "请输入风扇半径：5\n",
      "请输入颜色：blue\n"
     ]
    },
    {
     "data": {
      "text/plain": [
       "('mid', 'false', 5, 'blue')"
      ]
     },
     "execution_count": 37,
     "metadata": {},
     "output_type": "execute_result"
    }
   ],
   "source": [
    "z.Fan2_()"
   ]
  },
  {
   "cell_type": "markdown",
   "metadata": {},
   "source": [
    "- 4\n",
    "![](../Photo/94.png)\n",
    "![](../Photo/95.png)"
   ]
  },
  {
   "cell_type": "code",
   "execution_count": 137,
   "metadata": {},
   "outputs": [],
   "source": [
    "import math\n",
    "class N():\n",
    "    def __init__(self):\n",
    "        print('初始化了')\n",
    "        x = 0\n",
    "        y = 0\n",
    "        self.n = eval(input('请输入边数：'))\n",
    "        self.side = eval(input('请输入边长：'))\n",
    "         \"\"\"\n",
    "        start the assignment,参数共享\n",
    "        x,y 为默认值\n",
    "        \"\"\"\n",
    "    def gP_(self):\n",
    "        c = self.n * self.side\n",
    "        return c\n",
    "    def gA_(self):\n",
    "        s = (self.n * (self.side ** 2))/ 4 * math.tan(math.pi/n)\n",
    "        return s\n",
    "        "
   ]
  },
  {
   "cell_type": "code",
   "execution_count": 138,
   "metadata": {},
   "outputs": [
    {
     "name": "stdout",
     "output_type": "stream",
     "text": [
      "初始化了\n",
      "请输入边数：3\n",
      "请输入边长：1\n"
     ]
    }
   ],
   "source": [
    "b = N()"
   ]
  },
  {
   "cell_type": "code",
   "execution_count": 139,
   "metadata": {},
   "outputs": [
    {
     "data": {
      "text/plain": [
       "3"
      ]
     },
     "execution_count": 139,
     "metadata": {},
     "output_type": "execute_result"
    }
   ],
   "source": [
    "b.gP_()"
   ]
  },
  {
   "cell_type": "code",
   "execution_count": 140,
   "metadata": {},
   "outputs": [
    {
     "ename": "NameError",
     "evalue": "name 'n' is not defined",
     "output_type": "error",
     "traceback": [
      "\u001b[1;31m---------------------------------------------------------------------------\u001b[0m",
      "\u001b[1;31mNameError\u001b[0m                                 Traceback (most recent call last)",
      "\u001b[1;32m<ipython-input-140-c70b2002d71e>\u001b[0m in \u001b[0;36m<module>\u001b[1;34m\u001b[0m\n\u001b[1;32m----> 1\u001b[1;33m \u001b[0mb\u001b[0m\u001b[1;33m.\u001b[0m\u001b[0mgA_\u001b[0m\u001b[1;33m(\u001b[0m\u001b[1;33m)\u001b[0m\u001b[1;33m\u001b[0m\u001b[1;33m\u001b[0m\u001b[0m\n\u001b[0m",
      "\u001b[1;32m<ipython-input-137-0439cf4381f3>\u001b[0m in \u001b[0;36mgA_\u001b[1;34m(self)\u001b[0m\n\u001b[0;32m     11\u001b[0m         \u001b[1;32mreturn\u001b[0m \u001b[0mc\u001b[0m\u001b[1;33m\u001b[0m\u001b[1;33m\u001b[0m\u001b[0m\n\u001b[0;32m     12\u001b[0m     \u001b[1;32mdef\u001b[0m \u001b[0mgA_\u001b[0m\u001b[1;33m(\u001b[0m\u001b[0mself\u001b[0m\u001b[1;33m)\u001b[0m\u001b[1;33m:\u001b[0m\u001b[1;33m\u001b[0m\u001b[1;33m\u001b[0m\u001b[0m\n\u001b[1;32m---> 13\u001b[1;33m         \u001b[0ms\u001b[0m \u001b[1;33m=\u001b[0m \u001b[1;33m(\u001b[0m\u001b[0mself\u001b[0m\u001b[1;33m.\u001b[0m\u001b[0mn\u001b[0m \u001b[1;33m*\u001b[0m \u001b[1;33m(\u001b[0m\u001b[0mself\u001b[0m\u001b[1;33m.\u001b[0m\u001b[0mside\u001b[0m \u001b[1;33m**\u001b[0m \u001b[1;36m2\u001b[0m\u001b[1;33m)\u001b[0m\u001b[1;33m)\u001b[0m\u001b[1;33m/\u001b[0m \u001b[1;36m4\u001b[0m \u001b[1;33m*\u001b[0m \u001b[0mmath\u001b[0m\u001b[1;33m.\u001b[0m\u001b[0mtan\u001b[0m\u001b[1;33m(\u001b[0m\u001b[0mmath\u001b[0m\u001b[1;33m.\u001b[0m\u001b[0mpi\u001b[0m\u001b[1;33m/\u001b[0m\u001b[0mn\u001b[0m\u001b[1;33m)\u001b[0m\u001b[1;33m\u001b[0m\u001b[1;33m\u001b[0m\u001b[0m\n\u001b[0m\u001b[0;32m     14\u001b[0m         \u001b[1;32mreturn\u001b[0m \u001b[0ms\u001b[0m\u001b[1;33m\u001b[0m\u001b[1;33m\u001b[0m\u001b[0m\n\u001b[0;32m     15\u001b[0m \u001b[1;33m\u001b[0m\u001b[0m\n",
      "\u001b[1;31mNameError\u001b[0m: name 'n' is not defined"
     ]
    }
   ],
   "source": [
    "b.gA_()"
   ]
  },
  {
   "cell_type": "markdown",
   "metadata": {},
   "source": [
    "- 5\n",
    "![](../Photo/96.png)"
   ]
  },
  {
   "cell_type": "code",
   "execution_count": 70,
   "metadata": {},
   "outputs": [],
   "source": [
    "class R():\n",
    "    def __init__(self):\n",
    "        print('初始化')\n",
    "        self.a = eval(input('请输入值a>>'))\n",
    "        self.b = eval(input('请输入值b>>'))\n",
    "        self.c = eval(input('请输入值c>>'))\n",
    "        self.d = eval(input('请输入值d>>'))\n",
    "        self.e = eval(input('请输入值e>>'))\n",
    "        self.f = eval(input('请输入值f>>'))\n",
    "         \"\"\"\n",
    "        start the assignment,参数共享\n",
    "        \"\"\"\n",
    "    def isSolvable(self):\n",
    "        if self.a * self.d - self.b * self.c != 0:\n",
    "            print('true')\n",
    "        else:\n",
    "            print('这个方程式无解')\n",
    "        \"\"\"\n",
    "        Judge first, then condition(先判断，后赋值对x,y进行赋值)\n",
    "        \"\"\"\n",
    "    def X(self):\n",
    "        x = (self.e * self.d - self.b * self.f) / (self.a * self.d - self.b * self.c)\n",
    "        return x\n",
    "    def Y(self):\n",
    "        y = (self.a * self.f - self.e * self.c) / (self.a * self.d - self.b * self.c)\n",
    "        return y\n",
    "    \n",
    "        "
   ]
  },
  {
   "cell_type": "code",
   "execution_count": 71,
   "metadata": {},
   "outputs": [
    {
     "name": "stdout",
     "output_type": "stream",
     "text": [
      "初始化\n",
      "请输入值a>>8\n",
      "请输入值b>>5\n",
      "请输入值c>>4\n",
      "请输入值d>>8\n",
      "请输入值e>>4\n",
      "请输入值f>>2\n"
     ]
    }
   ],
   "source": [
    "a = R()"
   ]
  },
  {
   "cell_type": "code",
   "execution_count": 72,
   "metadata": {},
   "outputs": [
    {
     "name": "stdout",
     "output_type": "stream",
     "text": [
      "true\n"
     ]
    }
   ],
   "source": [
    "a.isSolvable()"
   ]
  },
  {
   "cell_type": "code",
   "execution_count": 73,
   "metadata": {},
   "outputs": [
    {
     "data": {
      "text/plain": [
       "0.5"
      ]
     },
     "execution_count": 73,
     "metadata": {},
     "output_type": "execute_result"
    }
   ],
   "source": [
    "a.X()"
   ]
  },
  {
   "cell_type": "code",
   "execution_count": 74,
   "metadata": {},
   "outputs": [
    {
     "data": {
      "text/plain": [
       "0.0"
      ]
     },
     "execution_count": 74,
     "metadata": {},
     "output_type": "execute_result"
    }
   ],
   "source": [
    "a.Y()"
   ]
  },
  {
   "cell_type": "markdown",
   "metadata": {},
   "source": [
    "- 6\n",
    "![](../Photo/97.png)"
   ]
  },
  {
   "cell_type": "code",
   "execution_count": 123,
   "metadata": {},
   "outputs": [],
   "source": [
    "#方法一：\n",
    "class XD_():\n",
    "    def __init__(self):\n",
    "        print('初始化了')\n",
    "        \"\"\"\n",
    "        注释部分为思路\n",
    "        \"\"\"\n",
    "    #def XD1_(self):\n",
    "        #x1,y1 = eval(input('请输入第一个端点：'))\n",
    "        #x2,y2 = eval(input('请输入第二个端点：'))\n",
    "        #k1 = (y2 - y1)/(x2 - x1)\n",
    "        #b1 = y1 - k1 * x1\n",
    "        #print('y = ',k1,'x +',b1)\n",
    "    #def XD2_(self):\n",
    "        #x3,y3 = eval(input('请输入第三个端点：'))\n",
    "        #x4,y4 = eval(input('请输入第四个端点：'))\n",
    "        #k2 = (y3 - y4)/(x3 - x4)\n",
    "        #b2 = y3 - k2 * x3\n",
    "        #print('y = ',k2,'x +',b2)\n",
    "    def JD_(self):\n",
    "        x1,y1 = eval(input('请输入第一个端点：'))\n",
    "        x2,y2 = eval(input('请输入第二个端点：'))\n",
    "        #对第一个方程进行求解，利用公式（y-y1）(y2-y1)=(x-x1)(x2-x1)\n",
    "        # k1 为斜率    b1为距离\n",
    "        k1 = (y2 - y1)/(x2 - x1) \n",
    "        b1 = y1 - k1 * x1\n",
    "        x3,y3 = eval(input('请输入第三个端点：'))\n",
    "        x4,y4 = eval(input('请输入第四个端点：'))\n",
    "        k2 = (y3 - y4)/(x3 - x4)\n",
    "        b2 = y3 - k2 * x3\n",
    "        x = (b2 - b1)/(k1 - k2)\n",
    "        y = k1 * x + b1\n",
    "        print(x,y)\n",
    "        \n",
    "        "
   ]
  },
  {
   "cell_type": "code",
   "execution_count": 124,
   "metadata": {},
   "outputs": [
    {
     "name": "stdout",
     "output_type": "stream",
     "text": [
      "初始化了\n"
     ]
    }
   ],
   "source": [
    "s = XD_()"
   ]
  },
  {
   "cell_type": "code",
   "execution_count": 111,
   "metadata": {},
   "outputs": [
    {
     "name": "stdout",
     "output_type": "stream",
     "text": [
      "请输入第一个端点：2,2\n",
      "请输入第二个端点：0,0\n",
      "y =  1.0 x + 0.0\n"
     ]
    }
   ],
   "source": [
    "s.XD1_()"
   ]
  },
  {
   "cell_type": "code",
   "execution_count": 112,
   "metadata": {},
   "outputs": [
    {
     "name": "stdout",
     "output_type": "stream",
     "text": [
      "请输入第三个端点：0,2\n",
      "请输入第四个端点：2,0\n",
      "y =  -1.0 x + 2.0\n"
     ]
    }
   ],
   "source": [
    "s.XD2_()"
   ]
  },
  {
   "cell_type": "code",
   "execution_count": 113,
   "metadata": {},
   "outputs": [
    {
     "name": "stdout",
     "output_type": "stream",
     "text": [
      "请输入第一个端点：2,2\n",
      "请输入第二个端点：0,0\n",
      "请输入第三个端点：0,2\n",
      "请输入第四个端点：2,0\n",
      "1.0 1.0\n"
     ]
    }
   ],
   "source": [
    "s.JD_()"
   ]
  },
  {
   "cell_type": "code",
   "execution_count": 117,
   "metadata": {},
   "outputs": [],
   "source": [
    "#方法二：\n",
    "class XD_():\n",
    "    def __init__(self):\n",
    "        print('初始化了')\n",
    "        self.x1,self.y1 = eval(input('请输入第一个端点：'))\n",
    "        self.x2,self.y2 = eval(input('请输入第二个端点：'))\n",
    "        self.x3,self.y3 = eval(input('请输入第三个端点：'))\n",
    "        self.x4,self.y4 = eval(input('请输入第四个端点：'))\n",
    "        \"\"\"\n",
    "        start the assignment,参数共享\n",
    "        \"\"\"\n",
    "    def JD_(self):\n",
    "        k1 = (self.y2 - self.y1)/(self.x2 - self.x1)\n",
    "        b1 = self.y1 - k1 * self.x1\n",
    "        k2 = (self.y3 - self.y4)/(self.x3 - self.x4)\n",
    "        b2 = self.y3 - k2 * self.x3\n",
    "        x = (b2 - b1)/(k1 - k2)\n",
    "        y = k1 * x + b1\n",
    "        print(x,y)"
   ]
  },
  {
   "cell_type": "code",
   "execution_count": 118,
   "metadata": {},
   "outputs": [
    {
     "name": "stdout",
     "output_type": "stream",
     "text": [
      "初始化了\n",
      "请输入第一个端点：2,2\n",
      "请输入第二个端点：0,0\n",
      "请输入第三个端点：0,2\n",
      "请输入第四个端点：2,0\n"
     ]
    }
   ],
   "source": [
    "a = XD_()"
   ]
  },
  {
   "cell_type": "code",
   "execution_count": 119,
   "metadata": {},
   "outputs": [
    {
     "name": "stdout",
     "output_type": "stream",
     "text": [
      "1.0 1.0\n"
     ]
    }
   ],
   "source": [
    "a.JD_()"
   ]
  },
  {
   "cell_type": "markdown",
   "metadata": {},
   "source": [
    "- 7\n",
    "![](../Photo/98.png)"
   ]
  },
  {
   "cell_type": "code",
   "execution_count": 75,
   "metadata": {},
   "outputs": [],
   "source": [
    "class R():\n",
    "    def __init__(self):\n",
    "        print('初始化')\n",
    "        self.a = eval(input('请输入值a>>'))\n",
    "        self.b = eval(input('请输入值b>>'))\n",
    "        self.c = eval(input('请输入值c>>'))\n",
    "        self.d = eval(input('请输入值d>>'))\n",
    "        self.e = eval(input('请输入值e>>'))\n",
    "        self.f = eval(input('请输入值f>>'))\n",
    "    def isSolvable(self):\n",
    "        if self.a * self.d - self.b * self.c != 0:\n",
    "            print('true')\n",
    "        else:\n",
    "            print('这个方程式无解')\n",
    "    def X(self):\n",
    "        x = (self.e * self.d - self.b * self.f) / (self.a * self.d - self.b * self.c)\n",
    "        return x\n",
    "    def Y(self):\n",
    "        y = (self.a * self.f - self.e * self.c) / (self.a * self.d - self.b * self.c)\n",
    "        return y\n",
    "    \n",
    "        "
   ]
  },
  {
   "cell_type": "code",
   "execution_count": 76,
   "metadata": {},
   "outputs": [
    {
     "name": "stdout",
     "output_type": "stream",
     "text": [
      "初始化\n",
      "请输入值a>>5\n",
      "请输入值b>>2\n",
      "请输入值c>>5\n",
      "请输入值d>>2\n",
      "请输入值e>>5\n",
      "请输入值f>>1\n"
     ]
    }
   ],
   "source": [
    "a = R()"
   ]
  },
  {
   "cell_type": "code",
   "execution_count": 78,
   "metadata": {},
   "outputs": [
    {
     "name": "stdout",
     "output_type": "stream",
     "text": [
      "这个方程式无解\n"
     ]
    }
   ],
   "source": [
    "a.isSolvable()"
   ]
  },
  {
   "cell_type": "code",
   "execution_count": 79,
   "metadata": {},
   "outputs": [
    {
     "ename": "ZeroDivisionError",
     "evalue": "division by zero",
     "output_type": "error",
     "traceback": [
      "\u001b[1;31m---------------------------------------------------------------------------\u001b[0m",
      "\u001b[1;31mZeroDivisionError\u001b[0m                         Traceback (most recent call last)",
      "\u001b[1;32m<ipython-input-79-390542f67c1b>\u001b[0m in \u001b[0;36m<module>\u001b[1;34m\u001b[0m\n\u001b[1;32m----> 1\u001b[1;33m \u001b[0ma\u001b[0m\u001b[1;33m.\u001b[0m\u001b[0mX\u001b[0m\u001b[1;33m(\u001b[0m\u001b[1;33m)\u001b[0m\u001b[1;33m\u001b[0m\u001b[1;33m\u001b[0m\u001b[0m\n\u001b[0m",
      "\u001b[1;32m<ipython-input-75-b57399a50ad8>\u001b[0m in \u001b[0;36mX\u001b[1;34m(self)\u001b[0m\n\u001b[0;32m     14\u001b[0m             \u001b[0mprint\u001b[0m\u001b[1;33m(\u001b[0m\u001b[1;34m'这个方程式无解'\u001b[0m\u001b[1;33m)\u001b[0m\u001b[1;33m\u001b[0m\u001b[1;33m\u001b[0m\u001b[0m\n\u001b[0;32m     15\u001b[0m     \u001b[1;32mdef\u001b[0m \u001b[0mX\u001b[0m\u001b[1;33m(\u001b[0m\u001b[0mself\u001b[0m\u001b[1;33m)\u001b[0m\u001b[1;33m:\u001b[0m\u001b[1;33m\u001b[0m\u001b[1;33m\u001b[0m\u001b[0m\n\u001b[1;32m---> 16\u001b[1;33m         \u001b[0mx\u001b[0m \u001b[1;33m=\u001b[0m \u001b[1;33m(\u001b[0m\u001b[0mself\u001b[0m\u001b[1;33m.\u001b[0m\u001b[0me\u001b[0m \u001b[1;33m*\u001b[0m \u001b[0mself\u001b[0m\u001b[1;33m.\u001b[0m\u001b[0md\u001b[0m \u001b[1;33m-\u001b[0m \u001b[0mself\u001b[0m\u001b[1;33m.\u001b[0m\u001b[0mb\u001b[0m \u001b[1;33m*\u001b[0m \u001b[0mself\u001b[0m\u001b[1;33m.\u001b[0m\u001b[0mf\u001b[0m\u001b[1;33m)\u001b[0m \u001b[1;33m/\u001b[0m \u001b[1;33m(\u001b[0m\u001b[0mself\u001b[0m\u001b[1;33m.\u001b[0m\u001b[0ma\u001b[0m \u001b[1;33m*\u001b[0m \u001b[0mself\u001b[0m\u001b[1;33m.\u001b[0m\u001b[0md\u001b[0m \u001b[1;33m-\u001b[0m \u001b[0mself\u001b[0m\u001b[1;33m.\u001b[0m\u001b[0mb\u001b[0m \u001b[1;33m*\u001b[0m \u001b[0mself\u001b[0m\u001b[1;33m.\u001b[0m\u001b[0mc\u001b[0m\u001b[1;33m)\u001b[0m\u001b[1;33m\u001b[0m\u001b[1;33m\u001b[0m\u001b[0m\n\u001b[0m\u001b[0;32m     17\u001b[0m         \u001b[1;32mreturn\u001b[0m \u001b[0mx\u001b[0m\u001b[1;33m\u001b[0m\u001b[1;33m\u001b[0m\u001b[0m\n\u001b[0;32m     18\u001b[0m     \u001b[1;32mdef\u001b[0m \u001b[0mY\u001b[0m\u001b[1;33m(\u001b[0m\u001b[0mself\u001b[0m\u001b[1;33m)\u001b[0m\u001b[1;33m:\u001b[0m\u001b[1;33m\u001b[0m\u001b[1;33m\u001b[0m\u001b[0m\n",
      "\u001b[1;31mZeroDivisionError\u001b[0m: division by zero"
     ]
    }
   ],
   "source": [
    "a.X()"
   ]
  },
  {
   "cell_type": "code",
   "execution_count": 80,
   "metadata": {},
   "outputs": [
    {
     "ename": "ZeroDivisionError",
     "evalue": "division by zero",
     "output_type": "error",
     "traceback": [
      "\u001b[1;31m---------------------------------------------------------------------------\u001b[0m",
      "\u001b[1;31mZeroDivisionError\u001b[0m                         Traceback (most recent call last)",
      "\u001b[1;32m<ipython-input-80-a69ab7bc5b42>\u001b[0m in \u001b[0;36m<module>\u001b[1;34m\u001b[0m\n\u001b[1;32m----> 1\u001b[1;33m \u001b[0ma\u001b[0m\u001b[1;33m.\u001b[0m\u001b[0mY\u001b[0m\u001b[1;33m(\u001b[0m\u001b[1;33m)\u001b[0m\u001b[1;33m\u001b[0m\u001b[1;33m\u001b[0m\u001b[0m\n\u001b[0m",
      "\u001b[1;32m<ipython-input-75-b57399a50ad8>\u001b[0m in \u001b[0;36mY\u001b[1;34m(self)\u001b[0m\n\u001b[0;32m     17\u001b[0m         \u001b[1;32mreturn\u001b[0m \u001b[0mx\u001b[0m\u001b[1;33m\u001b[0m\u001b[1;33m\u001b[0m\u001b[0m\n\u001b[0;32m     18\u001b[0m     \u001b[1;32mdef\u001b[0m \u001b[0mY\u001b[0m\u001b[1;33m(\u001b[0m\u001b[0mself\u001b[0m\u001b[1;33m)\u001b[0m\u001b[1;33m:\u001b[0m\u001b[1;33m\u001b[0m\u001b[1;33m\u001b[0m\u001b[0m\n\u001b[1;32m---> 19\u001b[1;33m         \u001b[0my\u001b[0m \u001b[1;33m=\u001b[0m \u001b[1;33m(\u001b[0m\u001b[0mself\u001b[0m\u001b[1;33m.\u001b[0m\u001b[0ma\u001b[0m \u001b[1;33m*\u001b[0m \u001b[0mself\u001b[0m\u001b[1;33m.\u001b[0m\u001b[0mf\u001b[0m \u001b[1;33m-\u001b[0m \u001b[0mself\u001b[0m\u001b[1;33m.\u001b[0m\u001b[0me\u001b[0m \u001b[1;33m*\u001b[0m \u001b[0mself\u001b[0m\u001b[1;33m.\u001b[0m\u001b[0mc\u001b[0m\u001b[1;33m)\u001b[0m \u001b[1;33m/\u001b[0m \u001b[1;33m(\u001b[0m\u001b[0mself\u001b[0m\u001b[1;33m.\u001b[0m\u001b[0ma\u001b[0m \u001b[1;33m*\u001b[0m \u001b[0mself\u001b[0m\u001b[1;33m.\u001b[0m\u001b[0md\u001b[0m \u001b[1;33m-\u001b[0m \u001b[0mself\u001b[0m\u001b[1;33m.\u001b[0m\u001b[0mb\u001b[0m \u001b[1;33m*\u001b[0m \u001b[0mself\u001b[0m\u001b[1;33m.\u001b[0m\u001b[0mc\u001b[0m\u001b[1;33m)\u001b[0m\u001b[1;33m\u001b[0m\u001b[1;33m\u001b[0m\u001b[0m\n\u001b[0m\u001b[0;32m     20\u001b[0m         \u001b[1;32mreturn\u001b[0m \u001b[0my\u001b[0m\u001b[1;33m\u001b[0m\u001b[1;33m\u001b[0m\u001b[0m\n\u001b[0;32m     21\u001b[0m \u001b[1;33m\u001b[0m\u001b[0m\n",
      "\u001b[1;31mZeroDivisionError\u001b[0m: division by zero"
     ]
    }
   ],
   "source": [
    "a.Y()"
   ]
  },
  {
   "cell_type": "code",
   "execution_count": null,
   "metadata": {},
   "outputs": [],
   "source": []
  }
 ],
 "metadata": {
  "kernelspec": {
   "display_name": "Python 3",
   "language": "python",
   "name": "python3"
  },
  "language_info": {
   "codemirror_mode": {
    "name": "ipython",
    "version": 3
   },
   "file_extension": ".py",
   "mimetype": "text/x-python",
   "name": "python",
   "nbconvert_exporter": "python",
   "pygments_lexer": "ipython3",
   "version": "3.7.3"
  }
 },
 "nbformat": 4,
 "nbformat_minor": 2
}
