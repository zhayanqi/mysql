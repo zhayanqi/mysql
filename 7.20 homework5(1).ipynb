{
 "cells": [
  {
   "cell_type": "markdown",
   "metadata": {},
   "source": [
    "# 函数\n",
    "\n",
    "- 函数可以用来定义可重复代码，组织和简化\n",
    "- 一般来说一个函数在实际开发中为一个小功能\n",
    "- 一个类为一个大功能\n",
    "- 同样函数的长度不要超过一屏"
   ]
  },
  {
   "cell_type": "markdown",
   "metadata": {},
   "source": [
    "Python中的所有函数实际上都是有返回值(return None),\n",
    "\n",
    "如果你没有设置return,那么Python将不显示None.\n",
    "\n",
    "如果你设置return,那么将返回出return这个值."
   ]
  },
  {
   "cell_type": "code",
   "execution_count": 23,
   "metadata": {},
   "outputs": [],
   "source": [
    "def zyr():\n",
    "    print('hello')\n",
    "    return 100"
   ]
  },
  {
   "cell_type": "code",
   "execution_count": 24,
   "metadata": {},
   "outputs": [
    {
     "name": "stdout",
     "output_type": "stream",
     "text": [
      "hello\n"
     ]
    },
    {
     "data": {
      "text/plain": [
       "100"
      ]
     },
     "execution_count": 24,
     "metadata": {},
     "output_type": "execute_result"
    }
   ],
   "source": [
    "zyr()"
   ]
  },
  {
   "cell_type": "code",
   "execution_count": 25,
   "metadata": {},
   "outputs": [],
   "source": [
    "def zyr():\n",
    "    print('hello')"
   ]
  },
  {
   "cell_type": "code",
   "execution_count": 26,
   "metadata": {},
   "outputs": [
    {
     "name": "stdout",
     "output_type": "stream",
     "text": [
      "hello\n",
      "None\n"
     ]
    }
   ],
   "source": [
    "b = zyr()\n",
    "print(b)"
   ]
  },
  {
   "cell_type": "markdown",
   "metadata": {},
   "source": [
    "## 定义一个函数\n",
    "\n",
    "def function_name(list of parameters):\n",
    "    \n",
    "    do something\n",
    "![](../Photo/69.png)\n",
    "- 以前使用的random 或者range 或者print.. 其实都是函数或者类"
   ]
  },
  {
   "cell_type": "code",
   "execution_count": 5,
   "metadata": {},
   "outputs": [],
   "source": [
    "def max_(num1,num2,num3):\n",
    "    if num1 > num2 > num3:\n",
    "        result = num1\n",
    "    elif num2 > num3 >num1:\n",
    "        result = num2\n",
    "    else:\n",
    "        result = num3\n",
    "    return result\n",
    "#比大小       "
   ]
  },
  {
   "cell_type": "code",
   "execution_count": 6,
   "metadata": {},
   "outputs": [
    {
     "data": {
      "text/plain": [
       "5"
      ]
     },
     "execution_count": 6,
     "metadata": {},
     "output_type": "execute_result"
    }
   ],
   "source": [
    "max_(1,5,3)"
   ]
  },
  {
   "cell_type": "code",
   "execution_count": 36,
   "metadata": {},
   "outputs": [],
   "source": [
    "def max_(n1,n2,n3):\n",
    "    if n1 > n2 and n1 >n3:\n",
    "        result = n1\n",
    "    elif n2 > n3 >n1:\n",
    "        result = n2\n",
    "    else:\n",
    "        result = n3\n",
    "    return result\n",
    "    "
   ]
  },
  {
   "cell_type": "code",
   "execution_count": 37,
   "metadata": {},
   "outputs": [
    {
     "data": {
      "text/plain": [
       "6"
      ]
     },
     "execution_count": 37,
     "metadata": {},
     "output_type": "execute_result"
    }
   ],
   "source": [
    "max_(2,6,4)"
   ]
  },
  {
   "cell_type": "code",
   "execution_count": 11,
   "metadata": {},
   "outputs": [],
   "source": [
    "import random"
   ]
  },
  {
   "cell_type": "code",
   "execution_count": 1,
   "metadata": {},
   "outputs": [],
   "source": [
    "def hahah():\n",
    "    n = random.randint(0,5)\n",
    "    while 1:\n",
    "        N = eval(input('>>'))\n",
    "        if n == N :\n",
    "            print('CORRT')\n",
    "            break\n",
    "        if  n < N:\n",
    "            print('太小了')\n",
    "        if n > N:\n",
    "            print('太大了')"
   ]
  },
  {
   "cell_type": "code",
   "execution_count": 4,
   "metadata": {},
   "outputs": [
    {
     "ename": "TypeError",
     "evalue": "hahah() takes 0 positional arguments but 1 was given",
     "output_type": "error",
     "traceback": [
      "\u001b[1;31m---------------------------------------------------------------------------\u001b[0m",
      "\u001b[1;31mTypeError\u001b[0m                                 Traceback (most recent call last)",
      "\u001b[1;32m<ipython-input-4-96dfa442a591>\u001b[0m in \u001b[0;36m<module>\u001b[1;34m\u001b[0m\n\u001b[1;32m----> 1\u001b[1;33m \u001b[0mhahah\u001b[0m\u001b[1;33m(\u001b[0m\u001b[1;36m1\u001b[0m\u001b[1;33m)\u001b[0m\u001b[1;33m\u001b[0m\u001b[1;33m\u001b[0m\u001b[0m\n\u001b[0m",
      "\u001b[1;31mTypeError\u001b[0m: hahah() takes 0 positional arguments but 1 was given"
     ]
    }
   ],
   "source": [
    "hahah(1)"
   ]
  },
  {
   "cell_type": "code",
   "execution_count": 5,
   "metadata": {},
   "outputs": [],
   "source": [
    "def zyr(name):  #参数\n",
    "    print(name,'zzyyrr')"
   ]
  },
  {
   "cell_type": "code",
   "execution_count": 6,
   "metadata": {},
   "outputs": [
    {
     "name": "stdout",
     "output_type": "stream",
     "text": [
      "lll zzyyrr\n"
     ]
    }
   ],
   "source": [
    "zyr('lll')#调用函数"
   ]
  },
  {
   "cell_type": "code",
   "execution_count": 12,
   "metadata": {},
   "outputs": [],
   "source": [
    "def number(x):\n",
    "    if x % 2 == 0:\n",
    "        print('偶数')\n",
    "    else:\n",
    "        print('奇数')"
   ]
  },
  {
   "cell_type": "code",
   "execution_count": 11,
   "metadata": {},
   "outputs": [
    {
     "name": "stdout",
     "output_type": "stream",
     "text": [
      "<function number at 0x0000017B5B8548C8> 奇数\n"
     ]
    }
   ],
   "source": [
    "number(1)"
   ]
  },
  {
   "cell_type": "code",
   "execution_count": 17,
   "metadata": {},
   "outputs": [],
   "source": [
    "#教讲\n",
    "def panduan(number):\n",
    "    if number % 2 == 0:\n",
    "        print('0')\n",
    "    else:\n",
    "        print('1')\n",
    "    "
   ]
  },
  {
   "cell_type": "code",
   "execution_count": 20,
   "metadata": {},
   "outputs": [
    {
     "name": "stdout",
     "output_type": "stream",
     "text": [
      "0\n"
     ]
    }
   ],
   "source": [
    "panduan(number==2)"
   ]
  },
  {
   "cell_type": "code",
   "execution_count": 21,
   "metadata": {},
   "outputs": [],
   "source": [
    "def zyr(name1,name2='lll'):\n",
    "    print(name1,'矮子')\n",
    "    print(name2,'瘦子')\n",
    "#默认值在后期给予值时会覆盖\n",
    "#默认参数在最后面"
   ]
  },
  {
   "cell_type": "code",
   "execution_count": 22,
   "metadata": {},
   "outputs": [
    {
     "name": "stdout",
     "output_type": "stream",
     "text": [
      "mmm 矮子\n",
      "yx 瘦子\n"
     ]
    }
   ],
   "source": [
    "zyr(name1='mmm',name2='yx')"
   ]
  },
  {
   "cell_type": "markdown",
   "metadata": {},
   "source": [
    "函数的参数如果有默认值的情况,当你调用该函数的时候:\n",
    "可以不给予参数值,那么就会走该参数的默认值\n",
    "否则的话,就走你给予的参数值."
   ]
  },
  {
   "cell_type": "markdown",
   "metadata": {},
   "source": [
    "## 调用一个函数\n",
    "- functionName()\n",
    "- \"()\" 就代表调用"
   ]
  },
  {
   "cell_type": "code",
   "execution_count": 5,
   "metadata": {},
   "outputs": [],
   "source": [
    "def H():\n",
    "    print('hahah')"
   ]
  },
  {
   "cell_type": "code",
   "execution_count": 6,
   "metadata": {},
   "outputs": [],
   "source": [
    "def B():\n",
    "    H()"
   ]
  },
  {
   "cell_type": "code",
   "execution_count": 7,
   "metadata": {},
   "outputs": [
    {
     "name": "stdout",
     "output_type": "stream",
     "text": [
      "hahah\n"
     ]
    }
   ],
   "source": [
    "B()"
   ]
  },
  {
   "cell_type": "code",
   "execution_count": 8,
   "metadata": {},
   "outputs": [],
   "source": [
    "#函数名当参数使用\n",
    "def A(f):\n",
    "    f()\n"
   ]
  },
  {
   "cell_type": "code",
   "execution_count": 9,
   "metadata": {},
   "outputs": [
    {
     "name": "stdout",
     "output_type": "stream",
     "text": [
      "hahah\n"
     ]
    }
   ],
   "source": [
    "A(B)"
   ]
  },
  {
   "cell_type": "markdown",
   "metadata": {},
   "source": [
    "![](../Photo/70.png)"
   ]
  },
  {
   "cell_type": "markdown",
   "metadata": {},
   "source": [
    "## 带返回值和不带返回值的函数\n",
    "- return 返回的内容\n",
    "- return 返回多个值\n",
    "- 一般情况下，在多个函数协同完成一个功能的时候，那么将会有返回值"
   ]
  },
  {
   "cell_type": "markdown",
   "metadata": {},
   "source": [
    "![](../Photo/71.png)\n",
    "\n",
    "- 当然也可以自定义返回None"
   ]
  },
  {
   "cell_type": "markdown",
   "metadata": {},
   "source": [
    "## EP：\n",
    "![](../Photo/72.png)"
   ]
  },
  {
   "cell_type": "code",
   "execution_count": 10,
   "metadata": {},
   "outputs": [],
   "source": [
    "def main():\n",
    "    print(min(5,6))"
   ]
  },
  {
   "cell_type": "code",
   "execution_count": 11,
   "metadata": {},
   "outputs": [],
   "source": [
    "def min(n1,n2):\n",
    "    smallest = n1\n",
    "    if n2 <smallest:\n",
    "        smallest = n2"
   ]
  },
  {
   "cell_type": "code",
   "execution_count": 12,
   "metadata": {},
   "outputs": [
    {
     "name": "stdout",
     "output_type": "stream",
     "text": [
      "None\n"
     ]
    }
   ],
   "source": [
    "main()"
   ]
  },
  {
   "cell_type": "code",
   "execution_count": 13,
   "metadata": {},
   "outputs": [],
   "source": [
    "def T():\n",
    "    print('hahah')\n",
    "def Y():\n",
    "    print(T())"
   ]
  },
  {
   "cell_type": "code",
   "execution_count": 14,
   "metadata": {},
   "outputs": [
    {
     "name": "stdout",
     "output_type": "stream",
     "text": [
      "hahah\n",
      "None\n"
     ]
    }
   ],
   "source": [
    "Y()"
   ]
  },
  {
   "cell_type": "markdown",
   "metadata": {},
   "source": [
    "## 类型和关键字参数\n",
    "- 普通参数\n",
    "- 多个参数\n",
    "- 默认值参数\n",
    "- 不定长参数"
   ]
  },
  {
   "cell_type": "markdown",
   "metadata": {},
   "source": [
    "## 普通参数"
   ]
  },
  {
   "cell_type": "markdown",
   "metadata": {},
   "source": [
    "## 多个参数"
   ]
  },
  {
   "cell_type": "markdown",
   "metadata": {},
   "source": [
    "## 默认值参数"
   ]
  },
  {
   "cell_type": "markdown",
   "metadata": {},
   "source": [
    "## 强制命名"
   ]
  },
  {
   "cell_type": "code",
   "execution_count": 19,
   "metadata": {},
   "outputs": [],
   "source": [
    "def fzl(name):\n",
    "    print('hello',name)\n"
   ]
  },
  {
   "cell_type": "code",
   "execution_count": 20,
   "metadata": {},
   "outputs": [
    {
     "name": "stdout",
     "output_type": "stream",
     "text": [
      "hello yx\n"
     ]
    }
   ],
   "source": [
    "fzl('yx')\n",
    "\n"
   ]
  },
  {
   "cell_type": "code",
   "execution_count": 21,
   "metadata": {},
   "outputs": [],
   "source": [
    "def fzl(*,name):\n",
    "    print('hello',name)\n",
    "#强制命名"
   ]
  },
  {
   "cell_type": "code",
   "execution_count": 22,
   "metadata": {},
   "outputs": [
    {
     "name": "stdout",
     "output_type": "stream",
     "text": [
      "hello yx\n"
     ]
    }
   ],
   "source": [
    "fzl(name='yx')"
   ]
  },
  {
   "cell_type": "code",
   "execution_count": null,
   "metadata": {},
   "outputs": [],
   "source": []
  },
  {
   "cell_type": "markdown",
   "metadata": {},
   "source": [
    "## 不定长参数\n",
    "- \\*args\n",
    "> - 不定长，来多少装多少，不装也是可以的\n",
    "  - 返回的数据类型是元组\n",
    "  - args 名字是可以修改的，只是我们约定俗成的是args\n",
    "- \\**kwargs \n",
    "> - 返回的字典\n",
    "  - 输入的一定要是表达式（键值对）\n",
    "- name,\\*args,name2,\\**kwargs  使用参数名"
   ]
  },
  {
   "cell_type": "code",
   "execution_count": 27,
   "metadata": {},
   "outputs": [],
   "source": [
    "def joker(*args):\n",
    "    print(args)"
   ]
  },
  {
   "cell_type": "code",
   "execution_count": 26,
   "metadata": {},
   "outputs": [
    {
     "name": "stdout",
     "output_type": "stream",
     "text": [
      "(1, 2, 3, 4, 5, 6, 7)\n"
     ]
    }
   ],
   "source": [
    "joker(1,2,3,4,5,6,7)\n",
    "#返回的值叫元组"
   ]
  },
  {
   "cell_type": "code",
   "execution_count": 31,
   "metadata": {},
   "outputs": [],
   "source": [
    "def zyr1(*yx):\n",
    "    print(yx)"
   ]
  },
  {
   "cell_type": "code",
   "execution_count": 33,
   "metadata": {},
   "outputs": [
    {
     "name": "stdout",
     "output_type": "stream",
     "text": [
      "(1, 2, 3)\n"
     ]
    }
   ],
   "source": [
    "zyr1(1,2,3)"
   ]
  },
  {
   "cell_type": "code",
   "execution_count": 262,
   "metadata": {},
   "outputs": [],
   "source": [
    "def max_(*args):\n",
    "    print(args)\n",
    "    for i in args:\n",
    "        print(i)\n",
    "    a = eval(input('>>'))\n",
    "    if i > a :\n",
    "        print(i)\n",
    "    else:\n",
    "        print(a)\n",
    "   \n",
    "    "
   ]
  },
  {
   "cell_type": "code",
   "execution_count": 263,
   "metadata": {},
   "outputs": [
    {
     "name": "stdout",
     "output_type": "stream",
     "text": [
      "(4, 5, 6)\n",
      "4\n",
      "5\n",
      "6\n",
      ">>8\n",
      "8\n"
     ]
    }
   ],
   "source": [
    "max_(4,5,6)"
   ]
  },
  {
   "cell_type": "code",
   "execution_count": 51,
   "metadata": {},
   "outputs": [],
   "source": [
    "#教讲(最大值)\n",
    "def max_(*args):\n",
    "    res = 0\n",
    "    for i in args:\n",
    "        if i > res :\n",
    "            res = i\n",
    "    return res\n",
    "   \n",
    "    "
   ]
  },
  {
   "cell_type": "code",
   "execution_count": 52,
   "metadata": {},
   "outputs": [
    {
     "data": {
      "text/plain": [
       "8"
      ]
     },
     "execution_count": 52,
     "metadata": {},
     "output_type": "execute_result"
    }
   ],
   "source": [
    "max_(1,3,5,8)"
   ]
  },
  {
   "cell_type": "code",
   "execution_count": 53,
   "metadata": {},
   "outputs": [],
   "source": [
    "def sum_(*args):\n",
    "    res = 0\n",
    "    for i in args:\n",
    "        res += i\n",
    "    return res\n",
    "        \n",
    "            "
   ]
  },
  {
   "cell_type": "code",
   "execution_count": 54,
   "metadata": {},
   "outputs": [
    {
     "data": {
      "text/plain": [
       "15"
      ]
     },
     "execution_count": 54,
     "metadata": {},
     "output_type": "execute_result"
    }
   ],
   "source": [
    "sum_(5,4,6)"
   ]
  },
  {
   "cell_type": "code",
   "execution_count": 96,
   "metadata": {},
   "outputs": [],
   "source": [
    "def sum_(*args):\n",
    "    res = 0\n",
    "    count = 0\n",
    "    for i in args:\n",
    "        res += i\n",
    "        count += 1\n",
    "    mean = res / (count-1)\n",
    "    return res,mean"
   ]
  },
  {
   "cell_type": "code",
   "execution_count": 98,
   "metadata": {},
   "outputs": [],
   "source": [
    "SUM,MEAN = sum_(1,2,5)"
   ]
  },
  {
   "cell_type": "code",
   "execution_count": 68,
   "metadata": {},
   "outputs": [],
   "source": [
    "def TTT(**kwargs):\n",
    "    print(kwargs)"
   ]
  },
  {
   "cell_type": "code",
   "execution_count": 69,
   "metadata": {},
   "outputs": [
    {
     "name": "stdout",
     "output_type": "stream",
     "text": [
      "{'a': 1, 'b': 2, 'c': 3}\n"
     ]
    }
   ],
   "source": [
    "TTT(a = 1,b = 2 , c= 3)"
   ]
  },
  {
   "cell_type": "markdown",
   "metadata": {},
   "source": [
    "## 变量的作用域\n",
    "- 局部变量 local\n",
    "- 全局变量 global\n",
    "- globals 函数返回一个全局变量的字典，包括所有导入的变量\n",
    "- locals() 函数会以字典类型返回当前位置的全部局部变量。"
   ]
  },
  {
   "cell_type": "code",
   "execution_count": 76,
   "metadata": {},
   "outputs": [
    {
     "data": {
      "text/plain": [
       "{'__name__': '__main__',\n",
       " '__doc__': 'Automatically created module for IPython interactive environment',\n",
       " '__package__': None,\n",
       " '__loader__': None,\n",
       " '__spec__': None,\n",
       " '__builtin__': <module 'builtins' (built-in)>,\n",
       " '__builtins__': <module 'builtins' (built-in)>,\n",
       " '_ih': ['',\n",
       "  \"def hahah():\\n    n = random.randint(0,5)\\n    while 1:\\n        N = eval(input('>>'))\\n        if n == N :\\n            print('CORRT')\\n            break\\n        if  n < N:\\n            print('太小了')\\n        if n > N:\\n            print('太大了')\",\n",
       "  \"hahah('3')\",\n",
       "  \"hahah('1')\",\n",
       "  'hahah(1)',\n",
       "  \"def H():\\n    print('hahah')\",\n",
       "  'def B():\\n    H()',\n",
       "  'B()',\n",
       "  '#函数名当参数使用\\ndef A(f):\\n    f()',\n",
       "  'A(B)',\n",
       "  'def main():\\n    print(min(5,6))',\n",
       "  'def min(n1,n2):\\n    smallest = n1\\n    if n2 <smallest:\\n        smallest = n2',\n",
       "  'main()',\n",
       "  \"def T():\\n    print('hahah')\\ndef Y():\\n    print(T())\",\n",
       "  'Y()',\n",
       "  \"def fzl(name):\\n    print('hello',name)\",\n",
       "  \"fzl('yx')\",\n",
       "  \"def fzl(*,name):\\n    print('hello',name)\",\n",
       "  \"fzl('yx')\",\n",
       "  \"def fzl(name):\\n    print('hello',name)\",\n",
       "  \"fzl('yx')\",\n",
       "  \"def fzl(*,name):\\n    print('hello',name)\",\n",
       "  \"fzl(name='yx')\",\n",
       "  'def joker(*args):\\n    print(*args)',\n",
       "  'joker(1,2,3,4,5,6,7)',\n",
       "  'def joker(*args):\\n    print(args)',\n",
       "  'joker(1,2,3,4,5,6,7)',\n",
       "  'def joker(*args):\\n    print(args)',\n",
       "  'zyr(1,2,3,)',\n",
       "  'def zyr(*1):\\n    print(1)',\n",
       "  'def zyr1(*1):\\n    print(1)',\n",
       "  'def zyr1(*yx):\\n    print(yx)',\n",
       "  'zyr(1,2,3)',\n",
       "  'zyr1(1,2,3)',\n",
       "  'def max_(n1,n2,n3):\\n    if n1 > n2 and n1 >n3:\\n        result = n1\\n    elif num2 > num3 >num1:\\n        result = num2\\n    else:\\n        result = num3\\n    return result\\n    ',\n",
       "  'max_(2,6,4)',\n",
       "  'def max_(n1,n2,n3):\\n    if n1 > n2 and n1 >n3:\\n        result = n1\\n    elif n2 > n3 >n1:\\n        result = n2\\n    else:\\n        result = n3\\n    return result\\n    ',\n",
       "  'max_(2,6,4)',\n",
       "  'def max_(*args):\\n    if n1 > n2 and n1 >n3:\\n        result = n1\\n    elif n2 > n3 >n1:\\n        result = n2\\n    else:\\n        result = n3\\n    return result\\n    print(args)\\n    ',\n",
       "  'max_(4,5,6)',\n",
       "  'def max_(*args):\\n    print(args)\\n    for i in args:\\n        print(i)\\n   \\n    ',\n",
       "  'max_(4,5,6)',\n",
       "  \"def max_(*args):\\n    print(args)\\n    for i in args:\\n        print(i)\\n    a = eval(input('>>'))\\n    if i > a :\\n        print(i)\\n    else:\\n        print(a)\\n   \\n    \",\n",
       "  'max_(4,5,6)',\n",
       "  'max_(4,5,6)',\n",
       "  \"def max_(*args):\\n    print(args)\\n    for i in args:\\n        print(i)\\n    a = eval(input('>>'))\\n    if i > a :\\n        print(i)\\n    else:\\n        print(a)\\n   \\n    \",\n",
       "  'max_(4,5,6)',\n",
       "  'max_(4,5,6)',\n",
       "  'def max_(*args):\\n    res = 0\\n    for i in args:\\n        if i > a :\\n            res = i\\nreturn res\\n   \\n    ',\n",
       "  'def max_(*args):\\n    res = 0\\n    for i in args:\\n        if i > a :\\n            res = i\\n    return res\\n   \\n    ',\n",
       "  'max_(1,3,5,8)',\n",
       "  'def max_(*args):\\n    res = 0\\n    for i in args:\\n        if i > res :\\n            res = i\\n    return res\\n   \\n    ',\n",
       "  'max_(1,3,5,8)',\n",
       "  'def sum_(*args):\\n    res = 0\\n    for i in args:\\n        res += i\\n    return res\\n        \\n            ',\n",
       "  'sum_(5,4,6)',\n",
       "  'def sum_(*args):\\n    res = 0\\n    for i in args:\\n        res += i\\n        avg = res/args\\n    return avg',\n",
       "  'avg_(5,6,8)',\n",
       "  'def sum_(*args):\\n    res = 0\\n    avg = 0\\n    for i in args:\\n        res += i\\n        avg = res/args\\n    return avg',\n",
       "  'avg_(5,6,8)',\n",
       "  'def avg_(*args):\\n    res = 0\\n    avg = 0\\n    for i in args:\\n        res += i\\n        avg = res/args\\n    return avg',\n",
       "  'avg_(5,6,8)',\n",
       "  'sum,avg = sum_(1)',\n",
       "  'def sum_(*args):\\n    res = 0\\n    count = 0\\n    for i in args:\\n        res += i\\n        count += 1\\n    avg = res / (count-1)\\n    return res,avg',\n",
       "  'sum,avg = sum_(1)',\n",
       "  'def sum_(*args):\\n    res = 0\\n    count = 0\\n    for i in args:\\n        res += i\\n        count += 1\\n    mean = res / (count-1)\\n    return res,mean',\n",
       "  'SUM,MEAN = sum_(1)',\n",
       "  'def sum_(*args):\\n    res = 0\\n    count = 0\\n    for i in args:\\n        res += i\\n        count += 1\\n        mean = res / (count-1)\\n    return res,mean',\n",
       "  'SUM,MEAN = sum_(1)',\n",
       "  'def TTT(**kwargs):\\n    print(kwargs)',\n",
       "  'TTT(a = 1,b = 2 , c= 3)',\n",
       "  'def sum_(*args):\\n    res = 0\\n    count = 0\\n    for i in args:\\n        res += i\\n        count += 1\\n        mean = res / (count-1)\\n    return res,mean',\n",
       "  'SUM,MEAN = sum_(1,2)',\n",
       "  'R = 1000\\ndef RR():\\n    print(R)',\n",
       "  'RR()',\n",
       "  'R = 1000\\ndef RR():\\n    global R\\n    R += 100\\n    print(R)',\n",
       "  'RR()',\n",
       "  'globals()'],\n",
       " '_oh': {37: 6, 52: 8, 54: 15},\n",
       " '_dh': ['C:\\\\Users\\\\yr\\\\Desktop\\\\Python\\\\Python基础'],\n",
       " 'In': ['',\n",
       "  \"def hahah():\\n    n = random.randint(0,5)\\n    while 1:\\n        N = eval(input('>>'))\\n        if n == N :\\n            print('CORRT')\\n            break\\n        if  n < N:\\n            print('太小了')\\n        if n > N:\\n            print('太大了')\",\n",
       "  \"hahah('3')\",\n",
       "  \"hahah('1')\",\n",
       "  'hahah(1)',\n",
       "  \"def H():\\n    print('hahah')\",\n",
       "  'def B():\\n    H()',\n",
       "  'B()',\n",
       "  '#函数名当参数使用\\ndef A(f):\\n    f()',\n",
       "  'A(B)',\n",
       "  'def main():\\n    print(min(5,6))',\n",
       "  'def min(n1,n2):\\n    smallest = n1\\n    if n2 <smallest:\\n        smallest = n2',\n",
       "  'main()',\n",
       "  \"def T():\\n    print('hahah')\\ndef Y():\\n    print(T())\",\n",
       "  'Y()',\n",
       "  \"def fzl(name):\\n    print('hello',name)\",\n",
       "  \"fzl('yx')\",\n",
       "  \"def fzl(*,name):\\n    print('hello',name)\",\n",
       "  \"fzl('yx')\",\n",
       "  \"def fzl(name):\\n    print('hello',name)\",\n",
       "  \"fzl('yx')\",\n",
       "  \"def fzl(*,name):\\n    print('hello',name)\",\n",
       "  \"fzl(name='yx')\",\n",
       "  'def joker(*args):\\n    print(*args)',\n",
       "  'joker(1,2,3,4,5,6,7)',\n",
       "  'def joker(*args):\\n    print(args)',\n",
       "  'joker(1,2,3,4,5,6,7)',\n",
       "  'def joker(*args):\\n    print(args)',\n",
       "  'zyr(1,2,3,)',\n",
       "  'def zyr(*1):\\n    print(1)',\n",
       "  'def zyr1(*1):\\n    print(1)',\n",
       "  'def zyr1(*yx):\\n    print(yx)',\n",
       "  'zyr(1,2,3)',\n",
       "  'zyr1(1,2,3)',\n",
       "  'def max_(n1,n2,n3):\\n    if n1 > n2 and n1 >n3:\\n        result = n1\\n    elif num2 > num3 >num1:\\n        result = num2\\n    else:\\n        result = num3\\n    return result\\n    ',\n",
       "  'max_(2,6,4)',\n",
       "  'def max_(n1,n2,n3):\\n    if n1 > n2 and n1 >n3:\\n        result = n1\\n    elif n2 > n3 >n1:\\n        result = n2\\n    else:\\n        result = n3\\n    return result\\n    ',\n",
       "  'max_(2,6,4)',\n",
       "  'def max_(*args):\\n    if n1 > n2 and n1 >n3:\\n        result = n1\\n    elif n2 > n3 >n1:\\n        result = n2\\n    else:\\n        result = n3\\n    return result\\n    print(args)\\n    ',\n",
       "  'max_(4,5,6)',\n",
       "  'def max_(*args):\\n    print(args)\\n    for i in args:\\n        print(i)\\n   \\n    ',\n",
       "  'max_(4,5,6)',\n",
       "  \"def max_(*args):\\n    print(args)\\n    for i in args:\\n        print(i)\\n    a = eval(input('>>'))\\n    if i > a :\\n        print(i)\\n    else:\\n        print(a)\\n   \\n    \",\n",
       "  'max_(4,5,6)',\n",
       "  'max_(4,5,6)',\n",
       "  \"def max_(*args):\\n    print(args)\\n    for i in args:\\n        print(i)\\n    a = eval(input('>>'))\\n    if i > a :\\n        print(i)\\n    else:\\n        print(a)\\n   \\n    \",\n",
       "  'max_(4,5,6)',\n",
       "  'max_(4,5,6)',\n",
       "  'def max_(*args):\\n    res = 0\\n    for i in args:\\n        if i > a :\\n            res = i\\nreturn res\\n   \\n    ',\n",
       "  'def max_(*args):\\n    res = 0\\n    for i in args:\\n        if i > a :\\n            res = i\\n    return res\\n   \\n    ',\n",
       "  'max_(1,3,5,8)',\n",
       "  'def max_(*args):\\n    res = 0\\n    for i in args:\\n        if i > res :\\n            res = i\\n    return res\\n   \\n    ',\n",
       "  'max_(1,3,5,8)',\n",
       "  'def sum_(*args):\\n    res = 0\\n    for i in args:\\n        res += i\\n    return res\\n        \\n            ',\n",
       "  'sum_(5,4,6)',\n",
       "  'def sum_(*args):\\n    res = 0\\n    for i in args:\\n        res += i\\n        avg = res/args\\n    return avg',\n",
       "  'avg_(5,6,8)',\n",
       "  'def sum_(*args):\\n    res = 0\\n    avg = 0\\n    for i in args:\\n        res += i\\n        avg = res/args\\n    return avg',\n",
       "  'avg_(5,6,8)',\n",
       "  'def avg_(*args):\\n    res = 0\\n    avg = 0\\n    for i in args:\\n        res += i\\n        avg = res/args\\n    return avg',\n",
       "  'avg_(5,6,8)',\n",
       "  'sum,avg = sum_(1)',\n",
       "  'def sum_(*args):\\n    res = 0\\n    count = 0\\n    for i in args:\\n        res += i\\n        count += 1\\n    avg = res / (count-1)\\n    return res,avg',\n",
       "  'sum,avg = sum_(1)',\n",
       "  'def sum_(*args):\\n    res = 0\\n    count = 0\\n    for i in args:\\n        res += i\\n        count += 1\\n    mean = res / (count-1)\\n    return res,mean',\n",
       "  'SUM,MEAN = sum_(1)',\n",
       "  'def sum_(*args):\\n    res = 0\\n    count = 0\\n    for i in args:\\n        res += i\\n        count += 1\\n        mean = res / (count-1)\\n    return res,mean',\n",
       "  'SUM,MEAN = sum_(1)',\n",
       "  'def TTT(**kwargs):\\n    print(kwargs)',\n",
       "  'TTT(a = 1,b = 2 , c= 3)',\n",
       "  'def sum_(*args):\\n    res = 0\\n    count = 0\\n    for i in args:\\n        res += i\\n        count += 1\\n        mean = res / (count-1)\\n    return res,mean',\n",
       "  'SUM,MEAN = sum_(1,2)',\n",
       "  'R = 1000\\ndef RR():\\n    print(R)',\n",
       "  'RR()',\n",
       "  'R = 1000\\ndef RR():\\n    global R\\n    R += 100\\n    print(R)',\n",
       "  'RR()',\n",
       "  'globals()'],\n",
       " 'Out': {37: 6, 52: 8, 54: 15},\n",
       " 'get_ipython': <bound method InteractiveShell.get_ipython of <ipykernel.zmqshell.ZMQInteractiveShell object at 0x000001ACA97D65F8>>,\n",
       " 'exit': <IPython.core.autocall.ZMQExitAutocall at 0x1aca9834a58>,\n",
       " 'quit': <IPython.core.autocall.ZMQExitAutocall at 0x1aca9834a58>,\n",
       " '_': 15,\n",
       " '__': 8,\n",
       " '___': 6,\n",
       " '_i': 'RR()',\n",
       " '_ii': 'R = 1000\\ndef RR():\\n    global R\\n    R += 100\\n    print(R)',\n",
       " '_iii': 'RR()',\n",
       " '_i1': \"def hahah():\\n    n = random.randint(0,5)\\n    while 1:\\n        N = eval(input('>>'))\\n        if n == N :\\n            print('CORRT')\\n            break\\n        if  n < N:\\n            print('太小了')\\n        if n > N:\\n            print('太大了')\",\n",
       " 'hahah': <function __main__.hahah()>,\n",
       " '_i2': \"hahah('3')\",\n",
       " '_i3': \"hahah('1')\",\n",
       " '_i4': 'hahah(1)',\n",
       " '_i5': \"def H():\\n    print('hahah')\",\n",
       " 'H': <function __main__.H()>,\n",
       " '_i6': 'def B():\\n    H()',\n",
       " 'B': <function __main__.B()>,\n",
       " '_i7': 'B()',\n",
       " '_i8': '#函数名当参数使用\\ndef A(f):\\n    f()',\n",
       " 'A': <function __main__.A(f)>,\n",
       " '_i9': 'A(B)',\n",
       " '_i10': 'def main():\\n    print(min(5,6))',\n",
       " 'main': <function __main__.main()>,\n",
       " '_i11': 'def min(n1,n2):\\n    smallest = n1\\n    if n2 <smallest:\\n        smallest = n2',\n",
       " 'min': <function __main__.min(n1, n2)>,\n",
       " '_i12': 'main()',\n",
       " '_i13': \"def T():\\n    print('hahah')\\ndef Y():\\n    print(T())\",\n",
       " 'T': <function __main__.T()>,\n",
       " 'Y': <function __main__.Y()>,\n",
       " '_i14': 'Y()',\n",
       " '_i15': \"def fzl(name):\\n    print('hello',name)\",\n",
       " 'fzl': <function __main__.fzl(*, name)>,\n",
       " '_i16': \"fzl('yx')\",\n",
       " '_i17': \"def fzl(*,name):\\n    print('hello',name)\",\n",
       " '_i18': \"fzl('yx')\",\n",
       " '_i19': \"def fzl(name):\\n    print('hello',name)\",\n",
       " '_i20': \"fzl('yx')\",\n",
       " '_i21': \"def fzl(*,name):\\n    print('hello',name)\",\n",
       " '_i22': \"fzl(name='yx')\",\n",
       " '_i23': 'def joker(*args):\\n    print(*args)',\n",
       " 'joker': <function __main__.joker(*args)>,\n",
       " '_i24': 'joker(1,2,3,4,5,6,7)',\n",
       " '_i25': 'def joker(*args):\\n    print(args)',\n",
       " '_i26': 'joker(1,2,3,4,5,6,7)',\n",
       " '_i27': 'def joker(*args):\\n    print(args)',\n",
       " '_i28': 'zyr(1,2,3,)',\n",
       " '_i29': 'def zyr(*1):\\n    print(1)',\n",
       " '_i30': 'def zyr1(*1):\\n    print(1)',\n",
       " '_i31': 'def zyr1(*yx):\\n    print(yx)',\n",
       " 'zyr1': <function __main__.zyr1(*yx)>,\n",
       " '_i32': 'zyr(1,2,3)',\n",
       " '_i33': 'zyr1(1,2,3)',\n",
       " '_i34': 'def max_(n1,n2,n3):\\n    if n1 > n2 and n1 >n3:\\n        result = n1\\n    elif num2 > num3 >num1:\\n        result = num2\\n    else:\\n        result = num3\\n    return result\\n    ',\n",
       " 'max_': <function __main__.max_(*args)>,\n",
       " '_i35': 'max_(2,6,4)',\n",
       " '_i36': 'def max_(n1,n2,n3):\\n    if n1 > n2 and n1 >n3:\\n        result = n1\\n    elif n2 > n3 >n1:\\n        result = n2\\n    else:\\n        result = n3\\n    return result\\n    ',\n",
       " '_i37': 'max_(2,6,4)',\n",
       " '_37': 6,\n",
       " '_i38': 'def max_(*args):\\n    if n1 > n2 and n1 >n3:\\n        result = n1\\n    elif n2 > n3 >n1:\\n        result = n2\\n    else:\\n        result = n3\\n    return result\\n    print(args)\\n    ',\n",
       " '_i39': 'max_(4,5,6)',\n",
       " '_i40': 'def max_(*args):\\n    print(args)\\n    for i in args:\\n        print(i)\\n   \\n    ',\n",
       " '_i41': 'max_(4,5,6)',\n",
       " '_i42': \"def max_(*args):\\n    print(args)\\n    for i in args:\\n        print(i)\\n    a = eval(input('>>'))\\n    if i > a :\\n        print(i)\\n    else:\\n        print(a)\\n   \\n    \",\n",
       " '_i43': 'max_(4,5,6)',\n",
       " '_i44': 'max_(4,5,6)',\n",
       " '_i45': \"def max_(*args):\\n    print(args)\\n    for i in args:\\n        print(i)\\n    a = eval(input('>>'))\\n    if i > a :\\n        print(i)\\n    else:\\n        print(a)\\n   \\n    \",\n",
       " '_i46': 'max_(4,5,6)',\n",
       " '_i47': 'max_(4,5,6)',\n",
       " '_i48': 'def max_(*args):\\n    res = 0\\n    for i in args:\\n        if i > a :\\n            res = i\\nreturn res\\n   \\n    ',\n",
       " '_i49': 'def max_(*args):\\n    res = 0\\n    for i in args:\\n        if i > a :\\n            res = i\\n    return res\\n   \\n    ',\n",
       " '_i50': 'max_(1,3,5,8)',\n",
       " '_i51': 'def max_(*args):\\n    res = 0\\n    for i in args:\\n        if i > res :\\n            res = i\\n    return res\\n   \\n    ',\n",
       " '_i52': 'max_(1,3,5,8)',\n",
       " '_52': 8,\n",
       " '_i53': 'def sum_(*args):\\n    res = 0\\n    for i in args:\\n        res += i\\n    return res\\n        \\n            ',\n",
       " 'sum_': <function __main__.sum_(*args)>,\n",
       " '_i54': 'sum_(5,4,6)',\n",
       " '_54': 15,\n",
       " '_i55': 'def sum_(*args):\\n    res = 0\\n    for i in args:\\n        res += i\\n        avg = res/args\\n    return avg',\n",
       " '_i56': 'avg_(5,6,8)',\n",
       " '_i57': 'def sum_(*args):\\n    res = 0\\n    avg = 0\\n    for i in args:\\n        res += i\\n        avg = res/args\\n    return avg',\n",
       " '_i58': 'avg_(5,6,8)',\n",
       " '_i59': 'def avg_(*args):\\n    res = 0\\n    avg = 0\\n    for i in args:\\n        res += i\\n        avg = res/args\\n    return avg',\n",
       " 'avg_': <function __main__.avg_(*args)>,\n",
       " '_i60': 'avg_(5,6,8)',\n",
       " '_i61': 'sum,avg = sum_(1)',\n",
       " '_i62': 'def sum_(*args):\\n    res = 0\\n    count = 0\\n    for i in args:\\n        res += i\\n        count += 1\\n    avg = res / (count-1)\\n    return res,avg',\n",
       " '_i63': 'sum,avg = sum_(1)',\n",
       " '_i64': 'def sum_(*args):\\n    res = 0\\n    count = 0\\n    for i in args:\\n        res += i\\n        count += 1\\n    mean = res / (count-1)\\n    return res,mean',\n",
       " '_i65': 'SUM,MEAN = sum_(1)',\n",
       " '_i66': 'def sum_(*args):\\n    res = 0\\n    count = 0\\n    for i in args:\\n        res += i\\n        count += 1\\n        mean = res / (count-1)\\n    return res,mean',\n",
       " '_i67': 'SUM,MEAN = sum_(1)',\n",
       " '_i68': 'def TTT(**kwargs):\\n    print(kwargs)',\n",
       " 'TTT': <function __main__.TTT(**kwargs)>,\n",
       " '_i69': 'TTT(a = 1,b = 2 , c= 3)',\n",
       " '_i70': 'def sum_(*args):\\n    res = 0\\n    count = 0\\n    for i in args:\\n        res += i\\n        count += 1\\n        mean = res / (count-1)\\n    return res,mean',\n",
       " '_i71': 'SUM,MEAN = sum_(1,2)',\n",
       " '_i72': 'R = 1000\\ndef RR():\\n    print(R)',\n",
       " 'R': 1100,\n",
       " 'RR': <function __main__.RR()>,\n",
       " '_i73': 'RR()',\n",
       " '_i74': 'R = 1000\\ndef RR():\\n    global R\\n    R += 100\\n    print(R)',\n",
       " '_i75': 'RR()',\n",
       " '_i76': 'globals()'}"
      ]
     },
     "execution_count": 76,
     "metadata": {},
     "output_type": "execute_result"
    }
   ],
   "source": [
    "globals()"
   ]
  },
  {
   "cell_type": "code",
   "execution_count": 72,
   "metadata": {},
   "outputs": [],
   "source": [
    "R = 1000\n",
    "def RR():\n",
    "    print(R)"
   ]
  },
  {
   "cell_type": "code",
   "execution_count": 73,
   "metadata": {},
   "outputs": [
    {
     "name": "stdout",
     "output_type": "stream",
     "text": [
      "1000\n"
     ]
    }
   ],
   "source": [
    "RR()"
   ]
  },
  {
   "cell_type": "code",
   "execution_count": 74,
   "metadata": {},
   "outputs": [],
   "source": [
    "R = 1000\n",
    "def RR():\n",
    "    global R    #申明全局的R,使用逗号分隔\n",
    "    R += 100\n",
    "    print(R)"
   ]
  },
  {
   "cell_type": "code",
   "execution_count": 75,
   "metadata": {},
   "outputs": [
    {
     "name": "stdout",
     "output_type": "stream",
     "text": [
      "1100\n"
     ]
    }
   ],
   "source": [
    "RR()"
   ]
  },
  {
   "cell_type": "code",
   "execution_count": 77,
   "metadata": {},
   "outputs": [],
   "source": [
    "R = 1000\n",
    "def RR2():\n",
    "    R = 100\n",
    "    R += 100\n",
    "    print(R)\n",
    "    #局部的R"
   ]
  },
  {
   "cell_type": "code",
   "execution_count": 78,
   "metadata": {},
   "outputs": [
    {
     "name": "stdout",
     "output_type": "stream",
     "text": [
      "200\n"
     ]
    }
   ],
   "source": [
    "RR2()"
   ]
  },
  {
   "cell_type": "markdown",
   "metadata": {},
   "source": [
    "编写函数，接收传入的字符串，统计大写字母小写字母数字的个数"
   ]
  },
  {
   "cell_type": "code",
   "execution_count": 84,
   "metadata": {},
   "outputs": [],
   "source": [
    "import math"
   ]
  },
  {
   "cell_type": "code",
   "execution_count": 110,
   "metadata": {},
   "outputs": [],
   "source": [
    "def tongji (*args):\n",
    "    for i in args:\n",
    "        print(i,type(i))"
   ]
  },
  {
   "cell_type": "code",
   "execution_count": 111,
   "metadata": {},
   "outputs": [
    {
     "name": "stdout",
     "output_type": "stream",
     "text": [
      "1 <class 'str'>\n",
      "q <class 'str'>\n",
      "b <class 'str'>\n"
     ]
    }
   ],
   "source": [
    "tongji('1','q','b')"
   ]
  },
  {
   "cell_type": "code",
   "execution_count": 116,
   "metadata": {},
   "outputs": [],
   "source": [
    "def tongji (*args):\n",
    "    shuzi = 0\n",
    "    xiaoxie = 0\n",
    "    daxie = 0\n",
    "    for i in args:\n",
    "        ascll = ord(i)\n",
    "        if 48<= ascll<= 57:\n",
    "            shuzi += 1\n",
    "        elif 97<= ascll<=122:\n",
    "            xiaoxie += 1\n",
    "        elif 65<= ascll <= 90:\n",
    "            daxie += 1\n",
    "    return shuzi,xiaoxie,daxie"
   ]
  },
  {
   "cell_type": "code",
   "execution_count": 118,
   "metadata": {},
   "outputs": [
    {
     "data": {
      "text/plain": [
       "(1, 1, 1)"
      ]
     },
     "execution_count": 118,
     "metadata": {},
     "output_type": "execute_result"
    }
   ],
   "source": [
    "tongji('1','p','A')"
   ]
  },
  {
   "cell_type": "markdown",
   "metadata": {},
   "source": [
    "编写一个函数，输入n为偶数时，调用函数求1/2+1/4+...+1/n,当输入n为奇数时，调用函数1/1+1/3+...+1/n"
   ]
  },
  {
   "cell_type": "code",
   "execution_count": 145,
   "metadata": {},
   "outputs": [],
   "source": [
    "def shuzi(n):\n",
    "    res = 0\n",
    "    if n % 2 == 0:\n",
    "        for i in range(2,n+1,2):\n",
    "            i = 1/i\n",
    "            res += i\n",
    "            print(i)\n",
    "    else:\n",
    "        for j in range(1,n+1,2):\n",
    "            j = 1/j\n",
    "            res += j\n",
    "            print(j)\n",
    "    return res\n",
    "        "
   ]
  },
  {
   "cell_type": "code",
   "execution_count": 146,
   "metadata": {},
   "outputs": [
    {
     "name": "stdout",
     "output_type": "stream",
     "text": [
      "1.0\n",
      "0.3333333333333333\n"
     ]
    },
    {
     "data": {
      "text/plain": [
       "1.3333333333333333"
      ]
     },
     "execution_count": 146,
     "metadata": {},
     "output_type": "execute_result"
    }
   ],
   "source": [
    "shuzi(3)"
   ]
  },
  {
   "cell_type": "code",
   "execution_count": 136,
   "metadata": {},
   "outputs": [],
   "source": [
    "#教讲\n",
    "def sum_(n):\n",
    "    res = 0\n",
    "    if n % 2 == 0:\n",
    "        for i in range(2,n+1,2):\n",
    "            res += 1/i\n",
    "    else:\n",
    "         for j in range(1,n+1,2):\n",
    "            res += 1/j\n",
    "    return res"
   ]
  },
  {
   "cell_type": "code",
   "execution_count": 137,
   "metadata": {},
   "outputs": [
    {
     "data": {
      "text/plain": [
       "1.3333333333333333"
      ]
     },
     "execution_count": 137,
     "metadata": {},
     "output_type": "execute_result"
    }
   ],
   "source": [
    "sum_(3)"
   ]
  },
  {
   "cell_type": "markdown",
   "metadata": {},
   "source": [
    "求s= a+aa+aaa+aaa...a的值。其中a是一个数字。例如2+22+222+2222+22222此时共有5个数相加。几个数相加由键盘控制"
   ]
  },
  {
   "cell_type": "code",
   "execution_count": 162,
   "metadata": {},
   "outputs": [
    {
     "name": "stdout",
     "output_type": "stream",
     "text": [
      "被加数字：5\n",
      "加几次？：6\n",
      "617280\n"
     ]
    }
   ],
   "source": [
    "a = int(input('被加数字：'))\n",
    "n = int(input('加几次？：'))\n",
    "res = 0\n",
    "for i in range(0,n+1,1):\n",
    "    x =0\n",
    "    for j  in range (i):\n",
    "        x = x + 10**j\n",
    "    res = res + (a * x)\n",
    "print(res)\n",
    "    \n",
    "        "
   ]
  },
  {
   "cell_type": "code",
   "execution_count": 169,
   "metadata": {},
   "outputs": [],
   "source": [
    "#教讲\n",
    "def B():\n",
    "    a = int(input('被加的数字：'))\n",
    "    n = int(input('被加的次数：'))\n",
    "    res = 0\n",
    "    for j in range (n):\n",
    "        for i in range(j+1):\n",
    "            res += a*10**i\n",
    "    print(res)\n",
    "    return res\n"
   ]
  },
  {
   "cell_type": "code",
   "execution_count": 170,
   "metadata": {},
   "outputs": [
    {
     "name": "stdout",
     "output_type": "stream",
     "text": [
      "被加的数字：5\n",
      "被加的次数：6\n",
      "617280\n"
     ]
    },
    {
     "data": {
      "text/plain": [
       "617280"
      ]
     },
     "execution_count": 170,
     "metadata": {},
     "output_type": "execute_result"
    }
   ],
   "source": [
    "B()"
   ]
  },
  {
   "cell_type": "code",
   "execution_count": 151,
   "metadata": {},
   "outputs": [],
   "source": [
    "#教讲\n",
    "def A():\n",
    "    num = input('')\n",
    "    N = input('>>')\n",
    "    res = 0\n",
    "    for i in range(1,int(N)+1):\n",
    "        print(num* i)\n",
    "        res += int(num * i)\n",
    "    return  res"
   ]
  },
  {
   "cell_type": "code",
   "execution_count": 152,
   "metadata": {},
   "outputs": [
    {
     "name": "stdout",
     "output_type": "stream",
     "text": [
      "5\n",
      ">>6\n",
      "5\n",
      "55\n",
      "555\n",
      "5555\n",
      "55555\n",
      "555555\n"
     ]
    },
    {
     "data": {
      "text/plain": [
       "617280"
      ]
     },
     "execution_count": 152,
     "metadata": {},
     "output_type": "execute_result"
    }
   ],
   "source": [
    "A()"
   ]
  },
  {
   "cell_type": "markdown",
   "metadata": {},
   "source": [
    "阶乘求和"
   ]
  },
  {
   "cell_type": "code",
   "execution_count": 176,
   "metadata": {},
   "outputs": [
    {
     "name": "stdout",
     "output_type": "stream",
     "text": [
      "1\n",
      "2\n",
      "6\n",
      "24\n",
      "120\n",
      "720\n",
      "5040\n",
      "40320\n",
      "362880\n",
      "3628800\n",
      "39916800\n",
      "479001600\n",
      "6227020800\n",
      "87178291200\n",
      "1307674368000\n",
      "20922789888000\n",
      "355687428096000\n",
      "6402373705728000\n",
      "121645100408832000\n",
      "2432902008176640000\n"
     ]
    }
   ],
   "source": [
    "\n",
    "res = 0\n",
    "for i in range(1,21):\n",
    "    rres = 1\n",
    "    for j in range(1,i+1):\n",
    "        rres *= j\n",
    "    print(rres)\n",
    "\n",
    "            "
   ]
  },
  {
   "cell_type": "code",
   "execution_count": 182,
   "metadata": {},
   "outputs": [],
   "source": [
    "def VC():\n",
    "    N = eval(input('请输入数字：'))\n",
    "    res = 0\n",
    "    for i in range(1,N+1):\n",
    "        rres = 1\n",
    "        for j in range(1,i+1):\n",
    "            rres *= j\n",
    "        print(rres)\n",
    "    return rres\n",
    "\n",
    "            "
   ]
  },
  {
   "cell_type": "code",
   "execution_count": 183,
   "metadata": {},
   "outputs": [
    {
     "name": "stdout",
     "output_type": "stream",
     "text": [
      "请输入数字：20\n",
      "1\n",
      "2\n",
      "6\n",
      "24\n",
      "120\n",
      "720\n",
      "5040\n",
      "40320\n",
      "362880\n",
      "3628800\n",
      "39916800\n",
      "479001600\n",
      "6227020800\n",
      "87178291200\n",
      "1307674368000\n",
      "20922789888000\n",
      "355687428096000\n",
      "6402373705728000\n",
      "121645100408832000\n",
      "2432902008176640000\n"
     ]
    },
    {
     "data": {
      "text/plain": [
       "2432902008176640000"
      ]
     },
     "execution_count": 183,
     "metadata": {},
     "output_type": "execute_result"
    }
   ],
   "source": [
    "VC()"
   ]
  },
  {
   "cell_type": "markdown",
   "metadata": {},
   "source": [
    "高空抛物：一球从100米高度自由落下，每次落地后反跳回原高度一半，求落下100次的高度"
   ]
  },
  {
   "cell_type": "code",
   "execution_count": 15,
   "metadata": {},
   "outputs": [
    {
     "name": "stdout",
     "output_type": "stream",
     "text": [
      "50.0\n",
      "25.0\n",
      "12.5\n",
      "6.25\n",
      "3.125\n",
      "1.5625\n",
      "0.78125\n",
      "0.390625\n",
      "0.1953125\n",
      "0.09765625\n",
      "0.048828125\n",
      "0.0244140625\n",
      "0.01220703125\n",
      "0.006103515625\n",
      "0.0030517578125\n",
      "0.00152587890625\n",
      "0.000762939453125\n",
      "0.0003814697265625\n",
      "0.00019073486328125\n",
      "9.5367431640625e-05\n",
      "4.76837158203125e-05\n",
      "2.384185791015625e-05\n",
      "1.1920928955078125e-05\n",
      "5.9604644775390625e-06\n",
      "2.9802322387695312e-06\n",
      "1.4901161193847656e-06\n",
      "7.450580596923828e-07\n",
      "3.725290298461914e-07\n",
      "1.862645149230957e-07\n",
      "9.313225746154785e-08\n",
      "4.6566128730773926e-08\n",
      "2.3283064365386963e-08\n",
      "1.1641532182693481e-08\n",
      "5.820766091346741e-09\n",
      "2.9103830456733704e-09\n",
      "1.4551915228366852e-09\n",
      "7.275957614183426e-10\n",
      "3.637978807091713e-10\n",
      "1.8189894035458565e-10\n",
      "9.094947017729282e-11\n",
      "4.547473508864641e-11\n",
      "2.2737367544323206e-11\n",
      "1.1368683772161603e-11\n",
      "5.6843418860808015e-12\n",
      "2.8421709430404007e-12\n",
      "1.4210854715202004e-12\n",
      "7.105427357601002e-13\n",
      "3.552713678800501e-13\n",
      "1.7763568394002505e-13\n",
      "8.881784197001252e-14\n",
      "4.440892098500626e-14\n",
      "2.220446049250313e-14\n",
      "1.1102230246251565e-14\n",
      "5.551115123125783e-15\n",
      "2.7755575615628914e-15\n",
      "1.3877787807814457e-15\n",
      "6.938893903907228e-16\n",
      "3.469446951953614e-16\n",
      "1.734723475976807e-16\n",
      "8.673617379884035e-17\n",
      "4.336808689942018e-17\n",
      "2.168404344971009e-17\n",
      "1.0842021724855044e-17\n",
      "5.421010862427522e-18\n",
      "2.710505431213761e-18\n",
      "1.3552527156068805e-18\n",
      "6.776263578034403e-19\n",
      "3.3881317890172014e-19\n",
      "1.6940658945086007e-19\n",
      "8.470329472543003e-20\n",
      "4.2351647362715017e-20\n",
      "2.1175823681357508e-20\n",
      "1.0587911840678754e-20\n",
      "5.293955920339377e-21\n",
      "2.6469779601696886e-21\n",
      "1.3234889800848443e-21\n",
      "6.617444900424221e-22\n",
      "3.3087224502121107e-22\n",
      "1.6543612251060553e-22\n",
      "8.271806125530277e-23\n",
      "4.1359030627651384e-23\n",
      "2.0679515313825692e-23\n",
      "1.0339757656912846e-23\n",
      "5.169878828456423e-24\n",
      "2.5849394142282115e-24\n",
      "1.2924697071141057e-24\n",
      "6.462348535570529e-25\n",
      "3.2311742677852644e-25\n",
      "1.6155871338926322e-25\n",
      "8.077935669463161e-26\n",
      "4.0389678347315804e-26\n",
      "2.0194839173657902e-26\n",
      "1.0097419586828951e-26\n",
      "5.0487097934144756e-27\n",
      "2.5243548967072378e-27\n",
      "1.2621774483536189e-27\n",
      "6.310887241768094e-28\n",
      "3.155443620884047e-28\n",
      "1.5777218104420236e-28\n",
      "7.888609052210118e-29\n",
      "总长： 300.0\n"
     ]
    }
   ],
   "source": [
    "h = 200\n",
    "t = 100\n",
    "for i in range(100):\n",
    "    h /= 2\n",
    "    t += h\n",
    "    print(h / 2)\n",
    "print('总长：',t)"
   ]
  },
  {
   "cell_type": "markdown",
   "metadata": {},
   "source": [
    "## 注意：\n",
    "- global ：在进行赋值操作的时候需要声明\n",
    "- 官方解释：This is because when you make an assignment to a variable in a scope, that variable becomes local to that scope and shadows any similarly named variable in the outer scope.\n",
    "- ![](../Photo/73.png)"
   ]
  },
  {
   "cell_type": "markdown",
   "metadata": {},
   "source": [
    "# Homework\n",
    "- 1\n",
    "![](../Photo/74.png)"
   ]
  },
  {
   "cell_type": "code",
   "execution_count": 197,
   "metadata": {},
   "outputs": [
    {
     "name": "stdout",
     "output_type": "stream",
     "text": [
      "请输入数字：100\n",
      "1.0   5.0   12.0   22.0   35.0   51.0   70.0   92.0   117.0   145.0   \n",
      "176.0   210.0   247.0   287.0   330.0   376.0   425.0   477.0   532.0   590.0   \n",
      "651.0   715.0   782.0   852.0   925.0   1001.0   1080.0   1162.0   1247.0   1335.0   \n",
      "1426.0   1520.0   1617.0   1717.0   1820.0   1926.0   2035.0   2147.0   2262.0   2380.0   \n",
      "2501.0   2625.0   2752.0   2882.0   3015.0   3151.0   3290.0   3432.0   3577.0   3725.0   \n",
      "3876.0   4030.0   4187.0   4347.0   4510.0   4676.0   4845.0   5017.0   5192.0   5370.0   \n",
      "5551.0   5735.0   5922.0   6112.0   6305.0   6501.0   6700.0   6902.0   7107.0   7315.0   \n",
      "7526.0   7740.0   7957.0   8177.0   8400.0   8626.0   8855.0   9087.0   9322.0   9560.0   \n",
      "9801.0   10045.0   10292.0   10542.0   10795.0   11051.0   11310.0   11572.0   11837.0   12105.0   \n",
      "12376.0   12650.0   12927.0   13207.0   13490.0   13776.0   14065.0   14357.0   14652.0   "
     ]
    }
   ],
   "source": [
    "n = eval(input('请输入数字：'))\n",
    "x = 0\n",
    "j = 0\n",
    "for i in range(1,n):\n",
    "    x = i * (3 * i - 1)/ 2\n",
    "    print(x,end='   ')\n",
    "    j += 1\n",
    "    if j % 10 == 0:\n",
    "        print()"
   ]
  },
  {
   "cell_type": "code",
   "execution_count": 198,
   "metadata": {},
   "outputs": [],
   "source": [
    "def sum_():\n",
    "    n = eval(input('请输入数字：'))\n",
    "    x = 0\n",
    "    j = 0\n",
    "    for i in range(1,n):\n",
    "        x = i * (3 * i - 1)/ 2\n",
    "        print(x,end='   ')\n",
    "        j += 1\n",
    "        if j % 10 == 0:\n",
    "            print()\n",
    "    return x"
   ]
  },
  {
   "cell_type": "code",
   "execution_count": 199,
   "metadata": {},
   "outputs": [
    {
     "name": "stdout",
     "output_type": "stream",
     "text": [
      "请输入数字：100\n",
      "1.0   5.0   12.0   22.0   35.0   51.0   70.0   92.0   117.0   145.0   \n",
      "176.0   210.0   247.0   287.0   330.0   376.0   425.0   477.0   532.0   590.0   \n",
      "651.0   715.0   782.0   852.0   925.0   1001.0   1080.0   1162.0   1247.0   1335.0   \n",
      "1426.0   1520.0   1617.0   1717.0   1820.0   1926.0   2035.0   2147.0   2262.0   2380.0   \n",
      "2501.0   2625.0   2752.0   2882.0   3015.0   3151.0   3290.0   3432.0   3577.0   3725.0   \n",
      "3876.0   4030.0   4187.0   4347.0   4510.0   4676.0   4845.0   5017.0   5192.0   5370.0   \n",
      "5551.0   5735.0   5922.0   6112.0   6305.0   6501.0   6700.0   6902.0   7107.0   7315.0   \n",
      "7526.0   7740.0   7957.0   8177.0   8400.0   8626.0   8855.0   9087.0   9322.0   9560.0   \n",
      "9801.0   10045.0   10292.0   10542.0   10795.0   11051.0   11310.0   11572.0   11837.0   12105.0   \n",
      "12376.0   12650.0   12927.0   13207.0   13490.0   13776.0   14065.0   14357.0   14652.0   "
     ]
    },
    {
     "data": {
      "text/plain": [
       "14652.0"
      ]
     },
     "execution_count": 199,
     "metadata": {},
     "output_type": "execute_result"
    }
   ],
   "source": [
    "sum_()"
   ]
  },
  {
   "cell_type": "markdown",
   "metadata": {},
   "source": [
    "- 2 \n",
    "![](../Photo/75.png)"
   ]
  },
  {
   "cell_type": "code",
   "execution_count": 201,
   "metadata": {},
   "outputs": [
    {
     "name": "stdout",
     "output_type": "stream",
     "text": [
      "4 3 2\n",
      "9\n"
     ]
    }
   ],
   "source": [
    "n = 234\n",
    "x = n % 10\n",
    "y = n // 10 % 10\n",
    "z = n // 100\n",
    "sum_ = x + y + z\n",
    "print(x,y,z)\n",
    "print(sum_)"
   ]
  },
  {
   "cell_type": "code",
   "execution_count": 228,
   "metadata": {},
   "outputs": [],
   "source": [
    "def sum_():\n",
    "    n = eval(input('请输入一个整数：'))\n",
    "    a = eval(input('请输入整数的个数：'))\n",
    "    x = n % 10\n",
    "    print(x)\n",
    "    y = n // (10 ** (a-2)) % 10\n",
    "    print(y)\n",
    "    z = n // (10 ** (a-1))\n",
    "    print(z)\n",
    "    m = x+y+z\n",
    "    print('整数和：',m)\n",
    "    return m\n",
    "# 仅限于三位数字"
   ]
  },
  {
   "cell_type": "code",
   "execution_count": 230,
   "metadata": {},
   "outputs": [
    {
     "name": "stdout",
     "output_type": "stream",
     "text": [
      "请输入一个整数：635\n",
      "请输入整数的个数：3\n",
      "5\n",
      "3\n",
      "6\n",
      "整数和： 14\n"
     ]
    },
    {
     "data": {
      "text/plain": [
       "14"
      ]
     },
     "execution_count": 230,
     "metadata": {},
     "output_type": "execute_result"
    }
   ],
   "source": [
    "sum_()"
   ]
  },
  {
   "cell_type": "code",
   "execution_count": 260,
   "metadata": {},
   "outputs": [],
   "source": [
    "def sum_():\n",
    "    n = eval(input('请输入一个整数：'))\n",
    "    a = eval(input('请输入整数的个数：'))\n",
    "    s = 0\n",
    "    for i in range(0,a):\n",
    "        x = n  % 10\n",
    "        n = n // 10\n",
    "        s += x\n",
    "        print(x)\n",
    "    print(s)\n",
    "    return s"
   ]
  },
  {
   "cell_type": "code",
   "execution_count": 261,
   "metadata": {},
   "outputs": [
    {
     "name": "stdout",
     "output_type": "stream",
     "text": [
      "请输入一个整数：123456\n",
      "请输入整数的个数：6\n",
      "6\n",
      "5\n",
      "4\n",
      "3\n",
      "2\n",
      "1\n",
      "21\n"
     ]
    },
    {
     "data": {
      "text/plain": [
       "21"
      ]
     },
     "execution_count": 261,
     "metadata": {},
     "output_type": "execute_result"
    }
   ],
   "source": [
    "sum_()"
   ]
  },
  {
   "cell_type": "markdown",
   "metadata": {},
   "source": [
    "- 3\n",
    "![](../Photo/76.png)"
   ]
  },
  {
   "cell_type": "code",
   "execution_count": 268,
   "metadata": {},
   "outputs": [],
   "source": [
    "def A():  \n",
    "    x,y,z = eval(input('输入三个整数'))\n",
    "    if (x>y>z):\n",
    "        return z,y,x\n",
    "    if (x>z>y):\n",
    "        return y,z,x\n",
    "    if (y>x>z):\n",
    "        return z,x,y\n",
    "    if (y>z>x):\n",
    "        return x,z,y\n",
    "    if (z>x>y):\n",
    "        return y,x,z\n",
    "    if (z>y>x):\n",
    "        return x,y,z\n",
    "    return x,y,z"
   ]
  },
  {
   "cell_type": "code",
   "execution_count": 270,
   "metadata": {},
   "outputs": [
    {
     "name": "stdout",
     "output_type": "stream",
     "text": [
      "输入三个整数3,2.4,5\n"
     ]
    },
    {
     "data": {
      "text/plain": [
       "(2.4, 3, 5)"
      ]
     },
     "execution_count": 270,
     "metadata": {},
     "output_type": "execute_result"
    }
   ],
   "source": [
    "A()"
   ]
  },
  {
   "cell_type": "markdown",
   "metadata": {},
   "source": [
    "- 4\n",
    "![](../Photo/77.png)"
   ]
  },
  {
   "cell_type": "code",
   "execution_count": 279,
   "metadata": {},
   "outputs": [],
   "source": [
    "def lilv():\n",
    "    x = eval(input('请输入投资额：'))\n",
    "    y = eval(input('请输入年利率：'))\n",
    "    z = eval(input('请输入年份：'))\n",
    "    y = y / 100\n",
    "    for i in range(0,z):\n",
    "        x = x * (1 + y)\n",
    "        print(x)\n",
    "    return x"
   ]
  },
  {
   "cell_type": "code",
   "execution_count": 280,
   "metadata": {},
   "outputs": [
    {
     "name": "stdout",
     "output_type": "stream",
     "text": [
      "请输入投资额：1000\n",
      "请输入年利率：9\n",
      "请输入年份：30\n",
      "1090.0\n",
      "1188.1000000000001\n",
      "1295.0290000000002\n",
      "1411.5816100000004\n",
      "1538.6239549000006\n",
      "1677.1001108410007\n",
      "1828.039120816691\n",
      "1992.5626416901932\n",
      "2171.893279442311\n",
      "2367.363674592119\n",
      "2580.42640530541\n",
      "2812.664781782897\n",
      "3065.804612143358\n",
      "3341.7270272362607\n",
      "3642.4824596875246\n",
      "3970.305881059402\n",
      "4327.633410354749\n",
      "4717.1204172866765\n",
      "5141.661254842477\n",
      "5604.4107677783\n",
      "6108.807736878348\n",
      "6658.6004331974\n",
      "7257.874472185166\n",
      "7911.083174681832\n",
      "8623.080660403197\n",
      "9399.157919839485\n",
      "10245.082132625039\n",
      "11167.139524561293\n",
      "12172.18208177181\n",
      "13267.678469131275\n"
     ]
    },
    {
     "data": {
      "text/plain": [
       "13267.678469131275"
      ]
     },
     "execution_count": 280,
     "metadata": {},
     "output_type": "execute_result"
    }
   ],
   "source": [
    "lilv()"
   ]
  },
  {
   "cell_type": "code",
   "execution_count": null,
   "metadata": {},
   "outputs": [],
   "source": []
  },
  {
   "cell_type": "markdown",
   "metadata": {},
   "source": [
    "- 5\n",
    "![](../Photo/78.png)"
   ]
  },
  {
   "cell_type": "code",
   "execution_count": 5,
   "metadata": {},
   "outputs": [],
   "source": [
    "def D():\n",
    "    x = eval(input('请输入ch1：'))\n",
    "    y = eval(input('请输入ch2：'))\n",
    "    j = 0\n",
    "    for i in range(x,y+1):\n",
    "        a=chr(i)\n",
    "        print(a,end=' ')\n",
    "        j += 1\n",
    "        if j % 10 == 0 :\n",
    "            print()\n"
   ]
  },
  {
   "cell_type": "code",
   "execution_count": 6,
   "metadata": {},
   "outputs": [
    {
     "name": "stdout",
     "output_type": "stream",
     "text": [
      "请输入ch1：49\n",
      "请输入ch2：90\n",
      "1 2 3 4 5 6 7 8 9 : \n",
      "; < = > ? @ A B C D \n",
      "E F G H I J K L M N \n",
      "O P Q R S T U V W X \n",
      "Y Z "
     ]
    }
   ],
   "source": [
    "D()"
   ]
  },
  {
   "cell_type": "markdown",
   "metadata": {},
   "source": [
    "- 6\n",
    "![](../Photo/79.png)"
   ]
  },
  {
   "cell_type": "code",
   "execution_count": 4,
   "metadata": {},
   "outputs": [],
   "source": [
    "def WV():\n",
    "    for i in range(2010,2021):\n",
    "        print(i,'年',end=' ')\n",
    "        if i % 4 == 0 and i %100 != 0:\n",
    "            print(366 ) \n",
    "        elif i % 400 == 0:\n",
    "            print(366 )\n",
    "        else:\n",
    "            print(365 )"
   ]
  },
  {
   "cell_type": "code",
   "execution_count": 5,
   "metadata": {},
   "outputs": [
    {
     "name": "stdout",
     "output_type": "stream",
     "text": [
      "2010 年 365\n",
      "2011 年 365\n",
      "2012 年 366\n",
      "2013 年 365\n",
      "2014 年 365\n",
      "2015 年 365\n",
      "2016 年 366\n",
      "2017 年 365\n",
      "2018 年 365\n",
      "2019 年 365\n",
      "2020 年 366\n"
     ]
    }
   ],
   "source": [
    "WV()"
   ]
  },
  {
   "cell_type": "code",
   "execution_count": 6,
   "metadata": {},
   "outputs": [
    {
     "name": "stdout",
     "output_type": "stream",
     "text": [
      "2010 年 365\n",
      "2011 年 365\n",
      "2012 年 366\n",
      "2013 年 365\n",
      "2014 年 365\n",
      "2015 年 365\n",
      "2016 年 366\n",
      "2017 年 365\n",
      "2018 年 365\n",
      "2019 年 365\n",
      "2020 年 366\n"
     ]
    }
   ],
   "source": [
    "for year in range(2010,2021):\n",
    "    print(year,\"年\",end=\" \")\n",
    "    if ((year % 4 == 0) and (year % 100 != 0)) or (year % 400 ==0):\n",
    "        print('366')\n",
    "    else:\n",
    "        print('365')\n"
   ]
  },
  {
   "cell_type": "markdown",
   "metadata": {},
   "source": [
    "- 7\n",
    "![](../Photo/80.png)"
   ]
  },
  {
   "cell_type": "code",
   "execution_count": 3,
   "metadata": {},
   "outputs": [],
   "source": [
    "import math"
   ]
  },
  {
   "cell_type": "code",
   "execution_count": 4,
   "metadata": {},
   "outputs": [
    {
     "name": "stdout",
     "output_type": "stream",
     "text": [
      "请输入第一点：2,3\n",
      "请输入第二点：5,4\n",
      "3.1622776601683795\n"
     ]
    }
   ],
   "source": [
    "x1,y1 = eval(input('请输入第一点：'))\n",
    "x2,y2 = eval(input('请输入第二点：'))\n",
    "z = math.sqrt((x1-x2)**2+(y1-y2)**2)\n",
    "print(z)"
   ]
  },
  {
   "cell_type": "markdown",
   "metadata": {},
   "source": [
    "- 8\n",
    "![](../Photo/81.png)"
   ]
  },
  {
   "cell_type": "code",
   "execution_count": 10,
   "metadata": {},
   "outputs": [
    {
     "name": "stdout",
     "output_type": "stream",
     "text": [
      "2   3\n",
      "3   7\n",
      "5   31\n",
      "7   127\n",
      "11   2047\n",
      "13   8191\n",
      "17   131071\n",
      "19   524287\n",
      "23   8388607\n",
      "29   536870911\n",
      "31   2147483647\n"
     ]
    }
   ],
   "source": [
    "for i in range(2,32):\n",
    "    z = 2 ** i - 1\n",
    "    for j in range(2,i):\n",
    "        if(i%j==0):\n",
    "             break\n",
    "    else:\n",
    "        print(i,' ',z)"
   ]
  },
  {
   "cell_type": "markdown",
   "metadata": {},
   "source": [
    "- 9\n",
    "![](../Photo/82.png)\n",
    "![](../Photo/83.png)"
   ]
  },
  {
   "cell_type": "code",
   "execution_count": 16,
   "metadata": {},
   "outputs": [],
   "source": [
    "import time"
   ]
  },
  {
   "cell_type": "code",
   "execution_count": 29,
   "metadata": {},
   "outputs": [
    {
     "name": "stdout",
     "output_type": "stream",
     "text": [
      "Current date and time is May 10, 2019 20:35:37\n"
     ]
    }
   ],
   "source": [
    "#strftime() 格式化日期的方法\n",
    "#time.localtime(time.time()) 获取 time.time() 毫秒数中日期的信息\n",
    "#time.time() 获取从1970年1月1日到现在的时间\n",
    "print('Current date and time is',time.strftime('%b %d, %Y %H:%M:%S',time.localtime(time.time())) )"
   ]
  },
  {
   "cell_type": "markdown",
   "metadata": {},
   "source": [
    "- 10\n",
    "![](../Photo/84.png)"
   ]
  },
  {
   "cell_type": "code",
   "execution_count": 7,
   "metadata": {},
   "outputs": [
    {
     "name": "stdout",
     "output_type": "stream",
     "text": [
      "You rolled 5 + 3 = 8\n",
      "point is  8\n",
      "You rolled 2 + 6 = 8\n",
      "You win\n"
     ]
    }
   ],
   "source": [
    "import random\n",
    "x = random.randint(1,6)\n",
    "y = random.randint(1,6)\n",
    "if (x+y == 2) or (x+y == 3) or (x+y == 12):\n",
    "    print(\"You rolled\",x,'+',y,'=',x+y)\n",
    "    print(\"You lose\")\n",
    "elif (x+y == 7) or (x+y == 11):\n",
    "    print(\"You rolled\",x,'+',y,'=',x+y)\n",
    "    print(\"You win\")\n",
    "else:\n",
    "    z = x+y\n",
    "    a = random.randint(1,6)\n",
    "    b = random.randint(1,6)\n",
    "    while 1:\n",
    "        if a+b == 7:\n",
    "            print(\"You rolled\",x,'+',y,'=',x+y)\n",
    "            print(\"point is \",z)\n",
    "            print(\"You rolled\",a,'+',b,'=',a+b)\n",
    "            print(\"You lose\")\n",
    "            break\n",
    "        elif a+b == z:\n",
    "            print(\"You rolled\",x,'+',y,'=',x+y)\n",
    "            print(\"point is \",z)\n",
    "            print(\"You rolled\",a,'+',b,'=',a+b)\n",
    "            print(\"You win\")\n",
    "            break\n",
    "        "
   ]
  },
  {
   "cell_type": "markdown",
   "metadata": {},
   "source": [
    "- 11 \n",
    "### 去网上寻找如何用Python代码发送邮件"
   ]
  },
  {
   "cell_type": "code",
   "execution_count": null,
   "metadata": {},
   "outputs": [],
   "source": [
    "#!/usr/bin/python\n",
    "# -*- coding: UTF-8 -*-\n",
    " \n",
    "import smtplib\n",
    "from email.mime.text import MIMEText\n",
    "from email.header import Header\n",
    " \n",
    "sender = '1287758143@qq.com'\n",
    "receivers = ['747154968@qq.com']  # 接收邮件，可设置为你的QQ邮箱或者其他邮箱\n",
    "\n",
    "# 三个参数：第一个为文本内容，第二个 plain 设置文本格式，第三个 utf-8 设置编码\n",
    "message = MIMEText('Python 邮件发送测试...', 'plain', 'utf-8')\n",
    "message['From'] = Header(\"菜鸟教程\", 'utf-8')   # 发送者\n",
    "message['To'] =  Header(\"测试\", 'utf-8')        # 接收者\n",
    " \n",
    "subject = 'Python SMTP 邮件测试'\n",
    "message['Subject'] = Header(subject, 'utf-8')\n",
    "try:\n",
    "    smtpObj = smtplib.SMTP('localhost')\n",
    "    smtpObj.sendmail(sender, receivers, message.as_string())\n",
    "    print(\"邮件发送成功\")\n",
    "except smtplib.SMTPException:\n",
    "    print(\"Error: 无法发送邮件\" )"
   ]
  },
  {
   "cell_type": "markdown",
   "metadata": {},
   "source": [
    "12.汉诺塔游戏\n",
    "移动的过程 （递归流程）"
   ]
  },
  {
   "cell_type": "code",
   "execution_count": 39,
   "metadata": {},
   "outputs": [],
   "source": [
    "def hanoi(n, a, b, c):\n",
    "    if n == 1:\n",
    "        print(a, '-->', c)\n",
    "    else:\n",
    "        hanoi(n - 1, a, c, b)\n",
    "        print(a, '-->', c)\n",
    "        hanoi(n - 1, b, a, c)"
   ]
  },
  {
   "cell_type": "code",
   "execution_count": 40,
   "metadata": {
    "scrolled": true
   },
   "outputs": [
    {
     "name": "stdout",
     "output_type": "stream",
     "text": [
      "A --> C\n",
      "A --> B\n",
      "C --> B\n",
      "A --> C\n",
      "B --> A\n",
      "B --> C\n",
      "A --> C\n"
     ]
    }
   ],
   "source": [
    "hanoi(3, 'A', 'B', 'C')"
   ]
  },
  {
   "cell_type": "code",
   "execution_count": null,
   "metadata": {},
   "outputs": [],
   "source": []
  }
 ],
 "metadata": {
  "kernelspec": {
   "display_name": "Python 3",
   "language": "python",
   "name": "python3"
  },
  "language_info": {
   "codemirror_mode": {
    "name": "ipython",
    "version": 3
   },
   "file_extension": ".py",
   "mimetype": "text/x-python",
   "name": "python",
   "nbconvert_exporter": "python",
   "pygments_lexer": "ipython3",
   "version": "3.7.3"
  }
 },
 "nbformat": 4,
 "nbformat_minor": 2
}
