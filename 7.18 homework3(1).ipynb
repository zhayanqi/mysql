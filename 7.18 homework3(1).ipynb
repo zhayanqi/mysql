{
 "cells": [
  {
   "cell_type": "markdown",
   "metadata": {},
   "source": [
    "# 选择\n",
    "## 布尔类型、数值和表达式\n",
    "![](../Photo/33.png)\n",
    "- 注意：比较运算符的相等是两个等号，一个等到代表赋值\n",
    "- 在Python中可以用整型0来代表False，其他数字来代表True\n",
    "- 后面还会讲到 is 在判断语句中的用发"
   ]
  },
  {
   "cell_type": "code",
   "execution_count": 1,
   "metadata": {},
   "outputs": [
    {
     "data": {
      "text/plain": [
       "True"
      ]
     },
     "execution_count": 1,
     "metadata": {},
     "output_type": "execute_result"
    }
   ],
   "source": [
    "a = 1\n",
    "b = 1\n",
    "a == b"
   ]
  },
  {
   "cell_type": "code",
   "execution_count": 2,
   "metadata": {},
   "outputs": [
    {
     "data": {
      "text/plain": [
       "False"
      ]
     },
     "execution_count": 2,
     "metadata": {},
     "output_type": "execute_result"
    }
   ],
   "source": [
    "a = '1'\n",
    "b = '2'\n",
    "a == b"
   ]
  },
  {
   "cell_type": "code",
   "execution_count": 5,
   "metadata": {},
   "outputs": [
    {
     "data": {
      "text/plain": [
       "False"
      ]
     },
     "execution_count": 5,
     "metadata": {},
     "output_type": "execute_result"
    }
   ],
   "source": [
    "a = 1\n",
    "b = '2'\n",
    "a == b"
   ]
  },
  {
   "cell_type": "code",
   "execution_count": 7,
   "metadata": {},
   "outputs": [
    {
     "data": {
      "text/plain": [
       "False"
      ]
     },
     "execution_count": 7,
     "metadata": {},
     "output_type": "execute_result"
    }
   ],
   "source": [
    "0 == 100"
   ]
  },
  {
   "cell_type": "code",
   "execution_count": 8,
   "metadata": {},
   "outputs": [
    {
     "data": {
      "text/plain": [
       "False"
      ]
     },
     "execution_count": 8,
     "metadata": {},
     "output_type": "execute_result"
    }
   ],
   "source": [
    "0 is 1"
   ]
  },
  {
   "cell_type": "markdown",
   "metadata": {},
   "source": [
    "## 字符串的比较使用ASCII值"
   ]
  },
  {
   "cell_type": "code",
   "execution_count": 9,
   "metadata": {},
   "outputs": [
    {
     "data": {
      "text/plain": [
       "True"
      ]
     },
     "execution_count": 9,
     "metadata": {},
     "output_type": "execute_result"
    }
   ],
   "source": [
    "a = 'joker'\n",
    "b = 'hahah'\n",
    "a > b\n",
    "#  h在j的前边  所以正确"
   ]
  },
  {
   "cell_type": "markdown",
   "metadata": {},
   "source": [
    "## Markdown \n",
    "- https://github.com/younghz/Markdown"
   ]
  },
  {
   "cell_type": "markdown",
   "metadata": {},
   "source": [
    "$x = $2x + 1"
   ]
  },
  {
   "cell_type": "markdown",
   "metadata": {},
   "source": [
    "$ x = 2 / $2x"
   ]
  },
  {
   "cell_type": "markdown",
   "metadata": {},
   "source": [
    "## EP:\n",
    "- <img src=\"../Photo/34.png\"></img>\n",
    "- 输入一个数字，判断其实奇数还是偶数"
   ]
  },
  {
   "cell_type": "code",
   "execution_count": 8,
   "metadata": {},
   "outputs": [
    {
     "name": "stdout",
     "output_type": "stream",
     "text": [
      "1\n",
      "0\n",
      "True\n",
      "False\n"
     ]
    }
   ],
   "source": [
    "i = int(True)\n",
    "j = int(False)\n",
    "b1 = bool(4)\n",
    "b2 = bool(0)\n",
    "print(i)\n",
    "print(j)\n",
    "print(b1)\n",
    "print(b2)"
   ]
  },
  {
   "cell_type": "code",
   "execution_count": 2,
   "metadata": {},
   "outputs": [
    {
     "data": {
      "text/plain": [
       "1"
      ]
     },
     "execution_count": 2,
     "metadata": {},
     "output_type": "execute_result"
    }
   ],
   "source": [
    "int(True)"
   ]
  },
  {
   "cell_type": "code",
   "execution_count": 4,
   "metadata": {},
   "outputs": [
    {
     "name": "stdout",
     "output_type": "stream",
     "text": [
      "1\n"
     ]
    }
   ],
   "source": [
    "i = int(True)\n",
    "print(i)"
   ]
  },
  {
   "cell_type": "code",
   "execution_count": 3,
   "metadata": {},
   "outputs": [
    {
     "data": {
      "text/plain": [
       "0"
      ]
     },
     "execution_count": 3,
     "metadata": {},
     "output_type": "execute_result"
    }
   ],
   "source": [
    "int(False)"
   ]
  },
  {
   "cell_type": "code",
   "execution_count": 6,
   "metadata": {},
   "outputs": [
    {
     "data": {
      "text/plain": [
       "True"
      ]
     },
     "execution_count": 6,
     "metadata": {},
     "output_type": "execute_result"
    }
   ],
   "source": [
    "bool(4)"
   ]
  },
  {
   "cell_type": "code",
   "execution_count": 15,
   "metadata": {},
   "outputs": [
    {
     "name": "stdout",
     "output_type": "stream",
     "text": [
      "请输入数值5\n",
      "奇数\n"
     ]
    }
   ],
   "source": [
    "x = eval(input('请输入数值'))\n",
    "if x % 2:\n",
    "    a = 1\n",
    "    print('奇数')        \n",
    "else:\n",
    "    print('偶数')"
   ]
  },
  {
   "cell_type": "code",
   "execution_count": 16,
   "metadata": {},
   "outputs": [
    {
     "name": "stdout",
     "output_type": "stream",
     "text": [
      "请输入数值5\n",
      "奇数\n"
     ]
    }
   ],
   "source": [
    "x = eval(input('请输入数值'))\n",
    "if x % 2 == 0:\n",
    "    print('偶数')\n",
    "if x % 2 ==1:\n",
    "    print('奇数')"
   ]
  },
  {
   "cell_type": "code",
   "execution_count": 9,
   "metadata": {},
   "outputs": [
    {
     "name": "stdout",
     "output_type": "stream",
     "text": [
      "x:>>6\n",
      "偶数\n"
     ]
    }
   ],
   "source": [
    "x =  eval(input('x:>>'))\n",
    "if bool(x % 2):\n",
    "    print('奇数')     # 大于1为真执行第一条语句，为0是假\n",
    "else:\n",
    "    print('偶数')"
   ]
  },
  {
   "cell_type": "markdown",
   "metadata": {},
   "source": [
    "## 产生随机数字\n",
    "- 函数random.randint(a,b) 可以用来产生一个a和b之间且包括a和b的随机整数"
   ]
  },
  {
   "cell_type": "code",
   "execution_count": 10,
   "metadata": {},
   "outputs": [],
   "source": [
    "import random"
   ]
  },
  {
   "cell_type": "code",
   "execution_count": 11,
   "metadata": {},
   "outputs": [
    {
     "data": {
      "text/plain": [
       "3"
      ]
     },
     "execution_count": 11,
     "metadata": {},
     "output_type": "execute_result"
    }
   ],
   "source": [
    "random.randint(2,3)"
   ]
  },
  {
   "cell_type": "markdown",
   "metadata": {},
   "source": [
    "产生一个随机数，你去输入，如果你输入的数大于随机数，那么就告诉你太大了，反之，太小了，\n",
    "然后你一直输入，知道它满意为止"
   ]
  },
  {
   "cell_type": "code",
   "execution_count": 12,
   "metadata": {},
   "outputs": [
    {
     "name": "stdout",
     "output_type": "stream",
     "text": [
      "请输入比较值16\n",
      "13\n"
     ]
    }
   ],
   "source": [
    "#x = eval(input('请输入最小值'))\n",
    "#y = eval(input('请输入最大值'))\n",
    "z = eval(input('请输入比较值'))\n",
    "random.randint(9,15)\n",
    "if  x > z:\n",
    "    print('太小了')\n",
    "    if y < z:\n",
    "        print('太大了')\n",
    "else:\n",
    "    print(random.randint(9,15))"
   ]
  },
  {
   "cell_type": "code",
   "execution_count": 11,
   "metadata": {},
   "outputs": [],
   "source": [
    "x = random.randint(0,15)"
   ]
  },
  {
   "cell_type": "code",
   "execution_count": 13,
   "metadata": {},
   "outputs": [
    {
     "name": "stdout",
     "output_type": "stream",
     "text": [
      "y15\n",
      "太大了\n"
     ]
    }
   ],
   "source": [
    "y = eval(input('y'))\n",
    "if y > x:\n",
    "    print('太大了')\n",
    "if y < x:\n",
    "    print('太小了')\n",
    "if y == x:\n",
    "    print('正确')"
   ]
  },
  {
   "cell_type": "code",
   "execution_count": 19,
   "metadata": {},
   "outputs": [
    {
     "name": "stdout",
     "output_type": "stream",
     "text": [
      "y3\n",
      "太小了\n",
      "y15\n",
      "太小了\n",
      "y16\n",
      "正确\n"
     ]
    }
   ],
   "source": [
    "while 1:\n",
    "    y = eval(input('y'))\n",
    "    if y > x:\n",
    "        print('太大了')\n",
    "    if y < x:\n",
    "        print('太小了')\n",
    "    if y == x:\n",
    "        print('正确')\n",
    "        break"
   ]
  },
  {
   "cell_type": "code",
   "execution_count": null,
   "metadata": {},
   "outputs": [],
   "source": [
    "import os"
   ]
  },
  {
   "cell_type": "code",
   "execution_count": null,
   "metadata": {},
   "outputs": [],
   "source": [
    "while 1:\n",
    "    os.system('calc')"
   ]
  },
  {
   "cell_type": "markdown",
   "metadata": {},
   "source": [
    "##  其他random方法\n",
    "- random.random 返回0.0到1.0之间前闭后开区间的随机浮点\n",
    "- random.randrange(a,b) 前闭后开"
   ]
  },
  {
   "cell_type": "code",
   "execution_count": 17,
   "metadata": {},
   "outputs": [
    {
     "data": {
      "text/plain": [
       "0.5256262278834763"
      ]
     },
     "execution_count": 17,
     "metadata": {},
     "output_type": "execute_result"
    }
   ],
   "source": [
    "random.random()"
   ]
  },
  {
   "cell_type": "code",
   "execution_count": 10,
   "metadata": {},
   "outputs": [
    {
     "data": {
      "text/plain": [
       "4"
      ]
     },
     "execution_count": 10,
     "metadata": {},
     "output_type": "execute_result"
    }
   ],
   "source": [
    "random.randrange(0,10)#前闭后开"
   ]
  },
  {
   "cell_type": "markdown",
   "metadata": {},
   "source": [
    "## EP：\n",
    "- 产生两个随机整数number1和number2，然后显示给用户，使用户输入数字的和，并判定其是否正确\n",
    "- 进阶:写一个随机序号点名程序"
   ]
  },
  {
   "cell_type": "code",
   "execution_count": 15,
   "metadata": {},
   "outputs": [
    {
     "name": "stdout",
     "output_type": "stream",
     "text": [
      "16\n",
      "13\n",
      "29\n"
     ]
    }
   ],
   "source": [
    "x = random.randint(5,16)\n",
    "y = random.randint(8,28)\n",
    "print(x)\n",
    "print(y)\n",
    "print(x + y)\n",
    "#输入和"
   ]
  },
  {
   "cell_type": "code",
   "execution_count": 23,
   "metadata": {},
   "outputs": [
    {
     "name": "stdout",
     "output_type": "stream",
     "text": [
      "14 19\n"
     ]
    }
   ],
   "source": [
    "number1 = random.randint(5,16)\n",
    "number2 = random.randint(8,28)\n",
    "print(number1,number2)"
   ]
  },
  {
   "cell_type": "code",
   "execution_count": 25,
   "metadata": {},
   "outputs": [
    {
     "name": "stdout",
     "output_type": "stream",
     "text": [
      "x56\n",
      "Error\n",
      "x63\n",
      "Error\n",
      "x32\n",
      "Error\n",
      "x89\n",
      "Error\n",
      "x1\n",
      "Error\n"
     ]
    }
   ],
   "source": [
    "for i in range(5):\n",
    "    x = eval(input('x'))\n",
    "    if x ==(number1 + number2):\n",
    "        print('Correct')\n",
    "        break\n",
    "    else:\n",
    "        print('Error')"
   ]
  },
  {
   "cell_type": "code",
   "execution_count": 29,
   "metadata": {},
   "outputs": [],
   "source": [
    "#for i in range()循环"
   ]
  },
  {
   "cell_type": "code",
   "execution_count": 14,
   "metadata": {},
   "outputs": [
    {
     "name": "stdout",
     "output_type": "stream",
     "text": [
      "x :30\n",
      "2 可以整除\n",
      "3 可以整除\n",
      "5 可以整除\n",
      "6 可以整除\n",
      "10 可以整除\n",
      "15 可以整除\n"
     ]
    }
   ],
   "source": [
    "x = eval(input('x :'))\n",
    "for i in range(2,x):\n",
    "    if x % i ==0:\n",
    "        print(i,'可以整除')"
   ]
  },
  {
   "cell_type": "markdown",
   "metadata": {},
   "source": [
    "## if语句\n",
    "- 如果条件正确就执行一个单向if语句，亦即当条件为真的时候才执行if内部的语句\n",
    "- Python有很多选择语句:\n",
    "> - 单向if \n",
    "  - 双向if-else\n",
    "  - 嵌套if\n",
    "  - 多向if-elif-else\n",
    "  \n",
    "- 注意：当语句含有子语句的时候，那么一定至少要有一个缩进，也就是说如果有儿子存在，那么一定要缩进\n",
    "- 切记不可tab键和space混用，单用tab 或者 space\n",
    "- 当你输出的结果是无论if是否为真时都需要显示时，语句应该与if对齐"
   ]
  },
  {
   "cell_type": "code",
   "execution_count": 35,
   "metadata": {},
   "outputs": [
    {
     "name": "stdout",
     "output_type": "stream",
     "text": [
      "Money[y/n]y\n",
      "再问一个问题\n",
      "Handsome[y/n]y\n",
      "非常关键的一个问题\n",
      "wife[y/n]y\n",
      "不拒绝\n"
     ]
    }
   ],
   "source": [
    "money  = input('Money[y/n]')\n",
    "if money == 'y':\n",
    "    print('再问一个问题')\n",
    "    handsome = input('Handsome[y/n]')\n",
    "    if handsome == 'y':\n",
    "        print('非常关键的一个问题')\n",
    "        wife = input('wife[y/n]')\n",
    "        if wife == 'y':\n",
    "            print('不拒绝')\n",
    "        else:\n",
    "            print('马上结婚')\n",
    "    else:\n",
    "        print('考虑一下')\n",
    "else:\n",
    "    print('滚')"
   ]
  },
  {
   "cell_type": "markdown",
   "metadata": {},
   "source": [
    "## EP：\n",
    "- 用户输入一个数字，判断其实奇数还是偶数\n",
    "- 进阶：可以查看下4.5实例研究猜生日"
   ]
  },
  {
   "cell_type": "markdown",
   "metadata": {},
   "source": [
    "## 双向if-else 语句\n",
    "- 如果条件为真，那么走if内部语句，否则走else内部语句"
   ]
  },
  {
   "cell_type": "markdown",
   "metadata": {},
   "source": [
    "## EP：\n",
    "- 产生两个随机整数number1和number2，然后显示给用户，使用户输入数字，并判定其是否正确,如果正确打印“you‘re correct”，否则打印正确错误"
   ]
  },
  {
   "cell_type": "markdown",
   "metadata": {},
   "source": [
    "## 嵌套if 和多向if-elif-else\n",
    "![](../Photo/35.png)"
   ]
  },
  {
   "cell_type": "code",
   "execution_count": 41,
   "metadata": {},
   "outputs": [
    {
     "name": "stdout",
     "output_type": "stream",
     "text": [
      "钱?[0/1]0\n",
      "帅?[0/1]1\n",
      "老婆?[0/1]1\n",
      "滚\n"
     ]
    }
   ],
   "source": [
    "x1 = eval(input('钱?[0/1]'))\n",
    "x2 = eval(input('帅?[0/1]'))\n",
    "x3 = eval(input('老婆?[0/1]'))\n",
    "\n",
    "\n",
    "X = x1 + x2 + x3\n",
    "if X == 0:\n",
    "    print('滚')\n",
    "if X == 2:\n",
    "    if x1 == 0:\n",
    "        print('滚')\n",
    "    elif x2 == 0:\n",
    "        print('考虑一下')\n",
    "    elif  x3 == 0:\n",
    "        print('马上结婚')\n",
    "elif X == 3:\n",
    "    print('有老婆，考虑一下')"
   ]
  },
  {
   "cell_type": "code",
   "execution_count": 43,
   "metadata": {},
   "outputs": [
    {
     "name": "stdout",
     "output_type": "stream",
     "text": [
      "钱?[0/1]1\n",
      "帅?[0/1]1\n",
      "老婆?[0/1]1\n",
      "原配变小三\n"
     ]
    }
   ],
   "source": [
    "x1 = eval(input('钱?[0/1]'))\n",
    "if x1 == 1:\n",
    "    x2 = eval(input('帅?[0/1]'))\n",
    "    if  x2 == 1:\n",
    "        x3 = eval(input('老婆?[0/1]'))\n",
    "        if x3 ==1:\n",
    "            print('原配变小三')\n",
    "        elif x3 == 0:\n",
    "            print('马上结婚')\n",
    "    elif x2 == 0:\n",
    "        print('考虑一下')\n",
    "elif x1 == 0:\n",
    "    print('滚')"
   ]
  },
  {
   "cell_type": "markdown",
   "metadata": {},
   "source": [
    "## EP：\n",
    "- 提示用户输入一个年份，然后显示表示这一年的动物\n",
    "![](../Photo/36.png)\n",
    "- 计算身体质量指数的程序\n",
    "- BMI = 以千克为单位的体重除以以米为单位的身高的平方\n",
    "![](../Photo/37.png)"
   ]
  },
  {
   "cell_type": "code",
   "execution_count": 36,
   "metadata": {},
   "outputs": [
    {
     "name": "stdout",
     "output_type": "stream",
     "text": [
      "year1999\n",
      "rabbit\n"
     ]
    }
   ],
   "source": [
    "year = eval(input('year'))\n",
    "if year % 12 ==0:\n",
    "    print('monkey')\n",
    "elif year % 12 == 1:\n",
    "    print('鸡')\n",
    "elif year % 12 == 2:\n",
    "    print('dog')    \n",
    "elif year % 12 == 3:\n",
    "    print('pig')\n",
    "elif year % 12 == 4:\n",
    "    print('mouse')\n",
    "elif year % 12 == 5:\n",
    "    print('niu')\n",
    "elif year % 12 == 6:\n",
    "    print('tiger')\n",
    "elif year % 12 == 7:\n",
    "    print('rabbit')\n",
    "elif year % 12 == 8:\n",
    "    print('long')\n",
    "elif year % 12 == 9:\n",
    "    print('she')\n",
    "elif year % 12 == 10:\n",
    "    print('ma')\n",
    "elif year % 12 == 11:\n",
    "    print('sheep')\n"
   ]
  },
  {
   "cell_type": "code",
   "execution_count": 50,
   "metadata": {},
   "outputs": [
    {
     "name": "stdout",
     "output_type": "stream",
     "text": [
      "身高1.6\n",
      "体重53\n",
      "标准\n"
     ]
    }
   ],
   "source": [
    "high = eval(input('身高'))\n",
    "weigh = eval(input('体重'))\n",
    "BMI = weigh/high**2\n",
    "if BMI<18.5:\n",
    "    print('超轻')\n",
    "elif 18.5<=BMI<25:\n",
    "    print('标准')\n",
    "elif 25<=BMI<30:\n",
    "    print('超重')\n",
    "else:\n",
    "    print('超极胖胖')\n"
   ]
  },
  {
   "cell_type": "markdown",
   "metadata": {},
   "source": [
    "## 逻辑运算符\n",
    "![](../Photo/38.png)"
   ]
  },
  {
   "cell_type": "markdown",
   "metadata": {},
   "source": [
    "![](../Photo/39.png)\n",
    "![](../Photo/40.png)"
   ]
  },
  {
   "cell_type": "markdown",
   "metadata": {},
   "source": [
    "## EP：\n",
    "- 判定闰年：一个年份如果能被4整除但不能被100整除，或者能被400整除，那么这个年份就是闰年\n",
    "- 提示用户输入一个年份，并返回是否是闰年\n",
    "- 提示用户输入一个数字，判断其是否为水仙花数"
   ]
  },
  {
   "cell_type": "code",
   "execution_count": 53,
   "metadata": {},
   "outputs": [
    {
     "name": "stdout",
     "output_type": "stream",
     "text": [
      "请输入年份2008\n",
      "闰年\n"
     ]
    }
   ],
   "source": [
    "yg\n",
    "if ((year % 4 == 0) and (year % 100 != 0)) or (year % 400 ==0):\n",
    "    print('闰年')\n",
    "else:\n",
    "    print('平年')"
   ]
  },
  {
   "cell_type": "markdown",
   "metadata": {},
   "source": [
    "水仙花素：个十百三个数字三次方的和"
   ]
  },
  {
   "cell_type": "code",
   "execution_count": 59,
   "metadata": {},
   "outputs": [
    {
     "name": "stdout",
     "output_type": "stream",
     "text": [
      "请输入一个三位数153\n",
      "是水仙花数\n"
     ]
    }
   ],
   "source": [
    "number = eval(input('请输入一个三位数'))\n",
    "bai = number // 100\n",
    "shi = number // 10 % 10\n",
    "ge = number % 10\n",
    "if bai ** 3 + shi ** 3 + ge ** 3 == number:\n",
    "    print('是水仙花数')\n",
    "else:\n",
    "    print('不是水仙花数')"
   ]
  },
  {
   "cell_type": "code",
   "execution_count": null,
   "metadata": {},
   "outputs": [],
   "source": [
    "number = eval(input('请输入一个三位数'))\n",
    "bai = number // 100\n",
    "shi = number // 10 % 10\n",
    "ge = number % 10\n",
    "if bai ** 3 + shi ** 3 + ge ** 3 == number:\n",
    "    print（number）\n",
    "elif:\n",
    "    print()\n",
    "elif:\n",
    "    print()\n",
    "elif:\n",
    "    print('不是水仙花数')"
   ]
  },
  {
   "cell_type": "code",
   "execution_count": 61,
   "metadata": {},
   "outputs": [
    {
     "name": "stdout",
     "output_type": "stream",
     "text": [
      "153 水仙花\n",
      "370 水仙花\n",
      "371 水仙花\n",
      "407 水仙花\n",
      "1000 水仙花\n",
      "1001 水仙花\n"
     ]
    }
   ],
   "source": [
    "for number in range(100,10000):\n",
    "    bai = number // 100\n",
    "    shi = number // 10 % 10\n",
    "    ge = number % 10\n",
    "    if bai ** 3 + shi ** 3 + ge ** 3 == number:\n",
    "        print(number,'水仙花')\n",
    "    "
   ]
  },
  {
   "cell_type": "markdown",
   "metadata": {},
   "source": [
    "## 实例研究：彩票\n",
    "![](../Photo/41.png)"
   ]
  },
  {
   "cell_type": "code",
   "execution_count": 57,
   "metadata": {},
   "outputs": [],
   "source": [
    "import random"
   ]
  },
  {
   "cell_type": "code",
   "execution_count": 5,
   "metadata": {},
   "outputs": [
    {
     "name": "stdout",
     "output_type": "stream",
     "text": [
      "93\n"
     ]
    }
   ],
   "source": [
    "number1 = random.randint(10,99)\n",
    "print(number1)"
   ]
  },
  {
   "cell_type": "code",
   "execution_count": 11,
   "metadata": {},
   "outputs": [
    {
     "name": "stdout",
     "output_type": "stream",
     "text": [
      ">>24\n",
      "1000\n"
     ]
    }
   ],
   "source": [
    "N = input('>>')\n",
    "number_shi = number // 10\n",
    "number_ge = number % 10\n",
    "if N[0] == '0':\n",
    "    N_shi = 0\n",
    "else:\n",
    "    N_shi = int(N) // 10\n",
    "    N_ge = int(N) % 10\n",
    "if number1 == int(N):\n",
    "    print('10000')\n",
    "elif number_shi + number_ge == N_shi + N_ge:\n",
    "    print('3000')\n",
    "elif (number_ge == N_ge or number_ge == N_shi) or (number_shi == N_ge or number_shi == N_shi):\n",
    "    print('1000')"
   ]
  },
  {
   "cell_type": "code",
   "execution_count": null,
   "metadata": {},
   "outputs": [],
   "source": []
  },
  {
   "cell_type": "markdown",
   "metadata": {},
   "source": [
    "# Homework\n",
    "- 1\n",
    "![](../Photo/42.png)"
   ]
  },
  {
   "cell_type": "code",
   "execution_count": 1,
   "metadata": {},
   "outputs": [],
   "source": [
    "import math"
   ]
  },
  {
   "cell_type": "code",
   "execution_count": 7,
   "metadata": {},
   "outputs": [
    {
     "name": "stdout",
     "output_type": "stream",
     "text": [
      "请输入a值1\n",
      "请输入b值2.0\n",
      "请输入c值1\n",
      "The roots is -1.0\n"
     ]
    }
   ],
   "source": [
    "a = eval(input('请输入a值'))\n",
    "b = eval(input('请输入b值'))\n",
    "c = eval(input('请输入c值'))\n",
    "d = b ** 2 - 4 * a * c\n",
    "r1 = (-b + math.sqrt(d))/2 * a\n",
    "r2 = (-b - math.sqrt(d))/2 * a\n",
    "if d > 0 :\n",
    "    print('The roots are',r1,'and',r2)\n",
    "if d == 0:\n",
    "    print('The roots is',r1 or r2)\n",
    "if d < 0:\n",
    "    print('The equation has no real roots')       "
   ]
  },
  {
   "cell_type": "code",
   "execution_count": 39,
   "metadata": {},
   "outputs": [
    {
     "name": "stdout",
     "output_type": "stream",
     "text": [
      "请输入值1,2,3\n",
      "The equation has no real roots\n"
     ]
    }
   ],
   "source": [
    "a, b , c = eval(input('请输入值'))\n",
    "d = b ** 2 - 4 * a * c\n",
    "if d > 0:\n",
    "    r1 = (-b + math.sqrt(d))/2 * a\n",
    "    r2 = (-b - math.sqrt(d))/2 * a\n",
    "    print('The roots are',r1,'and',r2)\n",
    "if d == 0:\n",
    "    r1 = (-b + math.sqrt(d))/2 * a\n",
    "    r2 = (-b - math.sqrt(d))/2 * a\n",
    "    print('The roots is',r1 or r2)\n",
    "if d < 0:\n",
    "    print('The equation has no real roots')  \n",
    "    "
   ]
  },
  {
   "cell_type": "markdown",
   "metadata": {},
   "source": [
    "- 2\n",
    "![](../Photo/43.png)"
   ]
  },
  {
   "cell_type": "code",
   "execution_count": 28,
   "metadata": {},
   "outputs": [],
   "source": [
    "import random"
   ]
  },
  {
   "cell_type": "code",
   "execution_count": 29,
   "metadata": {},
   "outputs": [],
   "source": [
    "number1 = random.randint(0,100)\n",
    "number2 = random.randint(0,100)\n",
    "n = number1 + number2"
   ]
  },
  {
   "cell_type": "code",
   "execution_count": 30,
   "metadata": {},
   "outputs": [
    {
     "name": "stdout",
     "output_type": "stream",
     "text": [
      "请输入两数之和65\n",
      "101\n",
      "False\n"
     ]
    }
   ],
   "source": [
    "a = eval(input('请输入两数之和'))\n",
    "print(n)\n",
    "if a == n:\n",
    "    print('True')\n",
    "else:\n",
    "    print('False')"
   ]
  },
  {
   "cell_type": "markdown",
   "metadata": {},
   "source": [
    "- 3\n",
    "![](../Photo/44.png)"
   ]
  },
  {
   "cell_type": "code",
   "execution_count": 3,
   "metadata": {},
   "outputs": [
    {
     "name": "stdout",
     "output_type": "stream",
     "text": [
      "星期1\n",
      "未来天数3\n",
      "Today is 1 and the future day is 4\n"
     ]
    }
   ],
   "source": [
    "today = eval(input('星期'))\n",
    "future = eval(input('未来天数'))\n",
    "if today == 0:\n",
    "    y = future % 7 + today\n",
    "    print('Today is',today ,'and the future day is',y)\n",
    "if today == 1:\n",
    "    y = future % 7 + today\n",
    "    print('Today is',today ,'and the future day is',y)\n",
    "if today == 2:\n",
    "    y = future % 7 + today\n",
    "    print('Today is',today ,'and the future day is',y)\n",
    "if today == 3:\n",
    "    y = future % 7 + today\n",
    "    print('Today is',today ,'and the future day is',y)\n",
    "if today == 4:\n",
    "    y = future % 7 + today\n",
    "    print('Today is',today ,'and the future day is',y)\n",
    "if today == 5:\n",
    "    y = future % 7 + today\n",
    "    print('Today is',today ,'and the future day is',y)\n",
    "if today == 6:\n",
    "    y = future % 7 + today\n",
    "    print('Today is',today,'and the future day is',y)"
   ]
  },
  {
   "cell_type": "markdown",
   "metadata": {},
   "source": [
    "- 4\n",
    "![](../Photo/45.png)"
   ]
  },
  {
   "cell_type": "code",
   "execution_count": 21,
   "metadata": {},
   "outputs": [
    {
     "name": "stdout",
     "output_type": "stream",
     "text": [
      "第一整数5\n",
      "第二个整数9\n",
      "第三个整数2\n",
      "2 5 9\n"
     ]
    }
   ],
   "source": [
    "x = eval(input('第一整数'))\n",
    "y = eval(input('第二个整数'))\n",
    "z = eval(input('第三个整数'))\n",
    "if y > x:\n",
    "    min = x\n",
    "    if z > y:\n",
    "        max = z\n",
    "        mid = y\n",
    "    elif(x<z and z<y):\n",
    "        max = y\n",
    "        mid = z\n",
    "    elif(x>z):\n",
    "        min = z\n",
    "        mid = x\n",
    "        max = y\n",
    "    elif(x>y):\n",
    "        min = y\n",
    "        mid = z\n",
    "        max = x\n",
    "    elif(y>z):\n",
    "        min = z\n",
    "        mid = y\n",
    "    elif(z<x and z>y):\n",
    "        mid = z\n",
    "        min = y\n",
    "print(min,mid,max)\n",
    "    "
   ]
  },
  {
   "cell_type": "code",
   "execution_count": 8,
   "metadata": {
    "scrolled": true
   },
   "outputs": [
    {
     "name": "stdout",
     "output_type": "stream",
     "text": [
      "输入三个整数89,54,101\n",
      "54 89 101\n"
     ]
    }
   ],
   "source": [
    "x,y,z = eval(input('输入三个整数'))\n",
    "if (x>y>z):\n",
    "    print(z,y,x)\n",
    "if (x>z>y):\n",
    "    print(y,z,x)\n",
    "if (y>x>z):\n",
    "    print(z,x,y)\n",
    "if (y>z>x):\n",
    "    print(x,z,y)\n",
    "if (z>x>y):\n",
    "    print(y,x,z)\n",
    "if (z>y>x):\n",
    "    print(x,y,z)\n"
   ]
  },
  {
   "cell_type": "markdown",
   "metadata": {},
   "source": [
    "- 5\n",
    "![](../Photo/46.png)"
   ]
  },
  {
   "cell_type": "code",
   "execution_count": 5,
   "metadata": {},
   "outputs": [
    {
     "name": "stdout",
     "output_type": "stream",
     "text": [
      "请输入重量50\n",
      "请输入价钱24.59\n",
      "请输入重量25\n",
      "请输入价钱11.99\n",
      "Package2 has the better price\n"
     ]
    }
   ],
   "source": [
    "x1 = eval(input('请输入重量'))\n",
    "x2 = eval(input('请输入价钱'))\n",
    "y1 = eval(input('请输入重量'))\n",
    "y2 = eval(input('请输入价钱'))\n",
    "a = x1 / x2\n",
    "b = y1 / y2\n",
    "c = a/b\n",
    "if c>1 :\n",
    "    print('Package1 has the better price')\n",
    "else :\n",
    "    print('Package2 has the better price')\n"
   ]
  },
  {
   "cell_type": "markdown",
   "metadata": {},
   "source": [
    "- 6\n",
    "![](../Photo/47.png)"
   ]
  },
  {
   "cell_type": "code",
   "execution_count": 48,
   "metadata": {},
   "outputs": [
    {
     "ename": "SyntaxError",
     "evalue": "invalid character in identifier (<ipython-input-48-050f3044e86c>, line 7)",
     "output_type": "error",
     "traceback": [
      "\u001b[1;36m  File \u001b[1;32m\"<ipython-input-48-050f3044e86c>\"\u001b[1;36m, line \u001b[1;32m7\u001b[0m\n\u001b[1;33m    print(year ,'年'，month ,'月','有29天')\u001b[0m\n\u001b[1;37m                        ^\u001b[0m\n\u001b[1;31mSyntaxError\u001b[0m\u001b[1;31m:\u001b[0m invalid character in identifier\n"
     ]
    }
   ],
   "source": [
    "month = eval(input('请输入月份'))\n",
    "year = eval(input('请输入年份'))\n",
    "if ((year % 4 == 0) and (year % 100 != 0)) or(year % 400 == 0):\n",
    "    if month <= 7:\n",
    "        if month % 2 == 0:\n",
    "            if month == 2:\n",
    "                print(year ,'年'，month ,'月','有29天')\n",
    "            else:\n",
    "                print(year,'年'，month ,'月'，'有30天')\n",
    "        else:\n",
    "                print(year,'年'，month ,'月'，'有31天')\n",
    "    else:\n",
    "        if month % 2 == 0:\n",
    "            print(year,'年'，month ,'月'，'有31天')\n",
    "        else:\n",
    "            print(year,'年'，month ,'月'，'有30天')\n",
    "else:\n",
    "     if month <= 7:\n",
    "        if month % 2 == 0:\n",
    "            if month == 2:\n",
    "                print(year,'年'，month ,'月'，'有28天')\n",
    "            else:\n",
    "                print(year,'年'，month ,'月'，'有30天')\n",
    "        else:\n",
    "                print(year,'年'，month ,'月'，'有31天')\n",
    "        else:\n",
    "        if month % 2 == 0:\n",
    "            print(year,'年'，month ,'月'，'有31天')\n",
    "        else:\n",
    "            print(year,'年'，month ,'月'，'有30天')"
   ]
  },
  {
   "cell_type": "markdown",
   "metadata": {},
   "source": [
    "- 7\n",
    "![](../Photo/48.png)"
   ]
  },
  {
   "cell_type": "code",
   "execution_count": 9,
   "metadata": {},
   "outputs": [],
   "source": [
    "import random"
   ]
  },
  {
   "cell_type": "code",
   "execution_count": 10,
   "metadata": {},
   "outputs": [],
   "source": [
    "x = random.randint(0,1)"
   ]
  },
  {
   "cell_type": "code",
   "execution_count": 17,
   "metadata": {},
   "outputs": [
    {
     "name": "stdout",
     "output_type": "stream",
     "text": [
      "请输入猜测数字 正面为0，反面为1   猜测数字为0\n",
      "true\n",
      "0\n"
     ]
    }
   ],
   "source": [
    "y = eval(input('请输入猜测数字 正面为0，反面为1   猜测数字为'))\n",
    "if x == y:\n",
    "    print('true')\n",
    "else:\n",
    "    print('false')\n",
    "print(x)"
   ]
  },
  {
   "cell_type": "markdown",
   "metadata": {},
   "source": [
    "- 8\n",
    "![](../Photo/49.png)"
   ]
  },
  {
   "cell_type": "code",
   "execution_count": 19,
   "metadata": {},
   "outputs": [],
   "source": [
    "computer = random.randint(0,2)"
   ]
  },
  {
   "cell_type": "code",
   "execution_count": 20,
   "metadata": {},
   "outputs": [
    {
     "name": "stdout",
     "output_type": "stream",
     "text": [
      "scissor(0),rock(1),paper(2)0\n",
      "The computer is 2 My is 0 computer won\n"
     ]
    }
   ],
   "source": [
    "my = eval(input('scissor(0),rock(1),paper(2)'))\n",
    "if computer > my:\n",
    "    print('The computer is',computer ,'My is',my,'computer won')\n",
    "if computer < my:\n",
    "    print('The computer is',computer ,'My is',my,'my won')\n",
    "if computer == my:\n",
    "    print('The computer is',computer ,'My is',my,'It is draw')"
   ]
  },
  {
   "cell_type": "markdown",
   "metadata": {},
   "source": [
    "- 9\n",
    "![](../Photo/50.png)"
   ]
  },
  {
   "cell_type": "code",
   "execution_count": 4,
   "metadata": {},
   "outputs": [
    {
     "name": "stdout",
     "output_type": "stream",
     "text": [
      "请输入年份2013\n",
      "请输入月份1\n",
      "请输入月份的那一天25\n"
     ]
    },
    {
     "ename": "TypeError",
     "evalue": "unsupported operand type(s) for +: 'int' and 'list'",
     "output_type": "error",
     "traceback": [
      "\u001b[1;31m---------------------------------------------------------------------------\u001b[0m",
      "\u001b[1;31mTypeError\u001b[0m                                 Traceback (most recent call last)",
      "\u001b[1;32m<ipython-input-4-91ef9d0cd830>\u001b[0m in \u001b[0;36m<module>\u001b[1;34m\u001b[0m\n\u001b[0;32m      7\u001b[0m \u001b[0mx\u001b[0m \u001b[1;33m=\u001b[0m \u001b[0mk\u001b[0m\u001b[1;33m/\u001b[0m\u001b[1;36m4\u001b[0m\u001b[1;33m\u001b[0m\u001b[1;33m\u001b[0m\u001b[0m\n\u001b[0;32m      8\u001b[0m \u001b[0my\u001b[0m \u001b[1;33m=\u001b[0m \u001b[0mj\u001b[0m\u001b[1;33m/\u001b[0m\u001b[1;36m4\u001b[0m\u001b[1;33m\u001b[0m\u001b[1;33m\u001b[0m\u001b[0m\n\u001b[1;32m----> 9\u001b[1;33m \u001b[0mh\u001b[0m \u001b[1;33m=\u001b[0m \u001b[1;33m(\u001b[0m\u001b[0mday\u001b[0m \u001b[1;33m+\u001b[0m \u001b[1;33m[\u001b[0m\u001b[0ma\u001b[0m\u001b[1;33m]\u001b[0m \u001b[1;33m+\u001b[0m \u001b[0mk\u001b[0m \u001b[1;33m+\u001b[0m \u001b[1;33m[\u001b[0m\u001b[0mx\u001b[0m\u001b[1;33m]\u001b[0m \u001b[1;33m+\u001b[0m \u001b[1;33m[\u001b[0m\u001b[0my\u001b[0m\u001b[1;33m]\u001b[0m \u001b[1;33m+\u001b[0m \u001b[1;36m5\u001b[0m\u001b[1;33m*\u001b[0m\u001b[1;33m[\u001b[0m\u001b[0mj\u001b[0m\u001b[1;33m]\u001b[0m\u001b[1;33m)\u001b[0m \u001b[1;33m%\u001b[0m \u001b[1;36m7\u001b[0m\u001b[1;33m\u001b[0m\u001b[1;33m\u001b[0m\u001b[0m\n\u001b[0m\u001b[0;32m     10\u001b[0m \u001b[0mprint\u001b[0m\u001b[1;33m(\u001b[0m\u001b[0mh\u001b[0m\u001b[1;33m)\u001b[0m\u001b[1;33m\u001b[0m\u001b[1;33m\u001b[0m\u001b[0m\n",
      "\u001b[1;31mTypeError\u001b[0m: unsupported operand type(s) for +: 'int' and 'list'"
     ]
    }
   ],
   "source": [
    "year = eval(input('请输入年份'))\n",
    "month = eval(input('请输入月份'))\n",
    "day = eval(input('请输入月份的那一天'))\n",
    "a = 26*(month+1)/10\n",
    "j = year/100\n",
    "k = year % 100\n",
    "x = k/4\n",
    "y = j/4\n",
    "h = (day + [a] + k + [x] + [y] + 5*[j]) % 7\n",
    "print(h)"
   ]
  },
  {
   "cell_type": "markdown",
   "metadata": {},
   "source": [
    "- 10\n",
    "![](../Photo/51.png)"
   ]
  },
  {
   "cell_type": "code",
   "execution_count": 56,
   "metadata": {},
   "outputs": [
    {
     "name": "stdout",
     "output_type": "stream",
     "text": [
      "1-52任意选一张34\n",
      "方块\n",
      "8\n"
     ]
    }
   ],
   "source": [
    "x = eval(input('1-52任意选一张'))\n",
    "y = x % 13\n",
    "z = x // 13\n",
    "if y ==0:\n",
    "    if z == 0:\n",
    "        print('梅花')\n",
    "    if z == 1 :\n",
    "        print('红桃')\n",
    "    if z == 2:\n",
    "        print('方块')\n",
    "    if z == 3 :\n",
    "        print('黑桃')\n",
    "    print('Ace')\n",
    "if y ==10:\n",
    "    if z == 0:\n",
    "        print('梅花')\n",
    "    if z == 1 :\n",
    "        print('红桃')\n",
    "    if z == 2:\n",
    "        print('方块')\n",
    "    if z == 3 :\n",
    "        print('黑桃')\n",
    "    print('Jack')\n",
    "if y ==11:\n",
    "    if z == 0:\n",
    "        print('梅花')\n",
    "    if z == 1 :\n",
    "        print('红桃')\n",
    "    if z == 2:\n",
    "        print('方块')\n",
    "    if z == 3 :\n",
    "        print('黑桃')\n",
    "    print('Queen')\n",
    "if y ==12:\n",
    "    if z == 0:\n",
    "        print('梅花')\n",
    "    if z == 1 :\n",
    "        print('红桃')\n",
    "    if z == 2:\n",
    "        print('方块')\n",
    "    if z == 3 :\n",
    "        print('黑桃')\n",
    "    print('King')\n",
    "elif 1 <= y <= 10:\n",
    "    if z == 0:\n",
    "        print('梅花')\n",
    "    if z == 1 :\n",
    "        print('红桃')\n",
    "    if z == 2:\n",
    "        print('方块')\n",
    "    if z == 3 :\n",
    "        print('黑桃')\n",
    "    print(y)\n",
    "\n",
    "    "
   ]
  },
  {
   "cell_type": "code",
   "execution_count": 12,
   "metadata": {},
   "outputs": [],
   "source": [
    "import random"
   ]
  },
  {
   "cell_type": "code",
   "execution_count": 16,
   "metadata": {},
   "outputs": [],
   "source": [
    "color = random.randint(0,4)\n",
    "number = random.randint(0,12)"
   ]
  },
  {
   "cell_type": "code",
   "execution_count": 17,
   "metadata": {},
   "outputs": [
    {
     "name": "stdout",
     "output_type": "stream",
     "text": [
      "红桃10\n"
     ]
    }
   ],
   "source": [
    "result = ['黑桃','红桃','方块','梅花']\n",
    "card = ['A','2','3','4','5','6','7','8','9','10','Jack','Queen','King']\n",
    "print(result[color]+card[number])"
   ]
  },
  {
   "cell_type": "code",
   "execution_count": 22,
   "metadata": {},
   "outputs": [
    {
     "name": "stdout",
     "output_type": "stream",
     "text": [
      "请输入任意一张扑克23\n",
      "梅花9\n"
     ]
    }
   ],
   "source": [
    "x = eval(input('请输入任意一张扑克'))\n",
    "color = random.randint(0,4)\n",
    "number = random.randint(0,12)\n",
    "result = ['黑桃','红桃','方块','梅花']\n",
    "card = ['A','2','3','4','5','6','7','8','9','10','Jack','Queen','King']\n",
    "y = result[color]+card[number]\n",
    "print(y)"
   ]
  },
  {
   "cell_type": "markdown",
   "metadata": {},
   "source": [
    "- 11\n",
    "![](../Photo/52.png)"
   ]
  },
  {
   "cell_type": "code",
   "execution_count": null,
   "metadata": {},
   "outputs": [],
   "source": []
  },
  {
   "cell_type": "code",
   "execution_count": 23,
   "metadata": {},
   "outputs": [
    {
     "name": "stdout",
     "output_type": "stream",
     "text": [
      "请输入一个三位整数123\n",
      "123 is not a palindrome\n"
     ]
    }
   ],
   "source": [
    "x = eval(input('请输入一个三位整数'))\n",
    "if x % 10 == x // 100:\n",
    "    print(x, 'is a palindrome')\n",
    "else:\n",
    "    print(x,'is not a palindrome')"
   ]
  },
  {
   "cell_type": "markdown",
   "metadata": {},
   "source": [
    "- 12\n",
    "![](../Photo/53.png)"
   ]
  },
  {
   "cell_type": "code",
   "execution_count": 27,
   "metadata": {},
   "outputs": [
    {
     "name": "stdout",
     "output_type": "stream",
     "text": [
      "请输入三角形三条边1,1,1\n",
      "3\n"
     ]
    }
   ],
   "source": [
    "a , b , c = eval(input('请输入三角形三条边'))\n",
    "if (a + b > c) and (b + c > a) and (a + c > b):\n",
    "    print(a+b+c)\n",
    "else:\n",
    "    print('输入的不合法')"
   ]
  },
  {
   "cell_type": "code",
   "execution_count": null,
   "metadata": {},
   "outputs": [],
   "source": []
  }
 ],
 "metadata": {
  "kernelspec": {
   "display_name": "Python 3",
   "language": "python",
   "name": "python3"
  },
  "language_info": {
   "codemirror_mode": {
    "name": "ipython",
    "version": 3
   },
   "file_extension": ".py",
   "mimetype": "text/x-python",
   "name": "python",
   "nbconvert_exporter": "python",
   "pygments_lexer": "ipython3",
   "version": "3.7.3"
  }
 },
 "nbformat": 4,
 "nbformat_minor": 2
}
